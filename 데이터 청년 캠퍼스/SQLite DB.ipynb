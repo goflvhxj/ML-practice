{
 "cells": [
  {
   "cell_type": "markdown",
   "id": "3809d6fd",
   "metadata": {},
   "source": [
    "# Python 객체를 통해 DBMS로 DB관리\n",
    "\n",
    "Python(execute*) -> DBMS -> DB   \n",
    "1. Connection 생성  \n",
    "2. Cursor를 부여받아 작업  \n",
    "\n",
    "  \n",
    "  \n",
    "<br/>\n",
    "    \n",
    "# SQLite : local file에 나 혼자 작업하는 DB"
   ]
  },
  {
   "cell_type": "markdown",
   "id": "6d6fc0ce",
   "metadata": {},
   "source": [
    "## 1. SQL 가장 간단한 예제"
   ]
  },
  {
   "cell_type": "code",
   "execution_count": 1,
   "id": "1e051740",
   "metadata": {},
   "outputs": [],
   "source": [
    "import sqlite3"
   ]
  },
  {
   "cell_type": "code",
   "execution_count": 2,
   "id": "ed72d3ce",
   "metadata": {},
   "outputs": [],
   "source": [
    "con = sqlite3.connect(':memory:')\n",
    "cur = con.cursor()"
   ]
  },
  {
   "cell_type": "code",
   "execution_count": 6,
   "id": "4d984a2c",
   "metadata": {},
   "outputs": [
    {
     "data": {
      "text/plain": [
       "(sqlite3.Connection, sqlite3.Cursor)"
      ]
     },
     "execution_count": 6,
     "metadata": {},
     "output_type": "execute_result"
    }
   ],
   "source": [
    "type(con), type(cur)"
   ]
  },
  {
   "cell_type": "code",
   "execution_count": 8,
   "id": "5041f6db",
   "metadata": {},
   "outputs": [
    {
     "data": {
      "text/plain": [
       "[]"
      ]
     },
     "execution_count": 8,
     "metadata": {},
     "output_type": "execute_result"
    }
   ],
   "source": [
    "# TABLE 생성\n",
    "cur.execute('''\n",
    "    CREATE TABLE CITY(\n",
    "        CNO   INTEGER PRIMARY KEY,\n",
    "        CNAME TEXT\n",
    "    );\n",
    "''')\n",
    "\n",
    "# TABLE 확인\n",
    "cur.execute('SELECT * FROM CITY')\n",
    "cur.fetchall()"
   ]
  },
  {
   "cell_type": "code",
   "execution_count": 12,
   "id": "0dd97ef5",
   "metadata": {},
   "outputs": [
    {
     "data": {
      "text/plain": [
       "[(1, '성동구'), (2, '동대문구'), (3, '강동구'), (4, '강북구')]"
      ]
     },
     "execution_count": 12,
     "metadata": {},
     "output_type": "execute_result"
    }
   ],
   "source": [
    "# data 삽입\n",
    "cur.execute('''\n",
    "    INSERT INTO CITY(CNO, CNAME) VALUES(NULL, '강북구')\n",
    "''')\n",
    "\n",
    "# TABLE 확인\n",
    "cur.execute('SELECT * FROM CITY')\n",
    "cur.fetchall()"
   ]
  },
  {
   "cell_type": "code",
   "execution_count": 13,
   "id": "e910ece8",
   "metadata": {},
   "outputs": [
    {
     "data": {
      "text/plain": [
       "4"
      ]
     },
     "execution_count": 13,
     "metadata": {},
     "output_type": "execute_result"
    }
   ],
   "source": [
    "# 가장 마지막에 추가된 row id\n",
    "cur.lastrowid"
   ]
  },
  {
   "cell_type": "code",
   "execution_count": 14,
   "id": "fd29f3c0",
   "metadata": {},
   "outputs": [],
   "source": [
    "# DB 연결 종료\n",
    "con.close()"
   ]
  },
  {
   "cell_type": "markdown",
   "id": "ea822bf6",
   "metadata": {},
   "source": [
    "<br/>\n",
    "\n",
    "## 2. SQL 파라미터 전달 방법(qmark, named style) 이용하여 DB 생성"
   ]
  },
  {
   "cell_type": "code",
   "execution_count": 17,
   "id": "eafe167f",
   "metadata": {},
   "outputs": [],
   "source": [
    "con = sqlite3.connect(':memory:')\n",
    "cur = con.cursor()"
   ]
  },
  {
   "cell_type": "code",
   "execution_count": 18,
   "id": "d4a4eecf",
   "metadata": {},
   "outputs": [
    {
     "data": {
      "text/plain": [
       "[]"
      ]
     },
     "execution_count": 18,
     "metadata": {},
     "output_type": "execute_result"
    }
   ],
   "source": [
    "# DB 생성\n",
    "cur.execute('''\n",
    "    CREATE TABLE CITY(\n",
    "        CNO   INTEGER PRIMARY KEY,\n",
    "        CNAME TEXT\n",
    "    )\n",
    "''')\n",
    "\n",
    "# 확인\n",
    "cur.execute('SELECT * FROM CITY')\n",
    "cur.fetchall()"
   ]
  },
  {
   "cell_type": "code",
   "execution_count": 19,
   "id": "d77f6ef9",
   "metadata": {},
   "outputs": [
    {
     "data": {
      "text/plain": [
       "[(1, '강동구'), (2, '동대문구'), (3, '강북구')]"
      ]
     },
     "execution_count": 19,
     "metadata": {},
     "output_type": "execute_result"
    }
   ],
   "source": [
    "# 데이터 삽입1 : 기본적인 3가지 방법\n",
    "\n",
    "# 변수 명시\n",
    "cur.execute('''\n",
    "    INSERT INTO CITY(CNO, CNAME) VALUES(1, '강동구')\n",
    "''')\n",
    "\n",
    "# pk인 CNO는 지정 안해도 자동으로 들어감\n",
    "cur.execute('''\n",
    "    INSERT INTO CITY(CNAME) VALUES('동대문구')\n",
    "''')\n",
    "\n",
    "# pk 자리에 NULL 집어넣어도 autoincrement 됨\n",
    "cur.execute('''\n",
    "    INSERT INTO CITY VALUES(NULL, '강북구')\n",
    "''')\n",
    "\n",
    "# DB 확인\n",
    "cur.execute('SELECT * FROM CITY')\n",
    "cur.fetchall()"
   ]
  },
  {
   "cell_type": "code",
   "execution_count": 20,
   "id": "e5cc9532",
   "metadata": {},
   "outputs": [
    {
     "data": {
      "text/plain": [
       "3"
      ]
     },
     "execution_count": 20,
     "metadata": {},
     "output_type": "execute_result"
    }
   ],
   "source": [
    "# 가장 마지막에 추가된 row id\n",
    "cur.lastrowid"
   ]
  },
  {
   "cell_type": "markdown",
   "id": "fe4db788",
   "metadata": {},
   "source": [
    "### 1) excute : 단일 SQL만 실행 => Iterable한 객체 - 단일 데이터에 대한 Attributes"
   ]
  },
  {
   "cell_type": "code",
   "execution_count": 26,
   "id": "bdbb7346",
   "metadata": {},
   "outputs": [
    {
     "data": {
      "text/plain": [
       "<sqlite3.Cursor at 0x1dc8cfbece0>"
      ]
     },
     "execution_count": 26,
     "metadata": {},
     "output_type": "execute_result"
    }
   ],
   "source": [
    "# 데이터 삽입2 : qmark 방식\n",
    "cur.execute('INSERT INTO CITY(CNAME) VALUES(?)', (5, '강남구'))"
   ]
  },
  {
   "cell_type": "code",
   "execution_count": 27,
   "id": "68fe045b",
   "metadata": {},
   "outputs": [
    {
     "data": {
      "text/plain": [
       "[(1, '강동구'), (2, '동대문구'), (3, '강북구'), (4, '중구'), (5, '강남구')]"
      ]
     },
     "execution_count": 27,
     "metadata": {},
     "output_type": "execute_result"
    }
   ],
   "source": [
    "# DB 확인\n",
    "cur.execute('SELECT * FROM CITY')\n",
    "cur.fetchall()"
   ]
  },
  {
   "cell_type": "code",
   "execution_count": 30,
   "id": "fb77bb88",
   "metadata": {},
   "outputs": [
    {
     "data": {
      "text/plain": [
       "[(1, '강동구'),\n",
       " (2, '동대문구'),\n",
       " (3, '강북구'),\n",
       " (4, '중구'),\n",
       " (5, '강남구'),\n",
       " (6, '서초구'),\n",
       " (7, '중랑구'),\n",
       " (8, '강서구')]"
      ]
     },
     "execution_count": 30,
     "metadata": {},
     "output_type": "execute_result"
    }
   ],
   "source": [
    "# 데이터 삽입3 : named 방식\n",
    "cur.execute('INSERT INTO CITY(CNAME) VALUES(:key)', {'key':'강서구'})\n",
    "\n",
    "# DB 확인\n",
    "cur.execute('SELECT * FROM CITY')\n",
    "cur.fetchall()"
   ]
  },
  {
   "cell_type": "code",
   "execution_count": 31,
   "id": "fcaecf1a",
   "metadata": {},
   "outputs": [
    {
     "data": {
      "text/plain": [
       "8"
      ]
     },
     "execution_count": 31,
     "metadata": {},
     "output_type": "execute_result"
    }
   ],
   "source": [
    "cur.lastrowid"
   ]
  },
  {
   "cell_type": "markdown",
   "id": "9e97681a",
   "metadata": {},
   "source": [
    "<br/>  \n",
    "\n",
    "### 2) excutemany : 단일 SQL문을 여러 번 실행 => Iterable(Iterable)한 형태 - 여러 데이터에 대한 Attributes"
   ]
  },
  {
   "cell_type": "code",
   "execution_count": 32,
   "id": "ba2527b9",
   "metadata": {},
   "outputs": [
    {
     "data": {
      "text/plain": [
       "[(1, '강동구'),\n",
       " (2, '동대문구'),\n",
       " (3, '강북구'),\n",
       " (4, '중구'),\n",
       " (5, '강남구'),\n",
       " (6, '서초구'),\n",
       " (7, '중랑구'),\n",
       " (8, '강서구'),\n",
       " (9, '성북구1'),\n",
       " (10, '성북구2'),\n",
       " (11, '성북구3')]"
      ]
     },
     "execution_count": 32,
     "metadata": {},
     "output_type": "execute_result"
    }
   ],
   "source": [
    "# qmark 방식\n",
    "cur.executemany('INSERT INTO CITY(CNAME) VALUES(?)', [('성북구1',),('성북구2',),('성북구3',)])\n",
    "\n",
    "# DB 확인\n",
    "cur.execute('SELECT * FROM CITY')\n",
    "cur.fetchall()"
   ]
  },
  {
   "cell_type": "code",
   "execution_count": 35,
   "id": "e24e3cb1",
   "metadata": {},
   "outputs": [
    {
     "data": {
      "text/plain": [
       "[(1, '강동구'),\n",
       " (2, '동대문구'),\n",
       " (3, '강북구'),\n",
       " (4, '중구'),\n",
       " (5, '강남구'),\n",
       " (6, '서초구'),\n",
       " (7, '중랑구'),\n",
       " (8, '강서구'),\n",
       " (9, '성북구1'),\n",
       " (10, '성북구2'),\n",
       " (11, '성북구3'),\n",
       " (12, '성북구4'),\n",
       " (13, '성북구5'),\n",
       " (14, '성북구6')]"
      ]
     },
     "execution_count": 35,
     "metadata": {},
     "output_type": "execute_result"
    }
   ],
   "source": [
    "# named 방식\n",
    "cur.executemany('INSERT INTO CITY(CNAME) VALUES(:key)', [('성북구4',),('성북구5',),('성북구6',)])\n",
    "\n",
    "# DB 확인\n",
    "cur.execute('SELECT * FROM CITY')\n",
    "cur.fetchall()"
   ]
  },
  {
   "cell_type": "markdown",
   "id": "96c5b2a6",
   "metadata": {},
   "source": [
    "#### executemany 잘못 사용\n",
    "\n",
    "밑의 경우처럼 사용시 성,북,구,7 이렇게 따로 저장하고 싶다면 VALUES(?,?,?,?) 이런식으로 코드를 작성해야함"
   ]
  },
  {
   "cell_type": "code",
   "execution_count": 42,
   "id": "87c14e43",
   "metadata": {},
   "outputs": [
    {
     "ename": "OperationalError",
     "evalue": "4 values for 1 columns",
     "output_type": "error",
     "traceback": [
      "\u001b[1;31m---------------------------------------------------------------------------\u001b[0m",
      "\u001b[1;31mOperationalError\u001b[0m                          Traceback (most recent call last)",
      "Input \u001b[1;32mIn [42]\u001b[0m, in \u001b[0;36m<cell line: 3>\u001b[1;34m()\u001b[0m\n\u001b[0;32m      1\u001b[0m \u001b[38;5;66;03m# 잘못된 경우\u001b[39;00m\n\u001b[1;32m----> 3\u001b[0m \u001b[43mcur\u001b[49m\u001b[38;5;241;43m.\u001b[39;49m\u001b[43mexecutemany\u001b[49m\u001b[43m(\u001b[49m\u001b[38;5;124;43m'\u001b[39;49m\u001b[38;5;124;43mINSERT INTO CITY(CNAME) VALUES(?,?,?,?)\u001b[39;49m\u001b[38;5;124;43m'\u001b[39;49m\u001b[43m,\u001b[49m\u001b[43m \u001b[49m\u001b[43m(\u001b[49m\u001b[38;5;124;43m'\u001b[39;49m\u001b[38;5;124;43m성북구7\u001b[39;49m\u001b[38;5;124;43m'\u001b[39;49m\u001b[43m,\u001b[49m\u001b[43m)\u001b[49m\u001b[43m)\u001b[49m\n\u001b[0;32m      5\u001b[0m \u001b[38;5;66;03m# DB 확인\u001b[39;00m\n\u001b[0;32m      6\u001b[0m cur\u001b[38;5;241m.\u001b[39mexecute(\u001b[38;5;124m'\u001b[39m\u001b[38;5;124mSELECT * FROM CITY\u001b[39m\u001b[38;5;124m'\u001b[39m)\n",
      "\u001b[1;31mOperationalError\u001b[0m: 4 values for 1 columns"
     ]
    }
   ],
   "source": [
    "# 잘못된 경우\n",
    "\n",
    "cur.executemany('INSERT INTO CITY(CNAME) VALUES(?)', ('성북구7',))\n",
    "\n",
    "# DB 확인\n",
    "cur.execute('SELECT * FROM CITY')\n",
    "cur.fetchall()"
   ]
  },
  {
   "cell_type": "markdown",
   "id": "bc51257a",
   "metadata": {},
   "source": [
    "<br/> \n",
    "\n",
    "### 3) executescript : 비표준, 여러 SQL문을 실행 => 문(statement) 끝마다 ; 필요"
   ]
  },
  {
   "cell_type": "code",
   "execution_count": 43,
   "id": "6c78989c",
   "metadata": {},
   "outputs": [
    {
     "data": {
      "text/plain": [
       "[(1, '강동구'),\n",
       " (2, '동대문구'),\n",
       " (3, '강북구'),\n",
       " (4, '중구'),\n",
       " (5, '강남구'),\n",
       " (6, '서초구'),\n",
       " (7, '중랑구'),\n",
       " (8, '강서구'),\n",
       " (9, '성북구1'),\n",
       " (10, '성북구2'),\n",
       " (11, '성북구3'),\n",
       " (12, '성북구4'),\n",
       " (13, '성북구5'),\n",
       " (14, '성북구6'),\n",
       " (15, '성동구7'),\n",
       " (16, '성동구8'),\n",
       " (17, '성동구9'),\n",
       " (18, '성동구10')]"
      ]
     },
     "execution_count": 43,
     "metadata": {},
     "output_type": "execute_result"
    }
   ],
   "source": [
    "cur.executescript('''\n",
    "    INSERT INTO CITY(CNAME) VALUES('성동구7');\n",
    "    INSERT INTO CITY(CNAME) VALUES('성동구8');\n",
    "    INSERT INTO CITY(CNAME) VALUES('성동구9');\n",
    "    INSERT INTO CITY(CNAME) VALUES('성동구10');\n",
    "''')\n",
    "\n",
    "# DB 확인\n",
    "cur.execute('SELECT * FROM CITY')\n",
    "cur.fetchall()"
   ]
  },
  {
   "cell_type": "code",
   "execution_count": 45,
   "id": "751bdda2",
   "metadata": {},
   "outputs": [],
   "source": [
    "# DB 연결 종료\n",
    "con.close()"
   ]
  },
  {
   "cell_type": "markdown",
   "id": "b99bf6b7",
   "metadata": {},
   "source": [
    "<BR/>\n",
    "\n",
    "## 3. File로 DB 생성"
   ]
  },
  {
   "cell_type": "code",
   "execution_count": 46,
   "id": "d3022706",
   "metadata": {},
   "outputs": [],
   "source": [
    "con = sqlite3.connect('./practice.db')\n",
    "cur = con.cursor()"
   ]
  },
  {
   "cell_type": "code",
   "execution_count": 51,
   "id": "b33107d0",
   "metadata": {},
   "outputs": [
    {
     "data": {
      "text/plain": [
       "<sqlite3.Cursor at 0x1dc8d0a4260>"
      ]
     },
     "execution_count": 51,
     "metadata": {},
     "output_type": "execute_result"
    }
   ],
   "source": [
    "# TABLE 생성\n",
    "cur.executescript('''\n",
    "    DROP TABLE IF EXISTS CITY;\n",
    "    CREATE TABLE CITY(\n",
    "        CNO   INTEGER PRIMARY KEY,\n",
    "        CNAME TEXT\n",
    "    );\n",
    "    \n",
    "    DROP TABLE IF EXISTS SUPPLIER;\n",
    "    CREATE TABLE SUPPLIER(\n",
    "        SNO   INTEGER PRIMARY KEY,\n",
    "        SNAME TEXT,\n",
    "        CNO   INTEGER NOT NULL\n",
    "    );\n",
    "    \n",
    "    DROP TABLE IF EXISTS PART;\n",
    "    CREATE TABLE PART(\n",
    "        PNO   INTEGER PRIMARY KEY,\n",
    "        PNAME TEXT\n",
    "    );\n",
    "    \n",
    "    DROP TABLE IF EXISTS SELLS;\n",
    "    CREATE TABLE SELLS(\n",
    "        SNO   INTEGER,\n",
    "        PNO   INTEGER,\n",
    "        PRICE INTEGER\n",
    "    );\n",
    "''')"
   ]
  },
  {
   "cell_type": "code",
   "execution_count": 53,
   "id": "222afa3f",
   "metadata": {},
   "outputs": [
    {
     "data": {
      "text/plain": [
       "[(1, '성동구')]"
      ]
     },
     "execution_count": 53,
     "metadata": {},
     "output_type": "execute_result"
    }
   ],
   "source": [
    "# CITY에 데이터 추가\n",
    "cur.execute('INSERT INTO CITY(CNAME) VALUES(?)', ('성동구',))\n",
    "\n",
    "# CITY 확인\n",
    "cur.execute('SELECT * FROM CITY')\n",
    "cur.fetchall()"
   ]
  },
  {
   "cell_type": "code",
   "execution_count": 54,
   "id": "ca7e8691",
   "metadata": {},
   "outputs": [
    {
     "data": {
      "text/plain": [
       "1"
      ]
     },
     "execution_count": 54,
     "metadata": {},
     "output_type": "execute_result"
    }
   ],
   "source": [
    "cur.lastrowid"
   ]
  },
  {
   "cell_type": "code",
   "execution_count": 55,
   "id": "ca0a2e61",
   "metadata": {},
   "outputs": [
    {
     "data": {
      "text/plain": [
       "[(1, '성동구'), (2, '성동구2'), (3, '성동구3'), (4, '성동구4'), (5, '성동구5')]"
      ]
     },
     "execution_count": 55,
     "metadata": {},
     "output_type": "execute_result"
    }
   ],
   "source": [
    "# CITY에 데이터 추가2\n",
    "cur.executemany('INSERT INTO CITY(CNAME) VALUES(?)', [('성동구2',),('성동구3',),('성동구4',),('성동구5',)])\n",
    "\n",
    "# CITY 확인\n",
    "cur.execute('SELECT * FROM CITY')\n",
    "cur.fetchall()"
   ]
  },
  {
   "cell_type": "code",
   "execution_count": 56,
   "id": "60473cfe",
   "metadata": {},
   "outputs": [],
   "source": [
    "# DBMS에서 작업하던 것을 DB에 저장\n",
    "con.commit()"
   ]
  },
  {
   "cell_type": "code",
   "execution_count": 57,
   "id": "ce87d1fc",
   "metadata": {},
   "outputs": [],
   "source": [
    "# DBMS 종료\n",
    "con.close()"
   ]
  },
  {
   "cell_type": "code",
   "execution_count": 58,
   "id": "3e0c4534",
   "metadata": {},
   "outputs": [
    {
     "data": {
      "text/plain": [
       "[(1, '성동구'), (2, '성동구2'), (3, '성동구3'), (4, '성동구4'), (5, '성동구5')]"
      ]
     },
     "execution_count": 58,
     "metadata": {},
     "output_type": "execute_result"
    }
   ],
   "source": [
    "# DBMS 다시 연결 후 저장한 DB 불러오기\n",
    "con = sqlite3.connect('./practice.db')\n",
    "cur = con.cursor()\n",
    "\n",
    "# 저장된 DB 확인\n",
    "cur.execute('SELECT * FROM CITY')\n",
    "cur.fetchall()"
   ]
  },
  {
   "cell_type": "code",
   "execution_count": 62,
   "id": "ab242075",
   "metadata": {},
   "outputs": [
    {
     "data": {
      "text/plain": [
       "[(1, '성동구'),\n",
       " (2, '성동구2'),\n",
       " (3, '성동구3'),\n",
       " (4, '성동구4'),\n",
       " (5, '성동구5'),\n",
       " (6, '서초구'),\n",
       " (7, '강북구'),\n",
       " (8, '동대문구')]"
      ]
     },
     "execution_count": 62,
     "metadata": {},
     "output_type": "execute_result"
    }
   ],
   "source": [
    "# 새로운 데이터 추가\n",
    "cityList = [('성동구',),('서초구',),('강북구',),('동대문구',)]\n",
    "\n",
    "for city in cityList:\n",
    "    cur.execute('SELECT * FROM CITY WHERE CNAME=?', city)\n",
    "    if len(cur.fetchall()) == 0:\n",
    "        cur.execute('INSERT INTO CITY(CNAME) VALUES(?)', city)\n",
    "        \n",
    "# CITY 확인\n",
    "cur.execute('SELECT * FROM CITY')\n",
    "cur.fetchall()"
   ]
  },
  {
   "cell_type": "code",
   "execution_count": 63,
   "id": "2ccb0195",
   "metadata": {},
   "outputs": [],
   "source": [
    "con.commit()"
   ]
  },
  {
   "cell_type": "code",
   "execution_count": 64,
   "id": "da5645ea",
   "metadata": {},
   "outputs": [
    {
     "data": {
      "text/plain": [
       "[(1, '1호점', 1), (2, '2호점', 6), (3, '3호점', 7), (4, '4호점', 8)]"
      ]
     },
     "execution_count": 64,
     "metadata": {},
     "output_type": "execute_result"
    }
   ],
   "source": [
    "# SUPPLIER 데이터 추가\n",
    "supplierList = [('1호점', 1),('2호점', 6),('3호점', 7),('4호점', 8)]\n",
    "\n",
    "cur.executemany('INSERT INTO SUPPLIER(SNAME, CNO) VALUES(?, ?)', supplierList)\n",
    "\n",
    "# SUPPLIER 확인\n",
    "cur.execute('SELECT * FROM SUPPLIER')\n",
    "cur.fetchall()"
   ]
  },
  {
   "cell_type": "code",
   "execution_count": 69,
   "id": "e00d65a2",
   "metadata": {},
   "outputs": [
    {
     "data": {
      "text/plain": [
       "[(1, '1호점', 1),\n",
       " (2, '2호점', 6),\n",
       " (3, '3호점', 7),\n",
       " (4, '4호점', 8),\n",
       " (5, '5호점', 1),\n",
       " (6, '6호점', 1),\n",
       " (7, '7호점', 8),\n",
       " (8, '8호점', 8)]"
      ]
     },
     "execution_count": 69,
     "metadata": {},
     "output_type": "execute_result"
    }
   ],
   "source": [
    "# SUPPLIER 데이터 추가2\n",
    "supplierList = [('5호점', 1),('6호점', 1),('7호점', 8),('8호점', 8)]\n",
    "\n",
    "cur.executemany('INSERT INTO SUPPLIER(SNAME, CNO) VALUES(?, ?)', supplierList)\n",
    "\n",
    "# SUPPLIER 확인\n",
    "cur.execute('SELECT * FROM SUPPLIER')\n",
    "cur.fetchall()"
   ]
  },
  {
   "cell_type": "code",
   "execution_count": 70,
   "id": "227b112a",
   "metadata": {},
   "outputs": [],
   "source": [
    "con.commit()"
   ]
  },
  {
   "cell_type": "code",
   "execution_count": 76,
   "id": "3c602026",
   "metadata": {},
   "outputs": [
    {
     "data": {
      "text/plain": [
       "6"
      ]
     },
     "execution_count": 76,
     "metadata": {},
     "output_type": "execute_result"
    }
   ],
   "source": [
    "# CNAME이 ?인 CNO 추출\n",
    "cur.execute('SELECT CNO FROM CITY WHERE CNAME=?', ('서초구',))\n",
    "row = cur.fetchone()\n",
    "row\n",
    "\n",
    "if row:\n",
    "    CNO = row[0]\n",
    "    \n",
    "CNO"
   ]
  },
  {
   "cell_type": "code",
   "execution_count": 77,
   "id": "c912efd5",
   "metadata": {},
   "outputs": [
    {
     "data": {
      "text/plain": [
       "[(1, '1호점', 1),\n",
       " (2, '2호점', 6),\n",
       " (3, '3호점', 7),\n",
       " (4, '4호점', 8),\n",
       " (5, '5호점', 1),\n",
       " (6, '6호점', 1),\n",
       " (7, '7호점', 8),\n",
       " (8, '8호점', 8),\n",
       " (9, '9호점', 6)]"
      ]
     },
     "execution_count": 77,
     "metadata": {},
     "output_type": "execute_result"
    }
   ],
   "source": [
    "# 위에서 구한 CNO로 SUPPLIER 데이터 추가\n",
    "cur.execute('INSERT INTO SUPPLIER(SNAME, CNO) VALUES(?,?)', ('9호점',CNO))\n",
    "\n",
    "# SUPPLIER 확인\n",
    "cur.execute('SELECT * FROM SUPPLIER')\n",
    "cur.fetchall()"
   ]
  },
  {
   "cell_type": "code",
   "execution_count": 109,
   "id": "649ef7e9",
   "metadata": {},
   "outputs": [
    {
     "data": {
      "text/plain": [
       "[(1, '1호점', 1),\n",
       " (2, '2호점', 6),\n",
       " (3, '3호점', 7),\n",
       " (4, '4호점', 8),\n",
       " (5, '5호점', 1),\n",
       " (6, '6호점', 1),\n",
       " (7, '7호점', 8),\n",
       " (8, '8호점', 8),\n",
       " (9, '9호점', 6),\n",
       " (10, '10호점', 6)]"
      ]
     },
     "execution_count": 109,
     "metadata": {},
     "output_type": "execute_result"
    }
   ],
   "source": [
    "# SUPPLIER에 SNAME은 10호점이고 CITY에서 CNAME이 서초구일 때 CNO값을 삽입하라\n",
    "# LIMIT 0, 1 : 0번째 인덱스에서 1개만 가져와라\n",
    "cur.execute('''INSERT INTO SUPPLIER(SNAME, CNO) VALUES(?,(\n",
    "               SELECT CNO FROM CITY WHERE CNAME=? LIMIT 0,1\n",
    "               ))\n",
    "            ''', ('10호점', '서초구'))\n",
    "\n",
    "# SUPPLIER 확인\n",
    "cur.execute('SELECT * FROM SUPPLIER')\n",
    "cur.fetchall()"
   ]
  },
  {
   "cell_type": "code",
   "execution_count": 113,
   "id": "8bdbe6cc",
   "metadata": {},
   "outputs": [
    {
     "data": {
      "text/plain": [
       "[(8, '동대문구')]"
      ]
     },
     "execution_count": 113,
     "metadata": {},
     "output_type": "execute_result"
    }
   ],
   "source": [
    "# 중간에 '대문'이 들어가는 CITY CNO 추출\n",
    "cur.execute('SELECT * FROM CITY WHERE CNAME LIKE ?', ('%대문%',))\n",
    "cur.fetchall()"
   ]
  },
  {
   "cell_type": "code",
   "execution_count": 114,
   "id": "f34cbbb9",
   "metadata": {},
   "outputs": [],
   "source": [
    "con.commit()"
   ]
  },
  {
   "cell_type": "markdown",
   "id": "bda1d1e6",
   "metadata": {},
   "source": [
    "### 1) CITY와 SUPPLIER CROSS JOIN"
   ]
  },
  {
   "cell_type": "code",
   "execution_count": 116,
   "id": "a8437e0c",
   "metadata": {},
   "outputs": [
    {
     "data": {
      "text/plain": [
       "[(7, '강북구', 3, '3호점', 7),\n",
       " (8, '동대문구', 4, '4호점', 8),\n",
       " (8, '동대문구', 7, '7호점', 8),\n",
       " (8, '동대문구', 8, '8호점', 8),\n",
       " (6, '서초구', 2, '2호점', 6),\n",
       " (6, '서초구', 9, '9호점', 6),\n",
       " (6, '서초구', 10, '10호점', 6),\n",
       " (1, '성동구', 1, '1호점', 1),\n",
       " (1, '성동구', 5, '5호점', 1),\n",
       " (1, '성동구', 6, '6호점', 1)]"
      ]
     },
     "execution_count": 116,
     "metadata": {},
     "output_type": "execute_result"
    }
   ],
   "source": [
    "# cross join\n",
    "\n",
    "cur.execute('''\n",
    "    SELECT *\n",
    "    FROM CITY, SUPPLIER \n",
    "    WHERE CITY.CNO = SUPPLIER.CNO\n",
    "    ORDER BY CITY.CNAME\n",
    "''')\n",
    "\n",
    "cur.fetchall()"
   ]
  },
  {
   "cell_type": "markdown",
   "id": "d6b1ee6d",
   "metadata": {},
   "source": [
    "### 2) CITY 기준으로 SUPPLIER INNER JOIN"
   ]
  },
  {
   "cell_type": "code",
   "execution_count": 136,
   "id": "e73abe75",
   "metadata": {},
   "outputs": [
    {
     "data": {
      "text/plain": [
       "[(1, '성동구', 1, '1호점', 1),\n",
       " (1, '성동구', 5, '5호점', 1),\n",
       " (1, '성동구', 6, '6호점', 1),\n",
       " (6, '서초구', 2, '2호점', 6),\n",
       " (6, '서초구', 9, '9호점', 6),\n",
       " (6, '서초구', 10, '10호점', 6),\n",
       " (7, '강북구', 3, '3호점', 7),\n",
       " (8, '동대문구', 4, '4호점', 8),\n",
       " (8, '동대문구', 7, '7호점', 8),\n",
       " (8, '동대문구', 8, '8호점', 8)]"
      ]
     },
     "execution_count": 136,
     "metadata": {},
     "output_type": "execute_result"
    }
   ],
   "source": [
    "# 도시별 가맹점 inner join\n",
    "cur.execute('''\n",
    "    SELECT *\n",
    "    FROM CITY\n",
    "    INNER JOIN SUPPLIER\n",
    "    WHERE CITY.CNO = SUPPLIER.CNO\n",
    "    ORDER BY CITY.CNO\n",
    "    \n",
    "''')\n",
    "\n",
    "cur.fetchall()"
   ]
  },
  {
   "cell_type": "code",
   "execution_count": 134,
   "id": "9671d8be",
   "metadata": {},
   "outputs": [
    {
     "data": {
      "text/plain": [
       "[('성동구', 3), ('서초구', 3), ('강북구', 1), ('동대문구', 3)]"
      ]
     },
     "execution_count": 134,
     "metadata": {},
     "output_type": "execute_result"
    }
   ],
   "source": [
    "# 도시별 가맹점 갯수 inner join + GROUP BY\n",
    "cur.execute('''\n",
    "    SELECT CITY.CNAME, COUNT(SUPPLIER.SNAME)\n",
    "    FROM CITY\n",
    "    INNER JOIN SUPPLIER\n",
    "    WHERE CITY.CNO = SUPPLIER.CNO\n",
    "    GROUP BY CITY.CNO\n",
    "    ORDER BY CITY.CNO\n",
    "    \n",
    "''')\n",
    "\n",
    "cur.fetchall()"
   ]
  },
  {
   "cell_type": "markdown",
   "id": "001db97f",
   "metadata": {},
   "source": [
    "### 3) CITY 기준으로 SUPPLIER LEFT JOIN"
   ]
  },
  {
   "cell_type": "code",
   "execution_count": 137,
   "id": "984885b3",
   "metadata": {},
   "outputs": [
    {
     "data": {
      "text/plain": [
       "[(1, '성동구'),\n",
       " (2, '성동구2'),\n",
       " (3, '성동구3'),\n",
       " (4, '성동구4'),\n",
       " (5, '성동구5'),\n",
       " (6, '서초구'),\n",
       " (7, '강북구'),\n",
       " (8, '동대문구'),\n",
       " (9, '중구')]"
      ]
     },
     "execution_count": 137,
     "metadata": {},
     "output_type": "execute_result"
    }
   ],
   "source": [
    "# CITY에 데이터 추가\n",
    "cur.execute('INSERT INTO CITY(CNAME) VALUES(?)', ('중구',))\n",
    "\n",
    "# CITY 확인\n",
    "cur.execute('SELECT * FROM CITY')\n",
    "cur.fetchall()"
   ]
  },
  {
   "cell_type": "code",
   "execution_count": 140,
   "id": "57e25cff",
   "metadata": {},
   "outputs": [
    {
     "data": {
      "text/plain": [
       "[(7, '강북구', 3, '3호점', 7),\n",
       " (8, '동대문구', 4, '4호점', 8),\n",
       " (6, '서초구', 10, '10호점', 6),\n",
       " (1, '성동구', 1, '1호점', 1),\n",
       " (2, '성동구2', None, None, None),\n",
       " (3, '성동구3', None, None, None),\n",
       " (4, '성동구4', None, None, None),\n",
       " (5, '성동구5', None, None, None),\n",
       " (9, '중구', None, None, None)]"
      ]
     },
     "execution_count": 140,
     "metadata": {},
     "output_type": "execute_result"
    }
   ],
   "source": [
    "# CITY를 기준으로 SUPPLIER LEFT JOIN\n",
    "\n",
    "cur.execute('''\n",
    "    SELECT *\n",
    "    FROM CITY\n",
    "    LEFT JOIN SUPPLIER\n",
    "    ON CITY.CNO = SUPPLIER.CNO\n",
    "''')\n",
    "\n",
    "cur.fetchall()"
   ]
  },
  {
   "cell_type": "code",
   "execution_count": 144,
   "id": "09ef9874",
   "metadata": {},
   "outputs": [
    {
     "data": {
      "text/plain": [
       "[('성동구', 3),\n",
       " ('성동구2', 0),\n",
       " ('성동구3', 0),\n",
       " ('성동구4', 0),\n",
       " ('성동구5', 0),\n",
       " ('서초구', 3),\n",
       " ('강북구', 1),\n",
       " ('동대문구', 3),\n",
       " ('중구', 0)]"
      ]
     },
     "execution_count": 144,
     "metadata": {},
     "output_type": "execute_result"
    }
   ],
   "source": [
    "# CITY를 기준으로 SUPPLIER LEFT JOIN + GROUP BY\n",
    "\n",
    "cur.execute('''\n",
    "    SELECT CITY.CNAME, COUNT(SUPPLIER.CNO)\n",
    "    FROM CITY\n",
    "    LEFT JOIN SUPPLIER\n",
    "    ON CITY.CNO = SUPPLIER.CNO\n",
    "    GROUP BY CITY.CNO\n",
    "''')\n",
    "\n",
    "cur.fetchall()"
   ]
  },
  {
   "cell_type": "code",
   "execution_count": 149,
   "id": "cd6cedef",
   "metadata": {},
   "outputs": [],
   "source": [
    "con.commit()"
   ]
  },
  {
   "cell_type": "code",
   "execution_count": 150,
   "id": "ed5e354e",
   "metadata": {},
   "outputs": [
    {
     "data": {
      "text/plain": [
       "[(1, '메뉴1'), (2, '메뉴2'), (3, '메뉴3'), (4, '메뉴4'), (5, '메뉴5')]"
      ]
     },
     "execution_count": 150,
     "metadata": {},
     "output_type": "execute_result"
    }
   ],
   "source": [
    "# PART에 데이터 추가\n",
    "partList = [('메뉴1',), ('메뉴2',), ('메뉴3',), ('메뉴4',), ('메뉴5',)]\n",
    "\n",
    "cur.executemany('INSERT INTO PART(PNAME) VALUES(?)', partList)\n",
    "\n",
    "# PART 확인\n",
    "cur.execute('SELECT * FROM PART')\n",
    "cur.fetchall()"
   ]
  },
  {
   "cell_type": "code",
   "execution_count": 176,
   "id": "e28e0c44",
   "metadata": {},
   "outputs": [
    {
     "data": {
      "text/plain": [
       "<sqlite3.Cursor at 0x1dc8d143f80>"
      ]
     },
     "execution_count": 176,
     "metadata": {},
     "output_type": "execute_result"
    }
   ],
   "source": [
    "# SALES 테이블의 모든 레코드 삭제\n",
    "# cur.execute('DELETE FROM SELLS')"
   ]
  },
  {
   "cell_type": "code",
   "execution_count": 177,
   "id": "d851846f",
   "metadata": {},
   "outputs": [
    {
     "data": {
      "text/plain": [
       "[]"
      ]
     },
     "execution_count": 177,
     "metadata": {},
     "output_type": "execute_result"
    }
   ],
   "source": [
    "# SELLS 확인\n",
    "# cur.execute('SELECT * FROM SELLS')\n",
    "# cur.fetchall()"
   ]
  },
  {
   "cell_type": "code",
   "execution_count": 178,
   "id": "9fa84b5f",
   "metadata": {
    "scrolled": true
   },
   "outputs": [
    {
     "data": {
      "text/plain": [
       "[(1, 1, 10),\n",
       " (2, 2, 1),\n",
       " (3, 3, 35),\n",
       " (4, 4, 22),\n",
       " (5, 5, 11),\n",
       " (6, 1, 7),\n",
       " (7, 2, 46),\n",
       " (8, 3, 17),\n",
       " (9, 4, 27),\n",
       " (10, 5, 58),\n",
       " (1, 2, 10),\n",
       " (1, 3, 8),\n",
       " (1, 4, 15),\n",
       " (1, 5, 3),\n",
       " (2, 1, 29),\n",
       " (2, 3, 1),\n",
       " (2, 4, 13),\n",
       " (2, 5, 12),\n",
       " (3, 1, 14),\n",
       " (3, 2, 13),\n",
       " (3, 4, 18),\n",
       " (3, 5, 25),\n",
       " (4, 1, 36),\n",
       " (4, 2, 14),\n",
       " (4, 3, 17),\n",
       " (4, 5, 32),\n",
       " (5, 1, 52),\n",
       " (5, 2, 8),\n",
       " (5, 3, 3),\n",
       " (5, 4, 19)]"
      ]
     },
     "execution_count": 178,
     "metadata": {},
     "output_type": "execute_result"
    }
   ],
   "source": [
    "# SELLS에 데이터 추가\n",
    "sellList = [{'sno':1, 'pno':1, 'price':10},\n",
    "            {'sno':2, 'pno':2, 'price':1},\n",
    "            {'sno':3, 'pno':3, 'price':35},\n",
    "            {'sno':4, 'pno':4, 'price':22},\n",
    "            {'sno':5, 'pno':5, 'price':11},\n",
    "            {'sno':6, 'pno':1, 'price':7},\n",
    "            {'sno':7, 'pno':2, 'price':46},\n",
    "            {'sno':8, 'pno':3, 'price':17},\n",
    "            {'sno':9, 'pno':4, 'price':27},\n",
    "            {'sno':10, 'pno':5, 'price':58},\n",
    "            {'sno':1, 'pno':2, 'price':10},\n",
    "             {'sno':1, 'pno':3, 'price':8},\n",
    "             {'sno':1, 'pno':4, 'price':15},\n",
    "             {'sno':1, 'pno':5, 'price':3},\n",
    "             {'sno':2, 'pno':1, 'price':29},\n",
    "             {'sno':2, 'pno':3, 'price':1},\n",
    "             {'sno':2, 'pno':4, 'price':13},\n",
    "             {'sno':2, 'pno':5, 'price':12},\n",
    "             {'sno':3, 'pno':1, 'price':14},\n",
    "             {'sno':3, 'pno':2, 'price':13},\n",
    "             {'sno':3, 'pno':4, 'price':18},\n",
    "             {'sno':3, 'pno':5, 'price':25},\n",
    "             {'sno':4, 'pno':1, 'price':36},\n",
    "             {'sno':4, 'pno':2, 'price':14},\n",
    "             {'sno':4, 'pno':3, 'price':17},\n",
    "             {'sno':4, 'pno':5, 'price':32},\n",
    "             {'sno':5, 'pno':1, 'price':52},\n",
    "             {'sno':5, 'pno':2, 'price':8},\n",
    "             {'sno':5, 'pno':3, 'price':3},\n",
    "             {'sno':5, 'pno':4, 'price':19}]\n",
    "\n",
    "cur.executemany('''\n",
    "    INSERT INTO SELLS VALUES(\n",
    "    (SELECT SNO FROM SUPPLIER WHERE SNO LIKE :sno LIMIT 0,1),\n",
    "    (SELECT PNO FROM PART WHERE PNO LIKE :pno LIMIT 0,1),\n",
    "    :price\n",
    ")''', sellList)"
   ]
  },
  {
   "cell_type": "code",
   "execution_count": 179,
   "id": "e2b28538",
   "metadata": {
    "scrolled": true
   },
   "outputs": [
    {
     "data": {
      "text/plain": [
       "[(1, 1, 10),\n",
       " (1, 2, 10),\n",
       " (1, 3, 8),\n",
       " (1, 4, 15),\n",
       " (1, 5, 3),\n",
       " (2, 2, 1),\n",
       " (2, 1, 29),\n",
       " (2, 3, 1),\n",
       " (2, 4, 13),\n",
       " (2, 5, 12),\n",
       " (3, 3, 35),\n",
       " (3, 1, 14),\n",
       " (3, 2, 13),\n",
       " (3, 4, 18),\n",
       " (3, 5, 25),\n",
       " (4, 4, 22),\n",
       " (4, 1, 36),\n",
       " (4, 2, 14),\n",
       " (4, 3, 17),\n",
       " (4, 5, 32),\n",
       " (5, 5, 11),\n",
       " (5, 1, 52),\n",
       " (5, 2, 8),\n",
       " (5, 3, 3),\n",
       " (5, 4, 19),\n",
       " (6, 1, 7),\n",
       " (7, 2, 46),\n",
       " (8, 3, 17),\n",
       " (9, 4, 27),\n",
       " (10, 5, 58)]"
      ]
     },
     "execution_count": 179,
     "metadata": {},
     "output_type": "execute_result"
    }
   ],
   "source": [
    "# SELLS 확인\n",
    "cur.execute('SELECT * FROM SELLS ORDER BY SNO')\n",
    "cur.fetchall()"
   ]
  },
  {
   "cell_type": "code",
   "execution_count": 180,
   "id": "c7a4bc48",
   "metadata": {},
   "outputs": [],
   "source": [
    "con.commit()"
   ]
  },
  {
   "cell_type": "markdown",
   "id": "9f5defb3",
   "metadata": {},
   "source": [
    "### 4) 가맹점 별 매출"
   ]
  },
  {
   "cell_type": "code",
   "execution_count": 4,
   "id": "d02fccef",
   "metadata": {},
   "outputs": [
    {
     "data": {
      "text/plain": [
       "[(121, '4호점', '동대문구'),\n",
       " (105, '3호점', '강북구'),\n",
       " (93, '5호점', '성동구'),\n",
       " (58, '10호점', '서초구'),\n",
       " (56, '2호점', '서초구'),\n",
       " (46, '7호점', '동대문구'),\n",
       " (46, '1호점', '성동구'),\n",
       " (27, '9호점', '서초구'),\n",
       " (17, '8호점', '동대문구'),\n",
       " (7, '6호점', '성동구')]"
      ]
     },
     "execution_count": 4,
     "metadata": {},
     "output_type": "execute_result"
    }
   ],
   "source": [
    "cur.execute('''\n",
    "    SELECT SUM(SELLS.PRICE), SUPPLIER.SNAME, CITY.CNAME\n",
    "    FROM SELLS\n",
    "    INNER JOIN SUPPLIER\n",
    "    ON SUPPLIER.SNO = SELLS.SNO\n",
    "    INNER JOIN PART\n",
    "    ON PART.PNO = SELLS.PNO\n",
    "    INNER JOIN CITY\n",
    "    ON CITY.CNO = SUPPLIER.CNO\n",
    "    GROUP BY CITY.CNAME,SUPPLIER.SNAME\n",
    "    ORDER BY SUM(SELLS.PRICE) DESC\n",
    "''')\n",
    "\n",
    "cur.fetchall()"
   ]
  },
  {
   "cell_type": "markdown",
   "id": "ab43e663",
   "metadata": {},
   "source": [
    "<br/>\n",
    "\n",
    "# 4. 함수 형태로 DB 관리 (ver.간단)"
   ]
  },
  {
   "cell_type": "code",
   "execution_count": 1,
   "id": "3c5f7a3a",
   "metadata": {},
   "outputs": [],
   "source": [
    "import sqlite3"
   ]
  },
  {
   "cell_type": "code",
   "execution_count": 2,
   "id": "8c32f806",
   "metadata": {},
   "outputs": [],
   "source": [
    "con = sqlite3.connect('./practice2')\n",
    "cur = con.cursor()"
   ]
  },
  {
   "cell_type": "code",
   "execution_count": 3,
   "id": "39ae8895",
   "metadata": {},
   "outputs": [
    {
     "data": {
      "text/plain": [
       "<sqlite3.Cursor at 0x1de216567a0>"
      ]
     },
     "execution_count": 3,
     "metadata": {},
     "output_type": "execute_result"
    }
   ],
   "source": [
    "# 테이블 생성\n",
    "cur.executescript('''\n",
    "    DROP TABLE IF EXISTS artist;\n",
    "    CREATE TABLE artist(\n",
    "        arpk   INTEGER PRIMARY KEY,\n",
    "        arname TEXT NOT NULL\n",
    "    );\n",
    "    \n",
    "    DROP TABLE IF EXISTS album;\n",
    "    CREATE TABLE album(\n",
    "        alpk   INTEGER PRIMARY KEY,\n",
    "        alname TEXT NOT NULL,\n",
    "        arpk   INTEGER NOT NULL\n",
    "    );\n",
    "    \n",
    "    DROP TABLE IF EXISTS genre;\n",
    "    CREATE TABLE genre(\n",
    "        gpk   INTEGER PRIMARY KEY,\n",
    "        gname TEXT NOT NULL\n",
    "    );\n",
    "    \n",
    "    DROP TABLE IF EXISTS track;\n",
    "    CREATE TABLE track(\n",
    "        tpk    INTEGER PRIMARY KEY,\n",
    "        tname  TEXT NOT NULL DEFAULT '무제',\n",
    "        length INTEGER DEFAULT 0,\n",
    "        rating INTEGER DEFAULT 0,\n",
    "        count  INTEGER DEFAULT 0,\n",
    "        alfk   INTEGER NOT NULL,\n",
    "        gfk    INTEGER NOT NULL\n",
    "    );\n",
    "''')"
   ]
  },
  {
   "cell_type": "code",
   "execution_count": 4,
   "id": "000cf7cc",
   "metadata": {},
   "outputs": [],
   "source": [
    "# 데이터 추가\n",
    "def addArtist(name, flag=0):\n",
    "    if flag == 0:\n",
    "        v = name\n",
    "    elif flag == 1:\n",
    "        v = '%'+name\n",
    "    elif flag == 2:\n",
    "        v = name + '%'\n",
    "    else:\n",
    "        v = '%' + name + '%'\n",
    "        \n",
    "    cur.execute('SELECT arpk FROM artist WHERE arname LIKE ?', (v,))\n",
    "    rst = cur.fetchone()  # fetchone하면 SELECT 결과가 없는 경우 None 반환\n",
    "    \n",
    "    # 데이터에 없는 이름인 경우 삽입\n",
    "    if rst is None:\n",
    "        cur.execute('INSERT INTO artist(arname) VALUES(?)', (v,))\n",
    "        result = cur.lastrowid\n",
    "        \n",
    "    # 데이터에 없는 이름인 경우 삽입 안함\n",
    "    else:\n",
    "        result = rst[0]\n",
    "        \n",
    "    return result"
   ]
  },
  {
   "cell_type": "code",
   "execution_count": 5,
   "id": "25b18b33",
   "metadata": {},
   "outputs": [],
   "source": [
    "name = ['아이브', '박효신', '성시경', '지코', '세븐틴', '김조한', '아이유', '다이나믹듀오']\n",
    "\n",
    "for i in range(len(name)):\n",
    "    addArtist(name[i], 0)"
   ]
  },
  {
   "cell_type": "code",
   "execution_count": 6,
   "id": "d11705db",
   "metadata": {},
   "outputs": [
    {
     "data": {
      "text/plain": [
       "[(1, '아이브'),\n",
       " (2, '박효신'),\n",
       " (3, '성시경'),\n",
       " (4, '지코'),\n",
       " (5, '세븐틴'),\n",
       " (6, '김조한'),\n",
       " (7, '아이유'),\n",
       " (8, '다이나믹듀오')]"
      ]
     },
     "execution_count": 6,
     "metadata": {},
     "output_type": "execute_result"
    }
   ],
   "source": [
    "cur.execute('SELECT * FROM artist')\n",
    "cur.fetchall()"
   ]
  },
  {
   "cell_type": "code",
   "execution_count": 32,
   "id": "df07322f",
   "metadata": {},
   "outputs": [
    {
     "data": {
      "text/plain": [
       "<sqlite3.Cursor at 0x15db7e46ab0>"
      ]
     },
     "execution_count": 32,
     "metadata": {},
     "output_type": "execute_result"
    }
   ],
   "source": [
    "# cur.execute('DELETE FROM artist')"
   ]
  },
  {
   "cell_type": "code",
   "execution_count": 7,
   "id": "34eb6711",
   "metadata": {},
   "outputs": [],
   "source": [
    "# 데이터 변경\n",
    "def modArtist(name, rename):\n",
    "    arpk = addArtist(name)\n",
    "    cur.execute('UPDATE artist SET arname=? WHERE arpk=?', (rename, arpk))\n",
    "    \n",
    "    return cur.rowcount"
   ]
  },
  {
   "cell_type": "code",
   "execution_count": 8,
   "id": "1248baad",
   "metadata": {},
   "outputs": [
    {
     "data": {
      "text/plain": [
       "1"
      ]
     },
     "execution_count": 8,
     "metadata": {},
     "output_type": "execute_result"
    }
   ],
   "source": [
    "modArtist('다이나믹듀오', '다듀')"
   ]
  },
  {
   "cell_type": "code",
   "execution_count": 9,
   "id": "2fc183be",
   "metadata": {},
   "outputs": [
    {
     "data": {
      "text/plain": [
       "[(1, '아이브'),\n",
       " (2, '박효신'),\n",
       " (3, '성시경'),\n",
       " (4, '지코'),\n",
       " (5, '세븐틴'),\n",
       " (6, '김조한'),\n",
       " (7, '아이유'),\n",
       " (8, '다듀')]"
      ]
     },
     "execution_count": 9,
     "metadata": {},
     "output_type": "execute_result"
    }
   ],
   "source": [
    "cur.execute('SELECT * FROM artist')\n",
    "cur.fetchall()"
   ]
  },
  {
   "cell_type": "code",
   "execution_count": 14,
   "id": "1929ac6f",
   "metadata": {},
   "outputs": [],
   "source": [
    "# 데이터 삭제\n",
    "def delArtist(name):\n",
    "    arpk = addArtist(name)\n",
    "#     print(arpk)\n",
    "    \n",
    "    cur.execute('DELETE FROM artist WHERE arname=?', (name,))\n",
    "    return cur.rowcount"
   ]
  },
  {
   "cell_type": "code",
   "execution_count": 15,
   "id": "68242d73",
   "metadata": {},
   "outputs": [
    {
     "data": {
      "text/plain": [
       "1"
      ]
     },
     "execution_count": 15,
     "metadata": {},
     "output_type": "execute_result"
    }
   ],
   "source": [
    "delArtist('아이브')"
   ]
  },
  {
   "cell_type": "code",
   "execution_count": 16,
   "id": "d96bda1f",
   "metadata": {},
   "outputs": [
    {
     "data": {
      "text/plain": [
       "[(2, '박효신'),\n",
       " (3, '성시경'),\n",
       " (4, '지코'),\n",
       " (5, '세븐틴'),\n",
       " (6, '김조한'),\n",
       " (7, '아이유'),\n",
       " (8, '다듀')]"
      ]
     },
     "execution_count": 16,
     "metadata": {},
     "output_type": "execute_result"
    }
   ],
   "source": [
    "cur.execute('SELECT * FROM artist')\n",
    "cur.fetchall()"
   ]
  },
  {
   "cell_type": "code",
   "execution_count": 17,
   "id": "87de04eb",
   "metadata": {},
   "outputs": [],
   "source": [
    "con.close()"
   ]
  },
  {
   "cell_type": "markdown",
   "id": "19eeaf5c",
   "metadata": {},
   "source": [
    "<br/> \n",
    "\n",
    "# 5. 함수 형태로 DB 관리 (ver.모든 table 동시 사용)"
   ]
  },
  {
   "cell_type": "code",
   "execution_count": 18,
   "id": "558adf49",
   "metadata": {},
   "outputs": [],
   "source": [
    "import sqlite3"
   ]
  },
  {
   "cell_type": "code",
   "execution_count": 19,
   "id": "38beb331",
   "metadata": {},
   "outputs": [],
   "source": [
    "con = sqlite3.connect('./practice3')\n",
    "cur = con.cursor()"
   ]
  },
  {
   "cell_type": "code",
   "execution_count": 21,
   "id": "8fe40106",
   "metadata": {},
   "outputs": [
    {
     "data": {
      "text/plain": [
       "<sqlite3.Cursor at 0x1de239f9880>"
      ]
     },
     "execution_count": 21,
     "metadata": {},
     "output_type": "execute_result"
    }
   ],
   "source": [
    "# table 생성\n",
    "cur.executescript('''\n",
    "    DROP TABLE IF EXISTS artist;\n",
    "    CREATE TABLE artist(\n",
    "        arpk    INTEGER PRIMARY KEY,\n",
    "        arname  TEXT NOT NULL\n",
    "    );\n",
    "    \n",
    "    DROP TABLE IF EXISTS album;\n",
    "    CREATE TABLE album(\n",
    "        alpk    INTEGER PRIMARY KEY,\n",
    "        alname  TEXT NOT NULL,\n",
    "        arpk    INTEGER NOT NULL\n",
    "    );\n",
    "    \n",
    "    DROP TABLE IF EXISTS genre;\n",
    "    CREATE TABLE genre(\n",
    "        gpk    INTEGER PRIMARY KEY,\n",
    "        gname  TEXT NOT NULL\n",
    "    );\n",
    "    \n",
    "    DROP TABLE IF EXISTS track;\n",
    "    CREATE TABLE track(\n",
    "        tpk    INTEGER PRIMARY KEY,\n",
    "        tname  TEXT NOT NULL DEFAULT '무제',\n",
    "        length INTEGER DEFAULT 0,\n",
    "        rating INTEGER DEFAULT 0,\n",
    "        count  INTEGER DEFAULT 0,\n",
    "        alpk   INTEGER NOT NULL,\n",
    "        gpk    INTEGER NOT NULL\n",
    "    );\n",
    "''')"
   ]
  },
  {
   "cell_type": "code",
   "execution_count": 130,
   "id": "7fc51548",
   "metadata": {},
   "outputs": [],
   "source": [
    "# 테이블별 데이터 추가\n",
    "def addRow(tablename, columns, values):\n",
    "    if len(columns) != len(values):\n",
    "        return False\n",
    "\n",
    "    where = [columns[i] +'=?' for i in range(len(columns))] # columns[0]=?, columns[1]=? ,.... 형태\n",
    "    c = ' and '.join(where)  # columns[0] and columns[1] and ... 형태\n",
    "    d = ','.join(columns)       # columns[0], columns[1], ... 형태\n",
    "    q = ','.join(['?' for i in range(len(values))]) # ?,?,?,... 형태\n",
    "\n",
    "    # 추가하려는 데이터가 이미 존재하는지 확인\n",
    "    cur.execute('SELECT * FROM ' +tablename+ ' WHERE ' +c, values)\n",
    "    rst = cur.fetchone()\n",
    "\n",
    "    \n",
    "    # 데이터가 존재하지 않다면 삽입 후 pk값 반환\n",
    "    if rst is None:\n",
    "        cur.execute('INSERT INTO ' +tablename+ '(' +d+ ') VALUES(' +q+ ')', values)\n",
    "        result = cur.lastrowid\n",
    "        \n",
    "    # 데이터가 이미 존재한다면 pk값 반환\n",
    "    else:\n",
    "        result = rst[0]\n",
    "        \n",
    "    return result"
   ]
  },
  {
   "cell_type": "code",
   "execution_count": 161,
   "id": "b6d9ba5d",
   "metadata": {},
   "outputs": [
    {
     "data": {
      "text/plain": [
       "[1, 2, 3, 4, 5]"
      ]
     },
     "execution_count": 161,
     "metadata": {},
     "output_type": "execute_result"
    }
   ],
   "source": [
    "# artist에 데이터 삽입\n",
    "name = ['아이브', '아이유', '다이나믹 듀오', '박효신', '제이레빗']\n",
    "\n",
    "[addRow('artist', ['arname'], [i]) for i in name]"
   ]
  },
  {
   "cell_type": "code",
   "execution_count": 227,
   "id": "84e709ea",
   "metadata": {},
   "outputs": [
    {
     "data": {
      "text/plain": [
       "[(1, '아이브'), (2, '아이유'), (3, '다이나믹 듀오'), (4, '박효신'), (5, '제이레빗')]"
      ]
     },
     "execution_count": 227,
     "metadata": {},
     "output_type": "execute_result"
    }
   ],
   "source": [
    "cur.execute('SELECT * FROM artist')\n",
    "cur.fetchall()"
   ]
  },
  {
   "cell_type": "code",
   "execution_count": null,
   "id": "13a92857",
   "metadata": {},
   "outputs": [],
   "source": [
    "# cur.execute('DELETE FROM artist')"
   ]
  },
  {
   "cell_type": "code",
   "execution_count": 165,
   "id": "3287d212",
   "metadata": {},
   "outputs": [
    {
     "data": {
      "text/plain": [
       "[1, 2, 3, 4, 5, 6, 7]"
      ]
     },
     "execution_count": 165,
     "metadata": {},
     "output_type": "execute_result"
    }
   ],
   "source": [
    "# genre에 데이터 삽입\n",
    "name = ['댄스', '발라드', '락', '힙합', '알앤비', 'ost', '재즈']\n",
    "\n",
    "[addRow('genre', ['gname'], [i]) for i in name]"
   ]
  },
  {
   "cell_type": "code",
   "execution_count": 166,
   "id": "5e76bd60",
   "metadata": {},
   "outputs": [
    {
     "data": {
      "text/plain": [
       "[(1, '댄스'), (2, '발라드'), (3, '락'), (4, '힙합'), (5, '알앤비'), (6, 'ost'), (7, '재즈')]"
      ]
     },
     "execution_count": 166,
     "metadata": {},
     "output_type": "execute_result"
    }
   ],
   "source": [
    "cur.execute('SELECT * FROM genre')\n",
    "cur.fetchall()"
   ]
  },
  {
   "cell_type": "code",
   "execution_count": null,
   "id": "24a623af",
   "metadata": {},
   "outputs": [],
   "source": [
    "# cur.execute('DELETE FROM genre')"
   ]
  },
  {
   "cell_type": "code",
   "execution_count": 243,
   "id": "d146593a",
   "metadata": {},
   "outputs": [
    {
     "data": {
      "text/plain": [
       "[1, 2, 3, 4, 5, 6, 7, 8, 9, 10, 11, 12, 13, 14, 15, 16, 17]"
      ]
     },
     "execution_count": 243,
     "metadata": {},
     "output_type": "execute_result"
    }
   ],
   "source": [
    "# album에 데이터 삽입\n",
    "name = ['아이브', '아이유', '다이나믹 듀오', '박효신', '제이레빗']\n",
    "alname = [['I\\'ve IVE', 'after like', 'LOVE DIVE'], ['조각집', 'strawberry moon', 'modern times', '스무살의 봄'],\n",
    "         ['soon','나 오늘','blue','마음의 소리'], ['goodbye','야생화','happy together'],\n",
    "         ['joy to the world', '슬기로운 의사생활', '연애의 발견']]\n",
    "\n",
    "arpk = [addRow('artist', ['arname'], [i]) for i in name]\n",
    "\n",
    "alnameSplit = [j for i in alname for j in i]\n",
    "\n",
    "\n",
    "# Comprehension 방식\n",
    "[addRow('album', ['alname', 'arpk'], [j, i+1]) for i in range(len(name)) for j in alname[i]]\n",
    "\n",
    "\n",
    "# For문 방식\n",
    "# for i in range(len(name)):\n",
    "#     for j in alname[i]:\n",
    "#         addRow('album', ['alname', 'arpk'], [j, i+1])"
   ]
  },
  {
   "cell_type": "code",
   "execution_count": 244,
   "id": "713998ef",
   "metadata": {},
   "outputs": [
    {
     "data": {
      "text/plain": [
       "[(1, \"I've IVE\", 1),\n",
       " (2, 'after like', 1),\n",
       " (3, 'LOVE DIVE', 1),\n",
       " (4, '조각집', 2),\n",
       " (5, 'strawberry moon', 2),\n",
       " (6, 'modern times', 2),\n",
       " (7, '스무살의 봄', 2),\n",
       " (8, 'soon', 3),\n",
       " (9, '나 오늘', 3),\n",
       " (10, 'blue', 3),\n",
       " (11, '마음의 소리', 3),\n",
       " (12, 'goodbye', 4),\n",
       " (13, '야생화', 4),\n",
       " (14, 'happy together', 4),\n",
       " (15, 'joy to the world', 5),\n",
       " (16, '슬기로운 의사생활', 5),\n",
       " (17, '연애의 발견', 5)]"
      ]
     },
     "execution_count": 244,
     "metadata": {},
     "output_type": "execute_result"
    }
   ],
   "source": [
    "cur.execute('SELECT * FROM album')\n",
    "cur.fetchall()"
   ]
  },
  {
   "cell_type": "code",
   "execution_count": 236,
   "id": "d5053c0f",
   "metadata": {},
   "outputs": [
    {
     "data": {
      "text/plain": [
       "<sqlite3.Cursor at 0x1de239f9880>"
      ]
     },
     "execution_count": 236,
     "metadata": {},
     "output_type": "execute_result"
    }
   ],
   "source": [
    "# cur.execute('DELETE FROM album')"
   ]
  },
  {
   "cell_type": "code",
   "execution_count": 213,
   "id": "2e61f274",
   "metadata": {},
   "outputs": [
    {
     "data": {
      "text/plain": [
       "[1,\n",
       " 2,\n",
       " 3,\n",
       " 4,\n",
       " 5,\n",
       " 6,\n",
       " 7,\n",
       " 8,\n",
       " 9,\n",
       " 10,\n",
       " 11,\n",
       " 12,\n",
       " 13,\n",
       " 14,\n",
       " 15,\n",
       " 16,\n",
       " 17,\n",
       " 18,\n",
       " 19,\n",
       " 20,\n",
       " 21,\n",
       " 22,\n",
       " 23]"
      ]
     },
     "execution_count": 213,
     "metadata": {},
     "output_type": "execute_result"
    }
   ],
   "source": [
    "# track에 데이터 삽입\n",
    "data = [{'name': 'I AM', 'gpk': 1, 'alpk': 1},\n",
    "        {'name': 'Kitsch', 'gpk': 1, 'alpk': 1},\n",
    "        {'name': 'After LIKE', 'gpk': 1, 'alpk': 2},\n",
    "        {'name': 'LOVE DIVE', 'gpk': 1, 'alpk': 3},\n",
    "        {'name': 'ROYAL', 'gpk': 1, 'alpk': 3},\n",
    "        {'name': '드라마', 'gpk': 2, 'alpk': 4},\n",
    "        {'name': '겨울잠', 'gpk': 2, 'alpk': 4},\n",
    "        {'name': 'strawberry moon', 'gpk': 3, 'alpk': 5},\n",
    "        {'name': '을의 연애', 'gpk': 1, 'alpk': 6},\n",
    "        {'name': '분홍신', 'gpk': 1, 'alpk': 6},\n",
    "        {'name': 'Modern Times', 'gpk': 1, 'alpk': 6},\n",
    "        {'name': '우울시계', 'gpk': 2, 'alpk': 6},\n",
    "        {'name': '하루 끝', 'gpk': 2, 'alpk': 7},\n",
    "        {'name': 'soon', 'gpk': 4, 'alpk': 8},\n",
    "        {'name': '나 오늘', 'gpk': 5, 'alpk': 9},\n",
    "        {'name': 'blue', 'gpk': 4, 'alpk': 10},\n",
    "        {'name': '좋겠다', 'gpk': 6, 'alpk': 11},\n",
    "        {'name': 'goodbye', 'gpk': 2, 'alpk': 12},\n",
    "        {'name': '야생화', 'gpk': 2, 'alpk': 13},\n",
    "        {'name': 'happy together', 'gpk': 2, 'alpk': 14},\n",
    "        {'name': 'joy to the wolrd', 'gpk': 7, 'alpk': 15},\n",
    "        {'name': '넌 언제나', 'gpk': 6, 'alpk': 16},\n",
    "        {'name': '사랑일까?', 'gpk': 6, 'alpk': 17}\n",
    "       ]\n",
    "\n",
    "# 방법 1\n",
    "[addRow('track', ['tname', 'gpk', 'alpk'], [i['name'], i['gpk'], i['alpk']]) for i in data]\n",
    "\n",
    "# 방법 2\n",
    "# for i in data:\n",
    "#     addRow('track', ['tname', 'gpk', 'alpk'], [i['name'], i['gpk'], i['alpk']])"
   ]
  },
  {
   "cell_type": "code",
   "execution_count": 214,
   "id": "be541014",
   "metadata": {},
   "outputs": [
    {
     "data": {
      "text/plain": [
       "[(1, 'I AM', 0, 0, 0, 1, 1),\n",
       " (2, 'Kitsch', 0, 0, 0, 1, 1),\n",
       " (3, 'After LIKE', 0, 0, 0, 2, 1),\n",
       " (4, 'LOVE DIVE', 0, 0, 0, 3, 1),\n",
       " (5, 'ROYAL', 0, 0, 0, 3, 1),\n",
       " (6, '드라마', 0, 0, 0, 4, 2),\n",
       " (7, '겨울잠', 0, 0, 0, 4, 2),\n",
       " (8, 'strawberry moon', 0, 0, 0, 5, 3),\n",
       " (9, '을의 연애', 0, 0, 0, 6, 1),\n",
       " (10, '분홍신', 0, 0, 0, 6, 1),\n",
       " (11, 'Modern Times', 0, 0, 0, 6, 1),\n",
       " (12, '우울시계', 0, 0, 0, 6, 2),\n",
       " (13, '하루 끝', 0, 0, 0, 7, 2),\n",
       " (14, 'soon', 0, 0, 0, 8, 4),\n",
       " (15, '나 오늘', 0, 0, 0, 9, 5),\n",
       " (16, 'blue', 0, 0, 0, 10, 4),\n",
       " (17, '좋겠다', 0, 0, 0, 11, 6),\n",
       " (18, 'goodbye', 0, 0, 0, 12, 2),\n",
       " (19, '야생화', 0, 0, 0, 13, 2),\n",
       " (20, 'happy together', 0, 0, 0, 14, 2),\n",
       " (21, 'joy to the wolrd', 0, 0, 0, 15, 7),\n",
       " (22, '넌 언제나', 0, 0, 0, 16, 6),\n",
       " (23, '사랑일까?', 0, 0, 0, 17, 6)]"
      ]
     },
     "execution_count": 214,
     "metadata": {},
     "output_type": "execute_result"
    }
   ],
   "source": [
    "cur.execute('SELECT * FROM track')\n",
    "cur.fetchall()"
   ]
  },
  {
   "cell_type": "code",
   "execution_count": 211,
   "id": "2dec816e",
   "metadata": {},
   "outputs": [
    {
     "data": {
      "text/plain": [
       "<sqlite3.Cursor at 0x1de239f9880>"
      ]
     },
     "execution_count": 211,
     "metadata": {},
     "output_type": "execute_result"
    }
   ],
   "source": [
    "# cur.execute('DELETE FROM track')"
   ]
  },
  {
   "cell_type": "code",
   "execution_count": 215,
   "id": "c8bcf04a",
   "metadata": {},
   "outputs": [],
   "source": [
    "con.commit()"
   ]
  },
  {
   "cell_type": "markdown",
   "id": "fa7f1598",
   "metadata": {},
   "source": [
    "<br/> \n",
    "\n",
    "## Join"
   ]
  },
  {
   "cell_type": "code",
   "execution_count": 246,
   "id": "b52d96c2",
   "metadata": {},
   "outputs": [
    {
     "data": {
      "text/plain": [
       "[('아이브', \"I've IVE\"),\n",
       " ('아이브', 'LOVE DIVE'),\n",
       " ('아이브', 'after like'),\n",
       " ('아이유', 'modern times'),\n",
       " ('아이유', 'strawberry moon'),\n",
       " ('아이유', '스무살의 봄'),\n",
       " ('아이유', '조각집'),\n",
       " ('다이나믹 듀오', 'blue'),\n",
       " ('다이나믹 듀오', 'soon'),\n",
       " ('다이나믹 듀오', '나 오늘'),\n",
       " ('다이나믹 듀오', '마음의 소리'),\n",
       " ('박효신', 'goodbye'),\n",
       " ('박효신', 'happy together'),\n",
       " ('박효신', '야생화'),\n",
       " ('제이레빗', 'joy to the world'),\n",
       " ('제이레빗', '슬기로운 의사생활'),\n",
       " ('제이레빗', '연애의 발견')]"
      ]
     },
     "execution_count": 246,
     "metadata": {},
     "output_type": "execute_result"
    }
   ],
   "source": [
    "# 가수 기준일 때 가수의 앨범 불러오기\n",
    "cur.execute('''\n",
    "    SELECT artist.arname, album.alname\n",
    "    FROM artist\n",
    "    LEFT JOIN album\n",
    "    ON artist.arpk=album.arpk\n",
    "''')\n",
    "\n",
    "cur.fetchall()"
   ]
  },
  {
   "cell_type": "code",
   "execution_count": 248,
   "id": "5591b4fa",
   "metadata": {},
   "outputs": [
    {
     "data": {
      "text/plain": [
       "[('아이브', 3), ('아이유', 4), ('다이나믹 듀오', 4), ('박효신', 3), ('제이레빗', 3)]"
      ]
     },
     "execution_count": 248,
     "metadata": {},
     "output_type": "execute_result"
    }
   ],
   "source": [
    "# 가수 기준일 때 가수의 앨범 갯수 불러오기\n",
    "cur.execute('''\n",
    "    SELECT artist.arname, count(album.arpk)\n",
    "    FROM artist\n",
    "    LEFT JOIN album\n",
    "    ON artist.arpk=album.arpk\n",
    "    GROUP BY artist.arpk\n",
    "''')\n",
    "\n",
    "cur.fetchall()"
   ]
  },
  {
   "cell_type": "code",
   "execution_count": 251,
   "id": "93ef7f6c",
   "metadata": {},
   "outputs": [
    {
     "data": {
      "text/plain": [
       "[('댄스', 'After LIKE'),\n",
       " ('댄스', 'I AM'),\n",
       " ('댄스', 'Kitsch'),\n",
       " ('댄스', 'LOVE DIVE'),\n",
       " ('댄스', 'Modern Times'),\n",
       " ('댄스', 'ROYAL'),\n",
       " ('댄스', '분홍신'),\n",
       " ('댄스', '을의 연애'),\n",
       " ('발라드', 'goodbye'),\n",
       " ('발라드', 'happy together'),\n",
       " ('발라드', '겨울잠'),\n",
       " ('발라드', '드라마'),\n",
       " ('발라드', '야생화'),\n",
       " ('발라드', '우울시계'),\n",
       " ('발라드', '하루 끝'),\n",
       " ('락', 'strawberry moon'),\n",
       " ('힙합', 'blue'),\n",
       " ('힙합', 'soon'),\n",
       " ('알앤비', '나 오늘'),\n",
       " ('ost', '넌 언제나'),\n",
       " ('ost', '사랑일까?'),\n",
       " ('ost', '좋겠다'),\n",
       " ('재즈', 'joy to the wolrd')]"
      ]
     },
     "execution_count": 251,
     "metadata": {},
     "output_type": "execute_result"
    }
   ],
   "source": [
    "# 장르 별 노래 목록\n",
    "cur.execute('''\n",
    "    SELECT genre.gname, track.tname\n",
    "    FROM genre\n",
    "    LEFT JOIN track\n",
    "    ON track.gpk = genre.gpk\n",
    "''')\n",
    "cur.fetchall()"
   ]
  },
  {
   "cell_type": "code",
   "execution_count": 256,
   "id": "4990a034",
   "metadata": {},
   "outputs": [
    {
     "data": {
      "text/plain": [
       "[('댄스', 8), ('발라드', 7), ('ost', 3), ('힙합', 2), ('락', 1), ('알앤비', 1), ('재즈', 1)]"
      ]
     },
     "execution_count": 256,
     "metadata": {},
     "output_type": "execute_result"
    }
   ],
   "source": [
    "# 장르 별 노래 갯수\n",
    "cur.execute('''\n",
    "    SELECT genre.gname, count(track.gpk)\n",
    "    FROM genre\n",
    "    LEFT JOIN track\n",
    "    ON track.gpk = genre.gpk\n",
    "    GROUP BY genre.gpk\n",
    "    ORDER BY count(track.gpk) DESC, genre.gname\n",
    "''')\n",
    "cur.fetchall()"
   ]
  },
  {
   "cell_type": "code",
   "execution_count": 259,
   "id": "9ae921ef",
   "metadata": {},
   "outputs": [
    {
     "data": {
      "text/plain": [
       "[('아이브', \"I've IVE\", '댄스', 'I AM'),\n",
       " ('아이브', \"I've IVE\", '댄스', 'Kitsch'),\n",
       " ('아이브', 'after like', '댄스', 'After LIKE'),\n",
       " ('아이브', 'LOVE DIVE', '댄스', 'LOVE DIVE'),\n",
       " ('아이브', 'LOVE DIVE', '댄스', 'ROYAL'),\n",
       " ('아이유', '조각집', '발라드', '드라마'),\n",
       " ('아이유', '조각집', '발라드', '겨울잠'),\n",
       " ('아이유', 'strawberry moon', '락', 'strawberry moon'),\n",
       " ('아이유', 'modern times', '댄스', '을의 연애'),\n",
       " ('아이유', 'modern times', '댄스', '분홍신'),\n",
       " ('아이유', 'modern times', '댄스', 'Modern Times'),\n",
       " ('아이유', 'modern times', '발라드', '우울시계'),\n",
       " ('아이유', '스무살의 봄', '발라드', '하루 끝'),\n",
       " ('다이나믹 듀오', 'soon', '힙합', 'soon'),\n",
       " ('다이나믹 듀오', '나 오늘', '알앤비', '나 오늘'),\n",
       " ('다이나믹 듀오', 'blue', '힙합', 'blue'),\n",
       " ('다이나믹 듀오', '마음의 소리', 'ost', '좋겠다'),\n",
       " ('박효신', 'goodbye', '발라드', 'goodbye'),\n",
       " ('박효신', '야생화', '발라드', '야생화'),\n",
       " ('박효신', 'happy together', '발라드', 'happy together'),\n",
       " ('제이레빗', 'joy to the world', '재즈', 'joy to the wolrd'),\n",
       " ('제이레빗', '슬기로운 의사생활', 'ost', '넌 언제나'),\n",
       " ('제이레빗', '연애의 발견', 'ost', '사랑일까?')]"
      ]
     },
     "execution_count": 259,
     "metadata": {},
     "output_type": "execute_result"
    }
   ],
   "source": [
    "# 전체 목록\n",
    "cur.execute('''\n",
    "    SELECT artist.arname, album.alname, genre.gname, track.tname\n",
    "    FROM track\n",
    "    INNER JOIN genre ON track.gpk=genre.gpk\n",
    "    INNER JOIN album ON track.alpk=album.alpk\n",
    "    INNER JOIN artist ON album.arpk=artist.arpk\n",
    "''')\n",
    "cur.fetchall()"
   ]
  },
  {
   "cell_type": "code",
   "execution_count": 267,
   "id": "684364c7",
   "metadata": {},
   "outputs": [
    {
     "data": {
      "text/plain": [
       "[('아이유', '조각집', '드라마', 0),\n",
       " ('아이유', '조각집', '겨울잠', 0),\n",
       " ('아이유', 'modern times', '우울시계', 0),\n",
       " ('아이유', '스무살의 봄', '하루 끝', 0),\n",
       " ('박효신', 'goodbye', 'goodbye', 0),\n",
       " ('박효신', '야생화', '야생화', 0),\n",
       " ('박효신', 'happy together', 'happy together', 0)]"
      ]
     },
     "execution_count": 267,
     "metadata": {},
     "output_type": "execute_result"
    }
   ],
   "source": [
    "# 장르가 발라드일 때 노래가 짧은 것 순서대로\n",
    "cur.execute('''\n",
    "    SELECT artist.arname, album.alname, track.tname, track.length\n",
    "    FROM track\n",
    "    INNER JOIN genre ON genre.gpk=track.gpk\n",
    "    INNER JOIN album ON album.alpk=track.alpk\n",
    "    INNER JOIN artist ON artist.arpk=album.arpk\n",
    "    WHERE genre.gname='발라드'\n",
    "    ORDER BY track.length\n",
    "''')\n",
    "\n",
    "cur.fetchall()"
   ]
  },
  {
   "cell_type": "code",
   "execution_count": 265,
   "id": "cf62595d",
   "metadata": {},
   "outputs": [
    {
     "data": {
      "text/plain": [
       "[('발라드', 7)]"
      ]
     },
     "execution_count": 265,
     "metadata": {},
     "output_type": "execute_result"
    }
   ],
   "source": [
    "# 발라드 노래 갯수\n",
    "cur.execute('''\n",
    "    SELECT genre.gname, count(genre.gpk) \n",
    "    FROM track\n",
    "    INNER JOIN genre ON genre.gpk=track.gpk\n",
    "    WHERE genre.gname = '발라드'\n",
    "''')\n",
    "\n",
    "cur.fetchall()"
   ]
  },
  {
   "cell_type": "code",
   "execution_count": null,
   "id": "d5bc285a",
   "metadata": {},
   "outputs": [],
   "source": []
  }
 ],
 "metadata": {
  "kernelspec": {
   "display_name": "Python 3 (ipykernel)",
   "language": "python",
   "name": "python3"
  },
  "language_info": {
   "codemirror_mode": {
    "name": "ipython",
    "version": 3
   },
   "file_extension": ".py",
   "mimetype": "text/x-python",
   "name": "python",
   "nbconvert_exporter": "python",
   "pygments_lexer": "ipython3",
   "version": "3.9.12"
  }
 },
 "nbformat": 4,
 "nbformat_minor": 5
}
