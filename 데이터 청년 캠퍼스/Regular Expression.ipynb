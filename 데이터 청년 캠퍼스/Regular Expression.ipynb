{
 "cells": [
  {
   "cell_type": "markdown",
   "id": "11314481",
   "metadata": {},
   "source": [
    "# Regular Expression\n",
    "\n",
    "- 패턴을 가져다 원하는 문자열 혹은 이미지와 같은 것들이 어디에 존재하는지 찾는 것\n",
    "- re.compile => pattern 생성\n",
    "- match, search, findall: 패턴이 존재하는지 확인하는 함수"
   ]
  },
  {
   "cell_type": "code",
   "execution_count": 1,
   "id": "9b362e58",
   "metadata": {},
   "outputs": [],
   "source": [
    "import re"
   ]
  },
  {
   "cell_type": "code",
   "execution_count": 3,
   "id": "dc6ad107",
   "metadata": {},
   "outputs": [],
   "source": [
    "# ^와 같음: 주어진 문자열의 맨 앞에 해당 패턴이 존재하는지 확인\n",
    "# 이럼 결과 안나오고\n",
    "re.match('Hello', 'crowServo')"
   ]
  },
  {
   "cell_type": "code",
   "execution_count": 5,
   "id": "65696f7f",
   "metadata": {},
   "outputs": [
    {
     "data": {
      "text/plain": [
       "<re.Match object; span=(0, 5), match='Hello'>"
      ]
     },
     "execution_count": 5,
     "metadata": {},
     "output_type": "execute_result"
    }
   ],
   "source": [
    "# 이러면 결과 나옴\n",
    "re.match('Hello', 'HelloServo')"
   ]
  },
  {
   "cell_type": "code",
   "execution_count": 6,
   "id": "f733408f",
   "metadata": {},
   "outputs": [
    {
     "data": {
      "text/plain": [
       "<re.Match object; span=(5, 10), match='Hello'>"
      ]
     },
     "execution_count": 6,
     "metadata": {},
     "output_type": "execute_result"
    }
   ],
   "source": [
    "# search는 pattern이 중간에 있어도 찾을 수 있음\n",
    "re.search('Hello', 'ServoHello')"
   ]
  },
  {
   "cell_type": "code",
   "execution_count": 8,
   "id": "266a28a3",
   "metadata": {},
   "outputs": [
    {
     "data": {
      "text/plain": [
       "['Hello', 'Hello']"
      ]
     },
     "execution_count": 8,
     "metadata": {},
     "output_type": "execute_result"
    }
   ],
   "source": [
    "# findall은 pattern이 여러개 존재하면 모두 반환시켜줌\n",
    "re.findall('Hello', 'ServoHelloServoHello')"
   ]
  },
  {
   "cell_type": "code",
   "execution_count": 9,
   "id": "9073fbd0",
   "metadata": {},
   "outputs": [
    {
     "data": {
      "text/plain": [
       "<re.Match object; span=(0, 5), match='Hello'>"
      ]
     },
     "execution_count": 9,
     "metadata": {},
     "output_type": "execute_result"
    }
   ],
   "source": [
    "# ^: 문자열이 Hello로 시작해야함\n",
    "re.search('^Hello', 'HelloServo')"
   ]
  },
  {
   "cell_type": "code",
   "execution_count": 15,
   "id": "567bde1c",
   "metadata": {},
   "outputs": [
    {
     "data": {
      "text/plain": [
       "<re.Match object; span=(4, 9), match='Hello'>"
      ]
     },
     "execution_count": 15,
     "metadata": {},
     "output_type": "execute_result"
    }
   ],
   "source": [
    "# $: 문자열이 Hello로 끝나야함\n",
    "re.search('Hello$', 'asdfHello')"
   ]
  },
  {
   "cell_type": "code",
   "execution_count": 16,
   "id": "d3f2bac7",
   "metadata": {},
   "outputs": [],
   "source": [
    "rst = re.search('Hello$', 'asdfHello')"
   ]
  },
  {
   "cell_type": "code",
   "execution_count": 18,
   "id": "cee6ca3f",
   "metadata": {},
   "outputs": [
    {
     "data": {
      "text/plain": [
       "('Hello', (4, 9))"
      ]
     },
     "execution_count": 18,
     "metadata": {},
     "output_type": "execute_result"
    }
   ],
   "source": [
    "# rst.group(): rst에서 문자열 찾았을 때 그 문자열 반환\n",
    "# rst.span(): 문자열에서 pattern이 존재하는 위치 반환\n",
    "rst.group(), rst.span()"
   ]
  },
  {
   "cell_type": "code",
   "execution_count": 19,
   "id": "c46f458e",
   "metadata": {},
   "outputs": [
    {
     "data": {
      "text/plain": [
       "(4, 9)"
      ]
     },
     "execution_count": 19,
     "metadata": {},
     "output_type": "execute_result"
    }
   ],
   "source": [
    "rst.start(), rst.end()"
   ]
  },
  {
   "cell_type": "code",
   "execution_count": 20,
   "id": "87833df2",
   "metadata": {},
   "outputs": [
    {
     "data": {
      "text/plain": [
       "False"
      ]
     },
     "execution_count": 20,
     "metadata": {},
     "output_type": "execute_result"
    }
   ],
   "source": [
    "True if re.search('pattern$', 'pattern으로 끝날줄 알았지?patter') else False"
   ]
  },
  {
   "cell_type": "code",
   "execution_count": 21,
   "id": "1d0fa852",
   "metadata": {},
   "outputs": [
    {
     "data": {
      "text/plain": [
       "<re.Match object; span=(0, 9), match='abcabcabc'>"
      ]
     },
     "execution_count": 21,
     "metadata": {},
     "output_type": "execute_result"
    }
   ],
   "source": [
    "# (abc)+ : abc가 한 번 이상 반복되는지 확인\n",
    "re.search('(abc)+', 'abcabcabccba')"
   ]
  },
  {
   "cell_type": "code",
   "execution_count": 26,
   "id": "721bd2b3",
   "metadata": {},
   "outputs": [
    {
     "data": {
      "text/plain": [
       "('abcabcabc', 'abcabcabc', 'abc')"
      ]
     },
     "execution_count": 26,
     "metadata": {},
     "output_type": "execute_result"
    }
   ],
   "source": [
    "# rst.group(1)은 grouping한 것 중 첫 번째 group => 현재는 group이 abc 한개임\n",
    "\n",
    "rst = re.search('(abc)+', 'abcabcabccba')\n",
    "rst.group(), rst.group(0), rst.group(1)"
   ]
  },
  {
   "cell_type": "code",
   "execution_count": 58,
   "id": "190d448e",
   "metadata": {},
   "outputs": [
    {
     "data": {
      "text/plain": [
       "<re.Match object; span=(5, 11), match='abc ok'>"
      ]
     },
     "execution_count": 58,
     "metadata": {},
     "output_type": "execute_result"
    }
   ],
   "source": [
    "re.search('(abc)+ (ok)', 'aokbcabc ok')"
   ]
  },
  {
   "cell_type": "code",
   "execution_count": 59,
   "id": "e4468ff8",
   "metadata": {},
   "outputs": [
    {
     "data": {
      "text/plain": [
       "'abc ok'"
      ]
     },
     "execution_count": 59,
     "metadata": {},
     "output_type": "execute_result"
    }
   ],
   "source": [
    "re.search('(abc)+ (ok)', 'aokbcabc ok').group()"
   ]
  },
  {
   "cell_type": "code",
   "execution_count": 62,
   "id": "b65ca378",
   "metadata": {},
   "outputs": [
    {
     "data": {
      "text/plain": [
       "'ok'"
      ]
     },
     "execution_count": 62,
     "metadata": {},
     "output_type": "execute_result"
    }
   ],
   "source": [
    "# group 중 2번째 패턴 출력\n",
    "re.search('(abc)+ (ok)', 'aokbcabc ok').group(2)"
   ]
  },
  {
   "cell_type": "code",
   "execution_count": 71,
   "id": "09202d1f",
   "metadata": {},
   "outputs": [
    {
     "data": {
      "text/plain": [
       "'abc'"
      ]
     },
     "execution_count": 71,
     "metadata": {},
     "output_type": "execute_result"
    }
   ],
   "source": [
    "# group()으로 검색 시 패턴에 포함된 문자열 반환\n",
    "re.search('(?:abc)+', 'aokbcabc ok').group()"
   ]
  },
  {
   "cell_type": "code",
   "execution_count": 72,
   "id": "822d20be",
   "metadata": {},
   "outputs": [
    {
     "ename": "IndexError",
     "evalue": "no such group",
     "output_type": "error",
     "traceback": [
      "\u001b[1;31m---------------------------------------------------------------------------\u001b[0m",
      "\u001b[1;31mIndexError\u001b[0m                                Traceback (most recent call last)",
      "Input \u001b[1;32mIn [72]\u001b[0m, in \u001b[0;36m<cell line: 2>\u001b[1;34m()\u001b[0m\n\u001b[0;32m      1\u001b[0m \u001b[38;5;66;03m# group()으로 검색 시 패턴에 포함된 문자열 반환\u001b[39;00m\n\u001b[1;32m----> 2\u001b[0m \u001b[43mre\u001b[49m\u001b[38;5;241;43m.\u001b[39;49m\u001b[43msearch\u001b[49m\u001b[43m(\u001b[49m\u001b[38;5;124;43m'\u001b[39;49m\u001b[38;5;124;43m(?:abc)+\u001b[39;49m\u001b[38;5;124;43m'\u001b[39;49m\u001b[43m,\u001b[49m\u001b[43m \u001b[49m\u001b[38;5;124;43m'\u001b[39;49m\u001b[38;5;124;43maokbcabc ok\u001b[39;49m\u001b[38;5;124;43m'\u001b[39;49m\u001b[43m)\u001b[49m\u001b[38;5;241;43m.\u001b[39;49m\u001b[43mgroup\u001b[49m\u001b[43m(\u001b[49m\u001b[38;5;241;43m1\u001b[39;49m\u001b[43m)\u001b[49m\n",
      "\u001b[1;31mIndexError\u001b[0m: no such group"
     ]
    }
   ],
   "source": [
    "# group(1)을 할 경우 abc를 그룹화하지 않기 때문에 에러 발생\n",
    "re.search('(?:abc)+', 'aokbcabc ok').group(1)"
   ]
  },
  {
   "cell_type": "code",
   "execution_count": 79,
   "id": "357527a7",
   "metadata": {},
   "outputs": [
    {
     "data": {
      "text/plain": [
       "('\\n', '\\\\n', '\\\\\\n', '\\\\\\\\n')"
      ]
     },
     "execution_count": 79,
     "metadata": {},
     "output_type": "execute_result"
    }
   ],
   "source": [
    "# \\n같이 개행으로 인식되는 경우를 방지하기 위해 \\를 한 개 더 붙여주거나 정규식에서는 escape처리를 함\n",
    "'\\n', r'\\n', re.escape('\\n'), re.escape(r'\\n')"
   ]
  },
  {
   "cell_type": "code",
   "execution_count": 97,
   "id": "bfdd32ac",
   "metadata": {},
   "outputs": [
    {
     "data": {
      "text/plain": [
       "(None, <re.Match object; span=(6, 11), match='class'>, None)"
      ]
     },
     "execution_count": 97,
     "metadata": {},
     "output_type": "execute_result"
    }
   ],
   "source": [
    "# \\bclass\\b로 검색할 경우 \\b가 문자열로 인식이 되지 않아 검색 불가능\n",
    "re.search('\\bclass\\b', 'hello class hello'), \\\n",
    "re.search(r'\\bclass\\b', 'hello class hello'), \\\n",
    "re.search(r'\\bclass\\b', 'helloclasshello')"
   ]
  },
  {
   "cell_type": "markdown",
   "id": "75a7f004",
   "metadata": {},
   "source": [
    "<br/>\n",
    "\n",
    "# Greedy & Lazy\n",
    "- Greedy는 제일 나중에 만나는 위치\n",
    "- Lazy는 제일 처음 만나는 위치"
   ]
  },
  {
   "cell_type": "code",
   "execution_count": 98,
   "id": "133df526",
   "metadata": {},
   "outputs": [
    {
     "data": {
      "text/plain": [
       "<re.Match object; span=(0, 12), match='stackoverflo'>"
      ]
     },
     "execution_count": 98,
     "metadata": {},
     "output_type": "execute_result"
    }
   ],
   "source": [
    "# Greedy 방법: s로 시작, 문자열이 0개 이상, o로 끝나는 경우\n",
    "re.search('s.*o', 'stackoverflow')"
   ]
  },
  {
   "cell_type": "code",
   "execution_count": 99,
   "id": "15b3f3da",
   "metadata": {},
   "outputs": [
    {
     "data": {
      "text/plain": [
       "<re.Match object; span=(0, 6), match='stacko'>"
      ]
     },
     "execution_count": 99,
     "metadata": {},
     "output_type": "execute_result"
    }
   ],
   "source": [
    "# Lazy 방법: s로 시작, 문자열이 1개 이하, o로 끝나는 경우\n",
    "re.search('s.*?o', 'stackoverflow')"
   ]
  },
  {
   "cell_type": "markdown",
   "id": "e9f6d22f",
   "metadata": {},
   "source": [
    "<br/> \n",
    "\n",
    "# Example1. 주민번호 마스킹"
   ]
  },
  {
   "cell_type": "code",
   "execution_count": 12,
   "id": "23710dd6",
   "metadata": {},
   "outputs": [
    {
     "name": "stdout",
     "output_type": "stream",
     "text": [
      "아무개 990000-*******\n",
      "개똥이 010101-*******\n"
     ]
    }
   ],
   "source": [
    "# 주민번호를 masking하라 (ver.정규식 비사용)\n",
    "data = '아무개 990000-1231231\\n개똥이 010101-4010101'\n",
    "\n",
    "for line in data.splitlines():\n",
    "    n = line.split('-')\n",
    "    if len(n[1]) == 7 and n[1].isdigit() and n[1][0] in ['1','2','3','4']:\n",
    "        n[1] = '*'*7\n",
    "        print(n[0] +'-'+ n[1])\n",
    "    \n",
    "    else:\n",
    "        print(line, ['X'])"
   ]
  },
  {
   "cell_type": "code",
   "execution_count": 34,
   "id": "88051fea",
   "metadata": {},
   "outputs": [
    {
     "name": "stdout",
     "output_type": "stream",
     "text": [
      "아무개 990000-*******\n",
      "개똥이 010101-*******\n"
     ]
    }
   ],
   "source": [
    "# 주민번호를 masking하라 (ver.정규식+for문 사용)\n",
    "data = '아무개 990000-1231231\\n개똥이 010101-4010101'\n",
    "\n",
    "for line in data.splitlines():\n",
    "    if re.search(r'[1-4]\\d{6}', line):\n",
    "        print(re.sub(r'[1-4]\\d{6}', '*'*7, line))\n",
    "        \n",
    "    else:\n",
    "        print(line, '[X]')"
   ]
  },
  {
   "cell_type": "code",
   "execution_count": 22,
   "id": "36b57b28",
   "metadata": {},
   "outputs": [
    {
     "name": "stdout",
     "output_type": "stream",
     "text": [
      "아무개 990000-*******\n",
      "개똥이 010101-*******\n"
     ]
    }
   ],
   "source": [
    "# 주민번호를 masking하라 (ver.정규식 사용)\n",
    "data = '아무개 990000-1231231\\n개똥이 010101-4010101'\n",
    "\n",
    "print(re.sub(r'[0-9]{7}', '*'*7, data))"
   ]
  },
  {
   "cell_type": "markdown",
   "id": "42a7b66e",
   "metadata": {},
   "source": [
    "<br/> \n",
    "\n",
    "# Example2. 문자열에서 핸드폰 번호 찾기"
   ]
  },
  {
   "cell_type": "code",
   "execution_count": 36,
   "id": "b693e1d8",
   "metadata": {},
   "outputs": [
    {
     "name": "stdout",
     "output_type": "stream",
     "text": [
      "['010-1234-1234']\n"
     ]
    }
   ],
   "source": [
    "# 데이터 중 전화번호를 찾아서 출력하라1\n",
    "data = '''\n",
    "010-1234-1234\n",
    "'''\n",
    "\n",
    "print(re.findall(r'\\d{3}[-]\\d{4}[-]\\d{4}', data))"
   ]
  },
  {
   "cell_type": "code",
   "execution_count": 49,
   "id": "33d3985b",
   "metadata": {},
   "outputs": [
    {
     "data": {
      "text/plain": [
       "[('010', '1234', '1234'),\n",
       " ('011', '1234', '1234'),\n",
       " ('02', '1234', '1234'),\n",
       " ('02', '123', '1234'),\n",
       " ('02', '1234', '1334')]"
      ]
     },
     "execution_count": 49,
     "metadata": {},
     "output_type": "execute_result"
    }
   ],
   "source": [
    "# 데이터 중 전화번호를 찾아서 출력하라2\n",
    "data = '''\n",
    "이 전화번호 010-1234-1234로 연락주세요\n",
    "011-1234-1234\n",
    "02-1234-1234\n",
    "02.123.1234\n",
    "02    1234\\t1334\n",
    "'''\n",
    "\n",
    "re.findall(r'(\\d{2,3})[-. \\t]+(\\d{3,4})[-. \\t]+(\\d{4})', data)"
   ]
  },
  {
   "cell_type": "code",
   "execution_count": 62,
   "id": "18b4119a",
   "metadata": {},
   "outputs": [
    {
     "data": {
      "text/plain": [
       "[('', '010', '1234', '1234'),\n",
       " ('', '011', '1234', '1234'),\n",
       " ('', '02', '1234', '1234'),\n",
       " ('', '02', '123', '1234'),\n",
       " ('', '02', '1234', '1334'),\n",
       " ('82 ', '010', '1234', '1234'),\n",
       " ('82 ', '10', '1234', '1234'),\n",
       " ('82 ', '010', '1235', '1234')]"
      ]
     },
     "execution_count": 62,
     "metadata": {},
     "output_type": "execute_result"
    }
   ],
   "source": [
    "# 데이터 중 전화번호를 찾아서 출력하라3\n",
    "data = '''\n",
    "이 전화번호 010-1234-1234로 연락주세요\n",
    "011-1234-1234\n",
    "02-1234-1234\n",
    "02.123.1234\n",
    "02    1234\\t1334\n",
    "82 010 1234 1234\n",
    "82 10 1234 1234\n",
    "+82 010 1235 1234\n",
    "'''\n",
    "\n",
    "re.findall(r'(\\d{2}[-. \\t]+)?(\\d{2,3})[-. \\t]+(\\d{3,4})[-. \\t]+(\\d{4})', data)"
   ]
  },
  {
   "cell_type": "markdown",
   "id": "52948fd2",
   "metadata": {},
   "source": [
    "<br/> \n",
    "\n",
    "# Example3. 문자열에서 이메일 찾기"
   ]
  },
  {
   "cell_type": "code",
   "execution_count": 67,
   "id": "c69b2506",
   "metadata": {},
   "outputs": [
    {
     "data": {
      "text/plain": [
       "[('test', 'test.com')]"
      ]
     },
     "execution_count": 67,
     "metadata": {},
     "output_type": "execute_result"
    }
   ],
   "source": [
    "data = '''\n",
    "test@test.com\n",
    "'''\n",
    "\n",
    "re.findall(r'([a-z]+)[@]([a-z]+[.][a-z]+)', data)"
   ]
  },
  {
   "cell_type": "code",
   "execution_count": 75,
   "id": "14c881f7",
   "metadata": {},
   "outputs": [
    {
     "data": {
      "text/plain": [
       "[('test', 'test.com'),\n",
       " ('test', 'test.co.kr'),\n",
       " ('test', 'email.test.co.kr'),\n",
       " ('test', 'm.email.test.co.kr')]"
      ]
     },
     "execution_count": 75,
     "metadata": {},
     "output_type": "execute_result"
    }
   ],
   "source": [
    "data = '''\n",
    "test@test.com\n",
    "test@test.co.kr\n",
    "test@email.test.co.kr\n",
    "test@m.email.test.co.kr\n",
    "'''\n",
    "\n",
    "re.findall(r'([a-z]+)[@]([a-z]+(?:[.][a-z]+)+)', data)"
   ]
  },
  {
   "cell_type": "markdown",
   "id": "aabdbacc",
   "metadata": {},
   "source": [
    "<br/> \n",
    "\n",
    "# Example4. 문자열에서 웹페이지 찾기"
   ]
  },
  {
   "cell_type": "code",
   "execution_count": 130,
   "id": "74d840f4",
   "metadata": {},
   "outputs": [
    {
     "data": {
      "text/plain": [
       "[('https', 'www.naver.com')]"
      ]
     },
     "execution_count": 130,
     "metadata": {},
     "output_type": "execute_result"
    }
   ],
   "source": [
    "data = '''\n",
    "https://www.naver.com\n",
    "'''\n",
    "\n",
    "re.findall(r'([a-z]+)[:/]+([a-z]+(?:[.][a-z]+)+)', data)"
   ]
  },
  {
   "cell_type": "code",
   "execution_count": 128,
   "id": "d25c97e4",
   "metadata": {},
   "outputs": [
    {
     "data": {
      "text/plain": [
       "[('https', 'www.naver.com'),\n",
       " ('http', 'www.naver.com'),\n",
       " ('', 'www.naver.com'),\n",
       " ('', 'www2.naver.com')]"
      ]
     },
     "execution_count": 128,
     "metadata": {},
     "output_type": "execute_result"
    }
   ],
   "source": [
    "data = '''\n",
    "https://www.naver.com\n",
    "http://www.naver.com\n",
    "www.naver.com\n",
    "www2.naver.com\n",
    "'''\n",
    "\n",
    "re.findall(r'(?:([a-z]+)[:/]+)?([a-z0-9]+(?:[.][a-z]+)+)', data)"
   ]
  },
  {
   "cell_type": "code",
   "execution_count": 133,
   "id": "8029ea14",
   "metadata": {},
   "outputs": [
    {
     "data": {
      "text/plain": [
       "[('https', 'www.naver.com', ''),\n",
       " ('http', 'www.naver.com', ''),\n",
       " ('', 'www.naver.com', ''),\n",
       " ('', 'www2.naver.com', ''),\n",
       " ('', 'naver.com', '/index.nhn'),\n",
       " ('', 'm.naver.com', ''),\n",
       " ('', 'mail.naver.com', ''),\n",
       " ('', 'mail.naver.com', '/'),\n",
       " ('', 'www.naver.com', '/search/asdfa.index?key=value')]"
      ]
     },
     "execution_count": 133,
     "metadata": {},
     "output_type": "execute_result"
    }
   ],
   "source": [
    "data = '''\n",
    "https://www.naver.com\n",
    "http://www.naver.com\n",
    "www.naver.com\n",
    "www2.naver.com\n",
    "naver.com/index.nhn\n",
    "m.naver.com\n",
    "mail.naver.com\n",
    "mail.naver.com/\n",
    "www.naver.com/search/asdfa.index?key=value\n",
    "'''\n",
    "\n",
    "# /index.nhn: path(root)부분 추가\n",
    "re.findall(r'(?:([a-z]+)[:/]+)?([a-z0-9]+(?:[.][a-z]+)+)([/a-z.?=]+)?', data)"
   ]
  },
  {
   "cell_type": "markdown",
   "id": "0d238900",
   "metadata": {},
   "source": [
    "<br/>\n",
    "\n",
    "# 정규식 코테 문제"
   ]
  },
  {
   "cell_type": "code",
   "execution_count": 207,
   "id": "c21fdcb8",
   "metadata": {},
   "outputs": [
    {
     "name": "stdout",
     "output_type": "stream",
     "text": [
      "특수문자 삭제: abcdefghijklmn.p\n",
      ".. => .: abcdefghijklmn.p\n",
      "첫 . 삭제: abcdefghijklmn.p\n",
      "끝 . 삭제: abcdefghijklmn.p\n",
      "15자 초과: abcdefghijklmn.\n",
      "마지막 . 삭제:abcdefghijklmn\n",
      "abcdefghijklmn\n"
     ]
    }
   ],
   "source": [
    "# data = '''...\n",
    "# !@BaT#*..y.abcdefghijklm\n",
    "# z-+.^.\n",
    "# =.=\n",
    "# 123_.def\n",
    "# abcdefghijklmn.p\n",
    "# '''\n",
    "\n",
    "data = 'abcdefghijklmn.p'\n",
    "\n",
    "if not data.islower():\n",
    "    data = data.lower()\n",
    "    print(f'Data lower:{data}')\n",
    "\n",
    "data = re.sub(r'[^a-z0-9-_.]+', '', data)\n",
    "print(f'특수문자 삭제: {data}')\n",
    "\n",
    "data = re.sub(r'[.]{2,}', '.', data)\n",
    "print(f'.. => .: {data}')\n",
    "\n",
    "data = re.sub(r'^[.]', '', data)\n",
    "print(f'첫 . 삭제: {data}')\n",
    "\n",
    "data = re.sub(r'[.]$', '', data)\n",
    "print(f'끝 . 삭제: {data}')\n",
    "\n",
    "if not data:\n",
    "    data = 'a'\n",
    "    print('Data None')\n",
    "\n",
    "if len(data)>15:\n",
    "    data = data[:15]\n",
    "    print(f'15자 초과: {data}')\n",
    "\n",
    "data = re.sub(r'[.]$', '', data)\n",
    "print(f'마지막 . 삭제:{data}')\n",
    "\n",
    "if len(data) < 3:\n",
    "    temp = data[-1]\n",
    "    print(f'temp:{temp}')\n",
    "    while len(data) != 3:\n",
    "        data += temp\n",
    "        \n",
    "print(data)\n",
    "\n",
    "        \n"
   ]
  },
  {
   "cell_type": "code",
   "execution_count": null,
   "id": "9268714f",
   "metadata": {},
   "outputs": [],
   "source": [
    "\n"
   ]
  }
 ],
 "metadata": {
  "kernelspec": {
   "display_name": "Python 3 (ipykernel)",
   "language": "python",
   "name": "python3"
  },
  "language_info": {
   "codemirror_mode": {
    "name": "ipython",
    "version": 3
   },
   "file_extension": ".py",
   "mimetype": "text/x-python",
   "name": "python",
   "nbconvert_exporter": "python",
   "pygments_lexer": "ipython3",
   "version": "3.9.12"
  }
 },
 "nbformat": 4,
 "nbformat_minor": 5
}
