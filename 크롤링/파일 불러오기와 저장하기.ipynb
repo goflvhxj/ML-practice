{
  "nbformat": 4,
  "nbformat_minor": 0,
  "metadata": {
    "colab": {
      "provenance": [],
      "authorship_tag": "ABX9TyPTLqAA1zcmDsCzJyZh7hQr",
      "include_colab_link": true
    },
    "kernelspec": {
      "name": "python3",
      "display_name": "Python 3"
    },
    "language_info": {
      "name": "python"
    }
  },
  "cells": [
    {
      "cell_type": "markdown",
      "metadata": {
        "id": "view-in-github",
        "colab_type": "text"
      },
      "source": [
        "<a href=\"https://colab.research.google.com/github/goflvhxj/MLDL_practice/blob/main/%ED%81%AC%EB%A1%A4%EB%A7%81/%ED%8C%8C%EC%9D%BC%20%EB%B6%88%EB%9F%AC%EC%98%A4%EA%B8%B0%EC%99%80%20%EC%A0%80%EC%9E%A5%ED%95%98%EA%B8%B0.ipynb\" target=\"_parent\"><img src=\"https://colab.research.google.com/assets/colab-badge.svg\" alt=\"Open In Colab\"/></a>"
      ]
    },
    {
      "cell_type": "code",
      "execution_count": null,
      "metadata": {
        "colab": {
          "base_uri": "https://localhost:8080/"
        },
        "id": "Q27IEdVuJWiP",
        "outputId": "ca20cb35-d283-4baf-ed1c-c6671fa6e82b"
      },
      "outputs": [
        {
          "output_type": "stream",
          "name": "stdout",
          "text": [
            "Mounted at /content/drive\n"
          ]
        }
      ],
      "source": [
        "from google.colab import drive\n",
        "drive.mount('/content/drive')"
      ]
    },
    {
      "cell_type": "code",
      "source": [
        "import os\n",
        "import pandas as pd\n",
        "\n",
        "# colab에서는 반드시 드라이브에 업로드 후 가져와야함\n",
        "f = open(\"/content/drive/MyDrive/Colab Notebooks/파이썬 웹크롤러 제작/url_list.txt\",'r')\n",
        "\n",
        "txt = f.readlines()\n",
        "print(txt)\n",
        "\n",
        "naver = []\n",
        "daum = []\n",
        "tistory = []\n",
        "\n",
        "for i in range(0, len(txt)):\n",
        "  txt2 = txt[i].split('/')\n",
        "  txt3 = txt2[2].replace(\"\\n\",\"\")\n",
        "\n",
        "  if txt3 == \"blog.naver.com\":\n",
        "    naver.append(txt[i])\n",
        "\n",
        "  elif txt3 == \"blog.daum.net\":\n",
        "    daum.append(txt[i])\n",
        "\n",
        "  else:\n",
        "    tistory.append(txt[i])\n",
        "\n",
        "# 시뮬레이션 2\n",
        "url = pd.DataFrame()\n",
        "\n",
        "url['NAVER URL주소'] = naver\n",
        "url['DAUM URL주소'] = daum\n",
        "url['TISTORY URL주소'] = tistory\n",
        "\n",
        "# 새로운 폴더 생성하기\n",
        "#os.makedirs('/content/drive/MyDrive/Colab Notebooks/파이썬 웹크롤러 제작/temp')\n",
        "\n",
        "url.to_csv(\"/content/drive/MyDrive/Colab Notebooks/파이썬 웹크롤러 제작/temp/url_list.csv\", encoding='utf-8-sig',index=True)\n",
        "\n",
        "url.to_excel('/content/drive/MyDrive/Colab Notebooks/파이썬 웹크롤러 제작/temp/url_list.xls')"
      ],
      "metadata": {
        "colab": {
          "base_uri": "https://localhost:8080/"
        },
        "id": "4iGNn1wTJeaI",
        "outputId": "523097a1-6670-4bb0-94eb-ee0ffbd28aaa"
      },
      "execution_count": null,
      "outputs": [
        {
          "output_type": "stream",
          "name": "stdout",
          "text": [
            "['http://blog.naver.com\\n', 'http://blog.daum.net\\n', 'http://blog.tistory.com']\n"
          ]
        },
        {
          "output_type": "stream",
          "name": "stderr",
          "text": [
            "/usr/local/lib/python3.7/dist-packages/ipykernel_launcher.py:39: FutureWarning: As the xlwt package is no longer maintained, the xlwt engine will be removed in a future version of pandas. This is the only engine in pandas that supports writing in the xls format. Install openpyxl and write to an xlsx file instead. You can set the option io.excel.xls.writer to 'xlwt' to silence this warning. While this option is deprecated and will also raise a warning, it can be globally set and the warning suppressed.\n"
          ]
        }
      ]
    },
    {
      "cell_type": "code",
      "source": [],
      "metadata": {
        "id": "6heo21HhJ-Cq"
      },
      "execution_count": null,
      "outputs": []
    }
  ]
}