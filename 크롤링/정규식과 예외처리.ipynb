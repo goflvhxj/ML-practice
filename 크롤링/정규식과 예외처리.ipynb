{
  "nbformat": 4,
  "nbformat_minor": 0,
  "metadata": {
    "colab": {
      "provenance": [],
      "authorship_tag": "ABX9TyMVknu9OdHOFTvLLWzy7uss",
      "include_colab_link": true
    },
    "kernelspec": {
      "name": "python3",
      "display_name": "Python 3"
    },
    "language_info": {
      "name": "python"
    }
  },
  "cells": [
    {
      "cell_type": "markdown",
      "metadata": {
        "id": "view-in-github",
        "colab_type": "text"
      },
      "source": [
        "<a href=\"https://colab.research.google.com/github/goflvhxj/MLDL_practice/blob/main/%ED%81%AC%EB%A1%A4%EB%A7%81/%EC%A0%95%EA%B7%9C%EC%8B%9D%EA%B3%BC%20%EC%98%88%EC%99%B8%EC%B2%98%EB%A6%AC.ipynb\" target=\"_parent\"><img src=\"https://colab.research.google.com/assets/colab-badge.svg\" alt=\"Open In Colab\"/></a>"
      ]
    },
    {
      "cell_type": "code",
      "execution_count": null,
      "metadata": {
        "colab": {
          "base_uri": "https://localhost:8080/"
        },
        "id": "sRBo_Bo7qArt",
        "outputId": "98e2f562-7995-4552-dd70-76b67a79ba83"
      },
      "outputs": [
        {
          "output_type": "stream",
          "name": "stdout",
          "text": [
            "Drive already mounted at /content/drive; to attempt to forcibly remount, call drive.mount(\"/content/drive\", force_remount=True).\n"
          ]
        }
      ],
      "source": [
        "from google.colab import drive\n",
        "drive.mount('/content/drive')"
      ]
    },
    {
      "cell_type": "code",
      "source": [
        "import re\n",
        "url = '<a href=\"https://blog.naver.com/abc1224\"> 여행블로그 </a>'\n",
        "print(re.search('href=\"(.*?)\">',url).group(1)) #(.*?)과 같은 기호들에 해당되는 결과만 추출해라"
      ],
      "metadata": {
        "id": "O9q1riiLqCVv",
        "colab": {
          "base_uri": "https://localhost:8080/"
        },
        "outputId": "5c8141fc-8c1c-424e-8398-b8659885b877"
      },
      "execution_count": null,
      "outputs": [
        {
          "output_type": "stream",
          "name": "stdout",
          "text": [
            "https://blog.naver.com/abc1224\n"
          ]
        }
      ]
    },
    {
      "cell_type": "markdown",
      "source": [
        "정규식 : 원하는 패턴이나 형태를 기호를 이용해 알려주는 방법"
      ],
      "metadata": {
        "id": "IjsElTQS7qok"
      }
    },
    {
      "cell_type": "markdown",
      "source": [
        "### 1. 정규식 기호\n",
        "- **.** : 임의의 한 문자가 존재(점 3개찍으면 세글자로 인식 -> 숫자, 영어, 한글 상관x)\n",
        "- **?** : 바로 앞의 문자가 존재하거나 존재하지 않음\n",
        "- *(별) : 바로 앞의 문자가 존재하지 않거나 무한대로 존재\n",
        "- **+** : 바로 앞의 문자가 한 번 이상 존재\n",
        "- **^** : 바로 뒤의 문자로 문자열이 시작\n",
        "- **$** : 바로 앞의 문자로 문자열이 끝남\n",
        "- {숫자} : 숫자만큼 반복\n",
        "- {숫자,} : 숫자 이상만큼 반복\n",
        "- {숫자1,숫자2} : 숫자 1이상, 숫자 2이하만큼 반복\n",
        "- (문자열) : 문자나 문자열을 묶음\n",
        "- [문자1, 문자2..] : 대괄호 안에 있는 문자들이 존재하는지 검색\n",
        "- [^] : **^** 기호 바로 뒤에 문자가 존재하지 않음\n",
        "- [:alpha:] : 알파벳과 모든 글자(한글, 한자) 포함\n",
        "- [:alnum:] : 알파벳, 숫자만 검색\n",
        "- [:digit:] : 숫자만 검색\n",
        "- [:upper:] : 대문자만 검색\n",
        "- **\\\\** : \\(역슬래쉬) 글자 자체를 검색\n",
        "- **\\d** : 모든 숫자를 검색. [0-9]와 동일\n"
      ],
      "metadata": {
        "id": "7pMBWVkZ8B2N"
      }
    },
    {
      "cell_type": "markdown",
      "source": [
        "## 2. 예외처리"
      ],
      "metadata": {
        "id": "ErHBMxkj_ELW"
      }
    },
    {
      "cell_type": "code",
      "source": [
        "no1 = int(input(\"숫자만 입력하세요:\"))"
      ],
      "metadata": {
        "colab": {
          "base_uri": "https://localhost:8080/"
        },
        "id": "zNCAT2GJGAXX",
        "outputId": "cfd0b03d-1068-4c00-bb2b-351a682a741b"
      },
      "execution_count": null,
      "outputs": [
        {
          "name": "stdout",
          "output_type": "stream",
          "text": [
            "숫자만 입력하세요:1\n"
          ]
        }
      ]
    },
    {
      "cell_type": "code",
      "source": [
        "try :\n",
        "  no1 = int(input(\"숫자만 입력하세요:\"))\n",
        "\n",
        "except ValueError:\n",
        "  print(\"숫자만 입력해주세요!\")"
      ],
      "metadata": {
        "colab": {
          "base_uri": "https://localhost:8080/"
        },
        "id": "YZLhHgYmGDaC",
        "outputId": "3101fc95-e660-4250-da95-7ce499cc2123"
      },
      "execution_count": null,
      "outputs": [
        {
          "output_type": "stream",
          "name": "stdout",
          "text": [
            "숫자만 입력하세요:ㅁ\n",
            "숫자만 입력해주세요!\n"
          ]
        }
      ]
    },
    {
      "cell_type": "code",
      "source": [
        "no1 = 10\n",
        "no2 = 0\n",
        "try :\n",
        "  print(no1/no2)\n",
        "except ZeroDivisionError:\n",
        "  print(\"0으로 나눌수 없습니다!\")"
      ],
      "metadata": {
        "colab": {
          "base_uri": "https://localhost:8080/"
        },
        "id": "cbUxMVUVGQLZ",
        "outputId": "9b221140-c987-4f45-e9a7-3b2608e83d28"
      },
      "execution_count": null,
      "outputs": [
        {
          "output_type": "stream",
          "name": "stdout",
          "text": [
            "0으로 나눌수 없습니다!\n"
          ]
        }
      ]
    },
    {
      "cell_type": "code",
      "source": [
        "try :\n",
        "  print(no1/no2)\n",
        "\n",
        "except ValueError:\n",
        "  print(\"숫자만 입력해주세요!\")\n",
        "\n",
        "except ZeroDivisionError:\n",
        "  print(\"0으로 나눌 수 없습니다!\")"
      ],
      "metadata": {
        "colab": {
          "base_uri": "https://localhost:8080/"
        },
        "id": "iNzmrpdIGi8z",
        "outputId": "955baeed-1491-493d-9f96-ff0a4728567b"
      },
      "execution_count": null,
      "outputs": [
        {
          "output_type": "stream",
          "name": "stdout",
          "text": [
            "0으로 나눌 수 없습니다!\n"
          ]
        }
      ]
    },
    {
      "cell_type": "code",
      "source": [
        "try :\n",
        "  no1 = int(input(\"숫자만 입력하세요:\"))\n",
        "except ValueError:\n",
        "  print(\"숫자가 아닙니다!\")\n",
        "else:\n",
        "  print(no1 * 2)\n",
        "finally:\n",
        "  print(\"이 문장은 무조건 실행됩니다!\")"
      ],
      "metadata": {
        "colab": {
          "base_uri": "https://localhost:8080/"
        },
        "id": "CuIMhjKmGzKN",
        "outputId": "4b06b234-9e85-4a0d-9183-e53ffc832dc3"
      },
      "execution_count": null,
      "outputs": [
        {
          "output_type": "stream",
          "name": "stdout",
          "text": [
            "숫자만 입력하세요:ㄹ\n",
            "숫자가 아닙니다!\n",
            "이 문장은 무조건 실행됩니다!\n"
          ]
        }
      ]
    },
    {
      "cell_type": "code",
      "source": [],
      "metadata": {
        "id": "DgcpduL1KQva"
      },
      "execution_count": null,
      "outputs": []
    }
  ]
}