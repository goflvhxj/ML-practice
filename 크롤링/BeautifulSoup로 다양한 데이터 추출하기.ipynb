{
  "nbformat": 4,
  "nbformat_minor": 0,
  "metadata": {
    "colab": {
      "provenance": [],
      "authorship_tag": "ABX9TyNEJ0i1ff3ETO6Eb4MmbBDN",
      "include_colab_link": true
    },
    "kernelspec": {
      "name": "python3",
      "display_name": "Python 3"
    },
    "language_info": {
      "name": "python"
    }
  },
  "cells": [
    {
      "cell_type": "markdown",
      "metadata": {
        "id": "view-in-github",
        "colab_type": "text"
      },
      "source": [
        "<a href=\"https://colab.research.google.com/github/goflvhxj/MLDL_practice/blob/main/%ED%81%AC%EB%A1%A4%EB%A7%81/BeautifulSoup%EB%A1%9C%20%EB%8B%A4%EC%96%91%ED%95%9C%20%EB%8D%B0%EC%9D%B4%ED%84%B0%20%EC%B6%94%EC%B6%9C%ED%95%98%EA%B8%B0.ipynb\" target=\"_parent\"><img src=\"https://colab.research.google.com/assets/colab-badge.svg\" alt=\"Open In Colab\"/></a>"
      ]
    },
    {
      "cell_type": "code",
      "execution_count": null,
      "metadata": {
        "colab": {
          "base_uri": "https://localhost:8080/"
        },
        "id": "bKzoMLBxUTtt",
        "outputId": "e2340d72-452d-4112-e549-3d32be030a15"
      },
      "outputs": [
        {
          "output_type": "stream",
          "name": "stdout",
          "text": [
            "Mounted at /content/drive\n"
          ]
        }
      ],
      "source": [
        "from google.colab import drive\n",
        "drive.mount('/content/drive')"
      ]
    },
    {
      "cell_type": "code",
      "source": [
        "from bs4 import BeautifulSoup"
      ],
      "metadata": {
        "id": "swTCuI15dMGu"
      },
      "execution_count": null,
      "outputs": []
    },
    {
      "cell_type": "code",
      "source": [
        "html = '''\n",
        "<html>\n",
        "\t<head>\n",
        "\t\t<h1> 사야할 과일\n",
        "\t</head>\n",
        "\t<body>\n",
        "\t\t<h1> 시장가서 사야할 과일 목록\n",
        "\t\t\t<div><p id='fruits1' class='name1' title='바나나'> 바나나\n",
        "\t\t\t\t\t<span class = 'price'> 3000원 </span>\n",
        "\t\t\t\t\t<span class = 'count'> 10개 </span>\n",
        "\t\t\t\t\t<span class = 'store'> 바나나가게 </span>\n",
        "\t\t\t\t\t<a href = 'https://www.banana.com'> banana.com </a>\n",
        "\t\t\t\t</p>\n",
        "\t\t\t</div>\n",
        "\t\t\t<div><p id='fruits2' class='name2' title='체리'> 체리\n",
        "\t\t\t\t\t<span class = 'price'> 100원 </span>\n",
        "\t\t\t\t\t<span class = 'count'> 50개 </span>\n",
        "\t\t\t\t\t<span class = 'store'> 체리가게 </span>\n",
        "\t\t\t\t\t<a href = 'https://www.cherry.com'> cherry.com </a>\n",
        "\t\t\t\t</p>\n",
        "\t\t\t</div>\n",
        "\t\t\t<div><p id='fruits3' class='name3' title='오렌지'> 오렌지\n",
        "\t\t\t\t\t<span class = 'price'> 500원 </span>\n",
        "\t\t\t\t\t<span class = 'count'> 20개 </span>\n",
        "\t\t\t\t\t<span class = 'store'> 오렌지가게 </span>\n",
        "\t\t\t\t\t<a href = 'https://www.orange.com'> orange.com </a>\n",
        "\t\t\t\t</p>\n",
        "\t\t\t</div>\n",
        "\t</body>\n",
        "</html>'''\n"
      ],
      "metadata": {
        "id": "IV6zNKWbezkP"
      },
      "execution_count": null,
      "outputs": []
    },
    {
      "cell_type": "markdown",
      "source": [
        "### 1) select('태그이름')"
      ],
      "metadata": {
        "id": "bJQjO6AigjAI"
      }
    },
    {
      "cell_type": "code",
      "source": [
        "soup = BeautifulSoup(html, 'html.parser')\n",
        "soup.select('p') # 분석결과에서 <p>태그를 찾아라"
      ],
      "metadata": {
        "colab": {
          "base_uri": "https://localhost:8080/"
        },
        "id": "lJ4JFwCLfrwm",
        "outputId": "cf82954a-07a0-43ef-d9d0-f7df1202c77a"
      },
      "execution_count": null,
      "outputs": [
        {
          "output_type": "execute_result",
          "data": {
            "text/plain": [
              "[<p class=\"name1\" id=\"fruits1\" title=\"바나나\"> 바나나\n",
              " \t\t\t\t\t<span class=\"price\"> 3000원 </span>\n",
              " <span class=\"count\"> 10개 </span>\n",
              " <span class=\"store\"> 바나나가게 </span>\n",
              " <a href=\"https://www.banana.com\"> banana.com </a>\n",
              " </p>, <p class=\"name2\" id=\"fruits2\" title=\"체리\"> 체리\n",
              " \t\t\t\t\t<span class=\"price\"> 100원 </span>\n",
              " <span class=\"count\"> 50개 </span>\n",
              " <span class=\"store\"> 체리가게 </span>\n",
              " <a href=\"https://www.cherry.com\"> cherry.com </a>\n",
              " </p>, <p class=\"name3\" id=\"fruits3\" title=\"오렌지\"> 오렌지\n",
              " \t\t\t\t\t<span class=\"price\"> 500원 </span>\n",
              " <span class=\"count\"> 20개 </span>\n",
              " <span class=\"store\"> 오렌지가게 </span>\n",
              " <a href=\"https://www.orange.com\"> orange.com </a>\n",
              " </p>]"
            ]
          },
          "metadata": {},
          "execution_count": 6
        }
      ]
    },
    {
      "cell_type": "markdown",
      "source": [
        "### 2) select('.클래스명')"
      ],
      "metadata": {
        "id": "JfTzmsEKgn72"
      }
    },
    {
      "cell_type": "code",
      "source": [
        "soup.select('.name1') # name1이라는 클래스를 가져오고 싶음"
      ],
      "metadata": {
        "colab": {
          "base_uri": "https://localhost:8080/"
        },
        "id": "CuuWX5SAfvXr",
        "outputId": "e57750c5-74c3-4881-e4aa-457e4d6d95cc"
      },
      "execution_count": null,
      "outputs": [
        {
          "output_type": "execute_result",
          "data": {
            "text/plain": [
              "[<p class=\"name1\" id=\"fruits1\" title=\"바나나\"> 바나나\n",
              " \t\t\t\t\t<span class=\"price\"> 3000원 </span>\n",
              " <span class=\"count\"> 10개 </span>\n",
              " <span class=\"store\"> 바나나가게 </span>\n",
              " <a href=\"https://www.banana.com\"> banana.com </a>\n",
              " </p>]"
            ]
          },
          "metadata": {},
          "execution_count": 7
        }
      ]
    },
    {
      "cell_type": "markdown",
      "source": [
        "### 3) select('상위태그 > 하위태그 > 하위태그')\n",
        "**부등호 사이에 반드시 공백 넣어야 함**"
      ],
      "metadata": {
        "id": "Pp-EC4UhgU_q"
      }
    },
    {
      "cell_type": "code",
      "source": [
        "soup.select('div > p > span')"
      ],
      "metadata": {
        "colab": {
          "base_uri": "https://localhost:8080/"
        },
        "id": "SpXACtxxgvj5",
        "outputId": "542bf9a7-a3b9-4e0f-85a4-6597df602939"
      },
      "execution_count": null,
      "outputs": [
        {
          "output_type": "execute_result",
          "data": {
            "text/plain": [
              "[<span class=\"price\"> 3000원 </span>,\n",
              " <span class=\"count\"> 10개 </span>,\n",
              " <span class=\"store\"> 바나나가게 </span>,\n",
              " <span class=\"price\"> 100원 </span>,\n",
              " <span class=\"count\"> 50개 </span>,\n",
              " <span class=\"store\"> 체리가게 </span>,\n",
              " <span class=\"price\"> 500원 </span>,\n",
              " <span class=\"count\"> 20개 </span>,\n",
              " <span class=\"store\"> 오렌지가게 </span>]"
            ]
          },
          "metadata": {},
          "execution_count": 8
        }
      ]
    },
    {
      "cell_type": "code",
      "source": [
        "soup.select('div > p > span')[0]  # 첫번째 결과만 추출"
      ],
      "metadata": {
        "colab": {
          "base_uri": "https://localhost:8080/"
        },
        "id": "hi1cpYzYg7lj",
        "outputId": "87102b83-1a88-4c99-8658-f112810d8628"
      },
      "execution_count": null,
      "outputs": [
        {
          "output_type": "execute_result",
          "data": {
            "text/plain": [
              "<span class=\"price\"> 3000원 </span>"
            ]
          },
          "metadata": {},
          "execution_count": 11
        }
      ]
    },
    {
      "cell_type": "markdown",
      "source": [
        "### 4) select('상위태그.클래스이름 > 하위태그.클래스이름')"
      ],
      "metadata": {
        "id": "iIavcqWEhJBh"
      }
    },
    {
      "cell_type": "code",
      "source": [
        "# 바나나가게 이름만 출력하고 싶을 경우\n",
        "soup.select('p.name1 > span.store')"
      ],
      "metadata": {
        "colab": {
          "base_uri": "https://localhost:8080/"
        },
        "id": "3zBfJBiKhXZ1",
        "outputId": "e1546240-197f-4ef9-ab85-029a267b8efb"
      },
      "execution_count": null,
      "outputs": [
        {
          "output_type": "execute_result",
          "data": {
            "text/plain": [
              "[<span class=\"store\"> 바나나가게 </span>]"
            ]
          },
          "metadata": {},
          "execution_count": 12
        }
      ]
    },
    {
      "cell_type": "markdown",
      "source": [
        "### 5) select('#아이디명')\n"
      ],
      "metadata": {
        "id": "k4WiFC_Thc3m"
      }
    },
    {
      "cell_type": "code",
      "source": [
        "soup.select('#fruits1')"
      ],
      "metadata": {
        "colab": {
          "base_uri": "https://localhost:8080/"
        },
        "id": "EVWz5xrZvY1c",
        "outputId": "d402388f-dc81-4fc4-cd65-4c496a515d57"
      },
      "execution_count": null,
      "outputs": [
        {
          "output_type": "execute_result",
          "data": {
            "text/plain": [
              "[<p class=\"name1\" id=\"fruits1\" title=\"바나나\"> 바나나\n",
              " \t\t\t\t\t<span class=\"price\"> 3000원 </span>\n",
              " <span class=\"count\"> 10개 </span>\n",
              " <span class=\"store\"> 바나나가게 </span>\n",
              " <a href=\"https://www.banana.com\"> banana.com </a>\n",
              " </p>]"
            ]
          },
          "metadata": {},
          "execution_count": 14
        }
      ]
    },
    {
      "cell_type": "markdown",
      "source": [
        "### 6) select('#아이디명 > 태그명.클래스명')"
      ],
      "metadata": {
        "id": "sROI5yjCvpIn"
      }
    },
    {
      "cell_type": "code",
      "source": [
        "soup.select('#fruits1 > span.store')"
      ],
      "metadata": {
        "colab": {
          "base_uri": "https://localhost:8080/"
        },
        "id": "gZxRixABv07i",
        "outputId": "c8df0dba-df3b-4bb7-8dcf-df921686a757"
      },
      "execution_count": null,
      "outputs": [
        {
          "output_type": "execute_result",
          "data": {
            "text/plain": [
              "[<span class=\"store\"> 바나나가게 </span>]"
            ]
          },
          "metadata": {},
          "execution_count": 15
        }
      ]
    },
    {
      "cell_type": "markdown",
      "source": [
        "### 7) select('태그명[속성1=값1]')"
      ],
      "metadata": {
        "id": "iKGt7fQ4wDKJ"
      }
    },
    {
      "cell_type": "code",
      "source": [
        "soup.select('a[href]')"
      ],
      "metadata": {
        "colab": {
          "base_uri": "https://localhost:8080/"
        },
        "id": "OJpih9DUwQoi",
        "outputId": "6f7683d0-7960-4f11-c1dd-8dc4431193a9"
      },
      "execution_count": null,
      "outputs": [
        {
          "output_type": "execute_result",
          "data": {
            "text/plain": [
              "[<a href=\"https://www.banana.com\"> banana.com </a>,\n",
              " <a href=\"https://www.cherry.com\"> cherry.com </a>,\n",
              " <a href=\"https://www.orange.com\"> orange.com </a>]"
            ]
          },
          "metadata": {},
          "execution_count": 18
        }
      ]
    },
    {
      "cell_type": "code",
      "source": [
        "soup.select('a[href]')[1]"
      ],
      "metadata": {
        "colab": {
          "base_uri": "https://localhost:8080/"
        },
        "id": "wrGEgfodwegT",
        "outputId": "cd6cf0cd-f29d-410b-8caa-52ba1b58d423"
      },
      "execution_count": null,
      "outputs": [
        {
          "output_type": "execute_result",
          "data": {
            "text/plain": [
              "<a href=\"https://www.cherry.com\"> cherry.com </a>"
            ]
          },
          "metadata": {},
          "execution_count": 19
        }
      ]
    },
    {
      "cell_type": "code",
      "source": [],
      "metadata": {
        "id": "y9yVv5MhwowQ"
      },
      "execution_count": null,
      "outputs": []
    }
  ]
}