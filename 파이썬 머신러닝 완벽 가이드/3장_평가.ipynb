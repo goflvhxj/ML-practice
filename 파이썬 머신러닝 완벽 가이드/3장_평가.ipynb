{
  "cells": [
    {
      "cell_type": "markdown",
      "metadata": {
        "id": "view-in-github",
        "colab_type": "text"
      },
      "source": [
        "<a href=\"https://colab.research.google.com/github/goflvhxj/ML-practice/blob/main/3_%ED%8F%89%EA%B0%80.ipynb\" target=\"_parent\"><img src=\"https://colab.research.google.com/assets/colab-badge.svg\" alt=\"Open In Colab\"/></a>"
      ]
    },
    {
      "cell_type": "markdown",
      "source": [
        "# **03_평가**"
      ],
      "metadata": {
        "id": "LJp_IYDZvYYh"
      },
      "id": "LJp_IYDZvYYh"
    },
    {
      "cell_type": "code",
      "source": [
        "from google.colab import drive\n",
        "drive.mount('/content/drive')"
      ],
      "metadata": {
        "id": "rredCIDxnszz",
        "outputId": "7970f3c8-72c0-494b-ca0e-f0d81677ce0e",
        "colab": {
          "base_uri": "https://localhost:8080/"
        }
      },
      "id": "rredCIDxnszz",
      "execution_count": null,
      "outputs": [
        {
          "output_type": "stream",
          "name": "stdout",
          "text": [
            "Mounted at /content/drive\n"
          ]
        }
      ]
    },
    {
      "cell_type": "code",
      "execution_count": null,
      "id": "7e6dee9e",
      "metadata": {
        "id": "7e6dee9e"
      },
      "outputs": [],
      "source": [
        "from sklearn.preprocessing import LabelEncoder\n",
        "\n",
        "# Null 처리 함수\n",
        "def fillna(df):\n",
        "    df['Age'].fillna(df['Age'].mean(), inplace=True)\n",
        "    df['Cabin'].fillna('N',inplace=True)\n",
        "    df['Embarked'].fillna('N',inplace=True)\n",
        "    df['Fare'].fillna(0,inplace=True)\n",
        "    \n",
        "    return df\n",
        "\n",
        "# 머신러닝 알고리즘에 불필요한 속성 제거\n",
        "def drop_features(df):\n",
        "    df.drop(['PassengerId','Name','Ticket'], axis=1,inplace=True)\n",
        "    return df\n",
        "\n",
        "# 레이블 인코딩 수행(문자열 변수 수치화)\n",
        "def format_features(df):\n",
        "    df['Cabin']=df['Cabin'].str[:1]\n",
        "    features=['Sex','Cabin','Embarked']\n",
        "    \n",
        "    for feature in features:\n",
        "        le = LabelEncoder()\n",
        "        le = le.fit(df[feature])\n",
        "        df[feature]=le.transform(df[feature])\n",
        "    \n",
        "    return df\n",
        "\n",
        "# 앞에서 설정한 데이터 전처리 함수 호출\n",
        "def transform_features(df):\n",
        "    df = fillna(df)\n",
        "    df = drop_features(df)\n",
        "    df = format_features(df)\n",
        "    \n",
        "    return df"
      ]
    },
    {
      "cell_type": "markdown",
      "source": [
        "---\n",
        "<br>\n",
        "\n",
        "## **1. 정확도**\n",
        "### 이진분류 - 데이터의 구성에 따라 ML 모델의 성능을 왜곡시킬 가능성 존재\n"
      ],
      "metadata": {
        "id": "jFqICUwvsZZd"
      },
      "id": "jFqICUwvsZZd"
    },
    {
      "cell_type": "code",
      "execution_count": null,
      "id": "26a59637",
      "metadata": {
        "id": "26a59637"
      },
      "outputs": [],
      "source": [
        "# 성별에 따라 생존자를 예측하는 Classifier\n",
        "\n",
        "from sklearn.base import BaseEstimator\n",
        "\n",
        "class MyDummyClassifier(BaseEstimator):\n",
        "    def fit(self,X,y=None):\n",
        "        pass\n",
        "    \n",
        "    def predict(self,X):\n",
        "        pred = np.zeros((X.shape[0],1))\n",
        "        for i in range(X.shape[0]):\n",
        "            if X['Sex'].iloc[i] == 1:\n",
        "                pred[i] = 0\n",
        "            else:\n",
        "                pred[i] = 1\n",
        "        return pred"
      ]
    },
    {
      "cell_type": "code",
      "source": [
        "import pandas as pd\n",
        "import numpy as np\n",
        "from sklearn.model_selection import train_test_split\n",
        "from sklearn.metrics import accuracy_score\n",
        "from sklearn.preprocessing import LabelEncoder\n",
        "\n",
        "titanic_df = pd.read_csv(\"/content/drive/MyDrive/Jupyter/titanic_train.csv\")\n",
        "y_titanic_df = titanic_df['Survived']\n",
        "X_titanic_df = titanic_df.drop('Survived', axis=1)\n",
        "X_titanic_df = transform_features(X_titanic_df)\n",
        "X_train, X_test, y_train, y_test = train_test_split(X_titanic_df, y_titanic_df, test_size=0.2, random_state=0)\n",
        "\n",
        "myclf = MyDummyClassifier()\n",
        "myclf.fit(X_train,y_train)\n",
        "\n",
        "mypredictions = myclf.predict(X_test)\n",
        "print('Dummy Classifier의 정확도는: {0:.4f}'.format(accuracy_score(y_test,mypredictions)))"
      ],
      "metadata": {
        "colab": {
          "base_uri": "https://localhost:8080/"
        },
        "id": "AW1E0Jctoet9",
        "outputId": "d37cf0c8-2d25-44e2-dc97-2d920ed55699"
      },
      "id": "AW1E0Jctoet9",
      "execution_count": null,
      "outputs": [
        {
          "output_type": "stream",
          "name": "stdout",
          "text": [
            "Dummy Classifier의 정확도는: 0.7877\n"
          ]
        }
      ]
    },
    {
      "cell_type": "markdown",
      "source": [
        "-> 성별로만 기준을 세워 예측 하였는데 78프로라는 높은 수치가 나옴\n",
        "\n",
        "특히, 정확도는 불균형한(imbalanced) 레이블 값 분포에서 ML 모델의 성능을 판단할 경우, 적합한 평가 지표가 아님."
      ],
      "metadata": {
        "id": "yVeTfsePtplB"
      },
      "id": "yVeTfsePtplB"
    },
    {
      "cell_type": "markdown",
      "source": [
        "<br>\n",
        "\n",
        "MNIST 데이터 세트를 불균형한 데이터 세트로 변환하여 정확도 확인\n",
        "-> 정확도 90%가 나올 것으로 예측됨"
      ],
      "metadata": {
        "id": "KRjWGuLbogph"
      },
      "id": "KRjWGuLbogph"
    },
    {
      "cell_type": "code",
      "source": [
        "from sklearn.datasets import load_digits\n",
        "from sklearn.model_selection import train_test_split\n",
        "from sklearn.base import BaseEstimator\n",
        "from sklearn.metrics import accuracy_score\n",
        "import numpy as np\n",
        "import pandas as pd\n",
        "\n",
        "class MyFakeClassifier(BaseEstimator):\n",
        "  def fit(self,X,y):\n",
        "    pass\n",
        "\n",
        "  def predict(self,X): # 입력값으로 들어오는 X 데이터 세트의 크기만큼 모두 0값으로 만들어서 반환\n",
        "    return np.zeros((len(X),1),dtype=bool)\n",
        "\n",
        "digits = load_digits() # MNIST 데이터 불러오기\n",
        "# digits = pd.DataFrame(digits.data, columns=digits.feature_names) # 데이터프레임으로 만들어 확인\n",
        "\n",
        "# digits 번호가 7번이면 True이고 이를 astype(int)로 1로 변환, 7이 아니면 False이고 0으로 변환 -> 불균형한 데이터셋으로 변환\n",
        "# True.astype(int) = 1, False.astype(int) = 0\n",
        "y = (digits.target == 7).astype(int)\n",
        "X_train,X_test,y_train,y_test = train_test_split(digits.data, y, random_state=11)\n",
        "\n",
        "'''\n",
        "# astype은 dataframe 형태에서만 가능하므로 ndarray형일땐 pd.Series 통해 바꿔줘야함\n",
        "a = np.array(['Apple','Pear','Orange','banana'])\n",
        "print(type(a))\n",
        "test = (pd.Series(a)=='Apple').astype(int)\n",
        "print('test:\\n',test.tolist())\n",
        "'''\n",
        "\n",
        "# 불균형한 레이블 데이터 분포도 확인\n",
        "print(\"레이블 테스트 세트 크기 : \", y_test.shape)\n",
        "print(\"테스트 세트 레이블 0과 1의 분포도\")\n",
        "print(pd.Series(y_test).value_counts()) # y_test는 np.ndarray 타입이지만 pd.Series통해 value_counts 할 수 있음\n",
        "\n",
        "# Dummy Classifier로 학습/예측/정확도 평가\n",
        "fakeclf = MyFakeClassifier()\n",
        "fakeclf.fit(X_train,y_train)\n",
        "fakepred = fakeclf.predict(X_test)\n",
        "print('모든 예측을 0으로 하여도 정확도는:{0:.3f}'.format(accuracy_score(y_test, fakepred)))"
      ],
      "metadata": {
        "id": "dXhfQASdxJyD",
        "colab": {
          "base_uri": "https://localhost:8080/"
        },
        "outputId": "7006966d-4880-4991-9d5f-af71340d7f12"
      },
      "id": "dXhfQASdxJyD",
      "execution_count": null,
      "outputs": [
        {
          "output_type": "stream",
          "name": "stdout",
          "text": [
            "레이블 테스트 세트 크기 :  (450,)\n",
            "테스트 세트 레이블 0과 1의 분포도\n",
            "0    405\n",
            "1     45\n",
            "dtype: int64\n",
            "모든 예측을 0으로 하여도 정확도는:0.900\n"
          ]
        }
      ]
    },
    {
      "cell_type": "markdown",
      "source": [
        "digits.target == 7인 경우만 1로 변환하고 나머지는 모두 0으로 설정한 뒤 예측하였을 때 정확도가 90%라는 것은 말이 안됨\n",
        "\n",
        "따라서 정확도 평가 지표는 불균형한 레이블 데이터 세트에서는 성능 수치로 사용돼서는 안됨"
      ],
      "metadata": {
        "id": "c_pgozhGUOBU"
      },
      "id": "c_pgozhGUOBU"
    },
    {
      "cell_type": "markdown",
      "source": [
        "---"
      ],
      "metadata": {
        "id": "ocdiijXFklla"
      },
      "id": "ocdiijXFklla"
    },
    {
      "cell_type": "markdown",
      "source": [
        "## **2. 오차 행렬(confusion matrix)**\n"
      ],
      "metadata": {
        "id": "Adsh_ZArkG9k"
      },
      "id": "Adsh_ZArkG9k"
    },
    {
      "cell_type": "markdown",
      "source": [
        "이진분류의 예측 오류가 얼마인지와 더불어 어떠한 유형의 예측 오류가 발생하고 있는지를 함께 나타내는 지표"
      ],
      "metadata": {
        "id": "_YtQQYUfki_O"
      },
      "id": "_YtQQYUfki_O"
    },
    {
      "cell_type": "code",
      "source": [
        "from sklearn.metrics import confusion_matrix\n",
        "\n",
        "confusion_matrix(y_test, fakepred) # 이 순서는 [TN, FP, FN, TP]"
      ],
      "metadata": {
        "colab": {
          "base_uri": "https://localhost:8080/"
        },
        "id": "CFRM-Lr2oIKp",
        "outputId": "b81761b8-90b7-4414-cd69-01f7af3c4a38"
      },
      "id": "CFRM-Lr2oIKp",
      "execution_count": null,
      "outputs": [
        {
          "output_type": "execute_result",
          "data": {
            "text/plain": [
              "array([[405,   0],\n",
              "       [ 45,   0]])"
            ]
          },
          "metadata": {},
          "execution_count": 8
        }
      ]
    },
    {
      "cell_type": "markdown",
      "source": [
        "TN : 예측 거짓 & 실제 거짓<br>\n",
        "FP : 예측 참 & 실제 거짓(1종오류)<br>\n",
        "FN : 예측 거짓 & 실제 참(2종오류)<br>\n",
        "TP : 예측 참 & 실제 참"
      ],
      "metadata": {
        "id": "m7M9ghNNppw4"
      },
      "id": "m7M9ghNNppw4"
    },
    {
      "cell_type": "markdown",
      "source": [
        "정확도 = 예측 결과와 실제 값이 동일한 건수/전체 데이터 수 = (TN+TP)/(TN+FP+FN+TP)"
      ],
      "metadata": {
        "id": "zvxvfS7Xq73K"
      },
      "id": "zvxvfS7Xq73K"
    },
    {
      "cell_type": "markdown",
      "source": [
        "----\n",
        "##**3. 정밀도와 재현율**<br>\n",
        "- Positive 데이터 세트의 예측 성능에 좀 더 초점을 맞춘 평가 지표\n",
        "- 정밀도(양성 예측도) : TP / (FP + TP) -> 예측 값이 참인 것\n",
        "- 재현율(민감도, TPR(True Positive Rate)) : TP / (FN + TP) -> 실제 값이 참인 것\n",
        "\n",
        "재현율(recall) : 암이 실제로 걸렸는데 검사 결과 음성일 때 -> 실제로 참인데 예측 거짓일때 -> FN이 치명적인 경우 사용(의료, 보험사기, 금융 사기)<br>\n",
        "정밀도(precision) : 스팸메일 처리를 했는데 사실은 아닌 경우 업무 메일을 못받음 -> 실제 거짓인데 예측 참일때 -> FP가 치명적인 경우 사용\n"
      ],
      "metadata": {
        "id": "MdD1if1or2TD"
      },
      "id": "MdD1if1or2TD"
    },
    {
      "cell_type": "code",
      "source": [
        "from sklearn.metrics import accuracy_score, precision_score, recall_score, confusion_matrix\n",
        "\n",
        "def get_clf_eval(y_test, pred):  # 오차행렬, 정확도, 정밀도, 재현율 출력\n",
        "  confusion = confusion_matrix(y_test, pred)\n",
        "  accuracy = accuracy_score(y_test, pred)\n",
        "  precision = precision_score(y_test, pred)\n",
        "  recall = recall_score(y_test, pred)\n",
        "  print('오차 행렬')\n",
        "  print(confusion)\n",
        "  print('정확도:{0:.4f}, 정밀도:{1:.4f}, 재현율:{2:.4f}'.format(accuracy, precision, recall))"
      ],
      "metadata": {
        "id": "t6qURJNEv5oL"
      },
      "id": "t6qURJNEv5oL",
      "execution_count": null,
      "outputs": []
    },
    {
      "cell_type": "code",
      "source": [
        "import pandas as pd\n",
        "from sklearn.model_selection import train_test_split\n",
        "from sklearn.linear_model import LogisticRegression\n",
        "\n",
        "# 원본 데이터 로딩, 데이터 가공, 학습/검증 데이터 분할\n",
        "titanic_df = pd.read_csv(\"/content/drive/MyDrive/Jupyter/titanic_train.csv\")\n",
        "y_titanic_df = titanic_df['Survived']\n",
        "X_titanic_df = titanic_df.drop('Survived', axis=1)\n",
        "X_titanic_df = transform_features(X_titanic_df) # 데이터 전처리\n",
        "\n",
        "X_train, X_test, y_train, y_test = train_test_split(X_titanic_df, y_titanic_df, test_size = 0.2, random_state = 11)\n",
        "lr_clf = LogisticRegression() # 로지스틱 회귀 기반으로 타이타닉 생존자 예측\n",
        "\n",
        "lr_clf.fit(X_train,y_train)\n",
        "pred = lr_clf.predict(X_test)\n",
        "get_clf_eval(y_test,pred) # 오차행렬, 정확도, 정밀도, 재현율 출력"
      ],
      "metadata": {
        "colab": {
          "base_uri": "https://localhost:8080/"
        },
        "id": "_Pht2vip6r2O",
        "outputId": "1c482d4b-c466-4cbd-97f0-b78ac1623cfb"
      },
      "id": "_Pht2vip6r2O",
      "execution_count": null,
      "outputs": [
        {
          "output_type": "stream",
          "name": "stdout",
          "text": [
            "오차 행렬\n",
            "[[104  14]\n",
            " [ 13  48]]\n",
            "정확도:0.8492, 정밀도:0.7742, 재현율:0.7869\n"
          ]
        },
        {
          "output_type": "stream",
          "name": "stderr",
          "text": [
            "/usr/local/lib/python3.7/dist-packages/sklearn/linear_model/_logistic.py:818: ConvergenceWarning: lbfgs failed to converge (status=1):\n",
            "STOP: TOTAL NO. of ITERATIONS REACHED LIMIT.\n",
            "\n",
            "Increase the number of iterations (max_iter) or scale the data as shown in:\n",
            "    https://scikit-learn.org/stable/modules/preprocessing.html\n",
            "Please also refer to the documentation for alternative solver options:\n",
            "    https://scikit-learn.org/stable/modules/linear_model.html#logistic-regression\n",
            "  extra_warning_msg=_LOGISTIC_SOLVER_CONVERGENCE_MSG,\n"
          ]
        }
      ]
    },
    {
      "cell_type": "code",
      "source": [
        "pred_proba = lr_clf.predict_proba(X_test) # 개별 데이터별로 예측 확률 반환, 이진분류에서 칼럼 0은 Negative의 확률, 칼럼 1은 Postivie의 확률 반환\n",
        "pred = lr_clf.predict(X_test)\n",
        "\n",
        "print('pred_proba()결과 Shape : {0}'.format(pred_proba.shape))\n",
        "print('pred_proba array에서 앞 3개만 샘플로 추출 \\n:', pred_proba[:3])\n",
        "\n",
        "# 예측 확률 array와 예측 결괏값 array를 병합(concatenate)해 예측 확률과 결괏값을 한눈에 확인\n",
        "pred_proba_result = np.concatenate([pred_proba, pred.reshape(-1,1)], axis=1)\n",
        "print('두 개의 class 중에서 더 큰 확률을 클래스 값으로 예측 \\n', pred_proba_result[:3])\n"
      ],
      "metadata": {
        "colab": {
          "base_uri": "https://localhost:8080/"
        },
        "id": "m5I5ysSm7F7B",
        "outputId": "a25d1932-19fe-4388-d656-d75aad31bd2b"
      },
      "id": "m5I5ysSm7F7B",
      "execution_count": null,
      "outputs": [
        {
          "output_type": "stream",
          "name": "stdout",
          "text": [
            "pred_proba()결과 Shape : (179, 2)\n",
            "pred_proba array에서 앞 3개만 샘플로 추출 \n",
            ": [[0.46191519 0.53808481]\n",
            " [0.878675   0.121325  ]\n",
            " [0.87716185 0.12283815]]\n",
            "두 개의 class 중에서 더 큰 확률을 클래스 값으로 예측 \n",
            " [[0.46191519 0.53808481 1.        ]\n",
            " [0.878675   0.121325   0.        ]\n",
            " [0.87716185 0.12283815 0.        ]]\n"
          ]
        }
      ]
    },
    {
      "cell_type": "code",
      "source": [
        "from sklearn.preprocessing import Binarizer\n",
        "\n",
        "X = [[1,-1,2],\n",
        "     [2,0,0],\n",
        "     [0,1.1,1.2]]\n",
        "\n",
        "# X의 개별 원소들이 threshold(임계값)보다 같거나 작으면 0을, 크면 1을 반환\n",
        "binarizer = Binarizer(threshold=1.1)\n",
        "print(binarizer.fit_transform(X))"
      ],
      "metadata": {
        "colab": {
          "base_uri": "https://localhost:8080/"
        },
        "id": "7LC6_RzSA6nh",
        "outputId": "e74573ed-6001-4e4b-b2c9-d01f20231330"
      },
      "id": "7LC6_RzSA6nh",
      "execution_count": null,
      "outputs": [
        {
          "output_type": "stream",
          "name": "stdout",
          "text": [
            "[[0. 0. 1.]\n",
            " [1. 0. 0.]\n",
            " [0. 0. 1.]]\n"
          ]
        }
      ]
    },
    {
      "cell_type": "code",
      "source": [
        "# 타이타닉 데이터에 임계값을 0.5로 지정한 Binarizer 클래스를 적용해 최종 예측값 구하기\n",
        "from sklearn.preprocessing import Binarizer\n",
        "\n",
        "# 분류 결정 임곗값을 임의로 지정\n",
        "custom_threshold = 0.5\n",
        "\n",
        "# predict_proba() 반환값의 두 번째 칼럼, Positive 클래스 칼럼 하나만 추출해 Binarizer를 적용\n",
        "pred_proba_1 = pred_proba[:,1].reshape(-1,1) # [:,1] : 행은 전체, 열은 1인 모든 데이터 추출\n",
        "#print(\"1열 추출 : \\n\", pred_proba_1[:5])\n",
        "\n",
        "binarizer = Binarizer(threshold=custom_threshold).fit(pred_proba_1) # pred_proba_1에 대해 Binarizer 클래스에 맞춰 임곗값이 0.5이상이면 1, 이하면 0으로 학습\n",
        "custom_predict = binarizer.transform(pred_proba_1) # 학습한 데이터를 토대로 pred_proba_1 값을 변환(transform)\n",
        "#print(\"pred_broba_1 변형 : \\n\", custom_predict[:5])\n",
        "\n",
        "#print(\"\\n\")\n",
        "get_clf_eval(y_test, custom_predict)"
      ],
      "metadata": {
        "colab": {
          "base_uri": "https://localhost:8080/"
        },
        "id": "yMw0FGv9CXkH",
        "outputId": "eb1dcab1-a9b3-4c4b-bd3f-5cb428aa8764"
      },
      "id": "yMw0FGv9CXkH",
      "execution_count": null,
      "outputs": [
        {
          "output_type": "stream",
          "name": "stdout",
          "text": [
            "오차 행렬\n",
            "[[104  14]\n",
            " [ 13  48]]\n",
            "정확도:0.8492, 정밀도:0.7742, 재현율:0.7869\n"
          ]
        }
      ]
    },
    {
      "cell_type": "code",
      "source": [
        "# 타이타닉 데이터에 임계값을 0.4로 지정한 Binarizer 클래스를 적용해 최종 예측값 구하기\n",
        "from sklearn.preprocessing import Binarizer\n",
        "\n",
        "# 분류 결정 임곗값을 줄였을 때\n",
        "custom_threshold = 0.4\n",
        "\n",
        "# predict_proba() 반환값의 두 번째 칼럼, Positive 클래스 칼럼 하나만 추출해 Binarizer를 적용\n",
        "pred_proba_1 = pred_proba[:,1].reshape(-1,1) # [:,1] : 행은 전체, 열은 1인 모든 데이터 추출\n",
        "#print(\"1열 추출 : \\n\", pred_proba_1[:5])\n",
        "\n",
        "binarizer = Binarizer(threshold=custom_threshold).fit(pred_proba_1) # pred_proba_1에 대해 Binarizer 클래스에 맞춰 임곗값이 0.5이상이면 1, 이하면 0으로 학습\n",
        "custom_predict = binarizer.transform(pred_proba_1) # 학습한 데이터를 토대로 pred_proba_1 값을 변환(transform)\n",
        "#print(\"pred_broba_1 변형 : \\n\", custom_predict[:5])\n",
        "\n",
        "#print(\"\\n\")\n",
        "get_clf_eval(y_test, custom_predict)"
      ],
      "metadata": {
        "colab": {
          "base_uri": "https://localhost:8080/"
        },
        "id": "9YpJCpClC2sY",
        "outputId": "1ec4f4ac-efd3-45a0-bb78-7b7486cf6fce"
      },
      "id": "9YpJCpClC2sY",
      "execution_count": null,
      "outputs": [
        {
          "output_type": "stream",
          "name": "stdout",
          "text": [
            "오차 행렬\n",
            "[[98 20]\n",
            " [10 51]]\n",
            "정확도:0.8324, 정밀도:0.7183, 재현율:0.8361\n"
          ]
        }
      ]
    },
    {
      "cell_type": "markdown",
      "source": [
        "<br>임곗값을 낮추면 정밀도가 줄어들고 재현율이 증가한다.<br>\n",
        "분류 결정 임곗값(threshold)는 Positive 예측값을 결정하는 확률의 기준\n",
        "<br><br>\n",
        "재현율 = TP / (실제 참값(고정))<br>\n",
        "정밀도 = TP / (예측 참값)<br><br>\n",
        "임곗값을 낮추면 예측 참값이 증가하여 정밀도가 떨어진다."
      ],
      "metadata": {
        "id": "fH0nDPGzKuhj"
      },
      "id": "fH0nDPGzKuhj"
    },
    {
      "cell_type": "code",
      "source": [
        "# 임곗값을 0.4에서 0.6까지 0.05씩 증가시키며 평가 지표 조사 -> 재현율이 0.4일 때 가장 컸다가 점점 줄어들 것으로 예상\n",
        "thresholds = [0.4, 0.45, 0.5, 0.55, 0.6]\n",
        "\n",
        "def get_eval_by_threshold(y_test, pred_proba_c1, thresholds):\n",
        "  # thresholds list 객체 내의 값을 차례로 iteration(반복)하면서 Evaluation 진행\n",
        "  for custom_threshold in thresholds:\n",
        "    binarizer = Binarizer(threshold=custom_threshold).fit(pred_proba_c1)\n",
        "    custom_predict = binarizer.transform(pred_proba_c1)\n",
        "    print('임곗값:', custom_threshold)\n",
        "    get_clf_eval(y_test, custom_predict)\n",
        "\n",
        "get_eval_by_threshold(y_test, pred_proba[:,1].reshape(-1,1), thresholds)\n"
      ],
      "metadata": {
        "id": "jpSTN_RxLmUl",
        "colab": {
          "base_uri": "https://localhost:8080/"
        },
        "outputId": "cd918c24-f8ef-4b98-bb03-57ce47365a4f"
      },
      "id": "jpSTN_RxLmUl",
      "execution_count": null,
      "outputs": [
        {
          "output_type": "stream",
          "name": "stdout",
          "text": [
            "임곗값: 0.4\n",
            "오차 행렬\n",
            "[[98 20]\n",
            " [10 51]]\n",
            "정확도:0.8324, 정밀도:0.7183, 재현율:0.8361\n",
            "임곗값: 0.45\n",
            "오차 행렬\n",
            "[[103  15]\n",
            " [ 12  49]]\n",
            "정확도:0.8492, 정밀도:0.7656, 재현율:0.8033\n",
            "임곗값: 0.5\n",
            "오차 행렬\n",
            "[[104  14]\n",
            " [ 13  48]]\n",
            "정확도:0.8492, 정밀도:0.7742, 재현율:0.7869\n",
            "임곗값: 0.55\n",
            "오차 행렬\n",
            "[[109   9]\n",
            " [ 15  46]]\n",
            "정확도:0.8659, 정밀도:0.8364, 재현율:0.7541\n",
            "임곗값: 0.6\n",
            "오차 행렬\n",
            "[[112   6]\n",
            " [ 16  45]]\n",
            "정확도:0.8771, 정밀도:0.8824, 재현율:0.7377\n"
          ]
        }
      ]
    },
    {
      "cell_type": "markdown",
      "source": [
        "<br>\n",
        "\n",
        "임곗값이 커질수록 양성 예측도인 정밀도는 예측 참값이 작아지므로 분모가 작아져 정밀도 값은 증가하고 재현율 값은 감소하는 양상을 확인할 수 있다."
      ],
      "metadata": {
        "id": "fWv7AoWX0vB4"
      },
      "id": "fWv7AoWX0vB4"
    },
    {
      "cell_type": "code",
      "source": [
        "# 정밀도 및 재현율을 precision_recall_curve() 사용하여 확인\n",
        "\n",
        "from sklearn.metrics import precision_recall_curve\n",
        "\n",
        "# 레이블 값이 1일 때의 예측 확률을 추출\n",
        "pred_proba_class1 = lr_clf.predict_proba(X_test)[:,1]\n",
        "\n",
        "# 실제값 데이터 세트와 레이블 값이 1일 때의 예측 확률을 precision_recall_curve 인자로 입력\n",
        "precisions, recalls, thresholds = precision_recall_curve(y_test,pred_proba_class1)\n",
        "print('반환된 분류 결정 임곗값 배열의 Shape:', thresholds.shape)\n",
        "\n",
        "# 반환된 임곗값 배열 로우가 143건이므로 샘플로 10건만 추출, 임곗값을 15 Step으로 추출\n",
        "thr_index = np.arange(0,thresholds.shape[0],15)\n",
        "print('샘플 추출을 위한 임곗값 배열의 index 10개:', thr_index)\n",
        "print('샘플용 10개의 임곗값:', np.round(thresholds[thr_index],2))\n",
        "\n",
        "# 15 step 단위로 추출된 임곗값에 따른 정밀도와 재현율 값\n",
        "print('샘플 임곗값별 정밀도:', np.round(precisions[thr_index],3))\n",
        "print('샘플 임곗값별 재현율:', np.round(recalls[thr_index],3))"
      ],
      "metadata": {
        "colab": {
          "base_uri": "https://localhost:8080/"
        },
        "id": "eGcL2_Cw9-tH",
        "outputId": "78fc4efc-148e-40a6-b3d9-26e166a3a023"
      },
      "id": "eGcL2_Cw9-tH",
      "execution_count": null,
      "outputs": [
        {
          "output_type": "stream",
          "name": "stdout",
          "text": [
            "반환된 분류 결정 임곗값 배열의 Shape: (143,)\n",
            "샘플 추출을 위한 임곗값 배열의 index 10개: [  0  15  30  45  60  75  90 105 120 135]\n",
            "샘플용 10개의 임곗값: [0.1  0.12 0.14 0.19 0.28 0.4  0.56 0.67 0.82 0.95]\n",
            "샘플 임곗값별 정밀도: [0.389 0.44  0.466 0.539 0.647 0.729 0.836 0.949 0.958 1.   ]\n",
            "샘플 임곗값별 재현율: [1.    0.967 0.902 0.902 0.902 0.836 0.754 0.607 0.377 0.148]\n"
          ]
        }
      ]
    },
    {
      "cell_type": "markdown",
      "source": [
        "<br>\n",
        "\n",
        "### 정밀도와 재현율 곡선 시각화"
      ],
      "metadata": {
        "id": "_jNGA6fR_aXG"
      },
      "id": "_jNGA6fR_aXG"
    },
    {
      "cell_type": "code",
      "source": [
        "import matplotlib.pyplot as plt\n",
        "import matplotlib.ticker as ticker\n",
        "%matplotlib inline\n",
        "\n",
        "def precision_recall_curve_plot(y_test, pred_proba_c1):\n",
        "  # threshold ndarray와 이 threshold에 따른 정밀도, 재현율 ndarray 추출\n",
        "  precisions, recalls, thresholds = precision_recall_curve(y_test,pred_proba_c1)\n",
        "\n",
        "  # x축을 thresholds, y축 : 정밀도, 재현율 값으로 각각 Plot수행, 정밀도는 점선으로 표시\n",
        "  plt.figure(figsize=(8,6))\n",
        "  threshold_boundary = thresholds.shape[0] # 행 끝번호\n",
        "  plt.plot(thresholds, precisions[0:threshold_boundary], linestyle='--', label='precision')\n",
        "  plt.plot(thresholds, recalls[0:threshold_boundary], label='recall')\n",
        "\n",
        "  # threshold 값 X축의 Scale을 0.1 단위로 변경\n",
        "  start, end = plt.xlim() # x축 범위 반환\n",
        "  plt.xticks(np.round(np.arange(start,end,0.1),2)) # 축 간격을 구분하기 위한 눈금표시\n",
        "  \n",
        "  # x축, y축 label과 legend, 그리고 grid 설정\n",
        "  plt.xlabel('Threshold value'); plt.ylabel('Precision and Recall value')\n",
        "  plt.legend(); plt.grid()\n",
        "  plt.show()\n",
        "\n",
        "precision_recall_curve_plot(y_test, lr_clf.predict_proba(X_test)[:,1]) # 로지스틱 회귀모형 사용한 것"
      ],
      "metadata": {
        "colab": {
          "base_uri": "https://localhost:8080/",
          "height": 388
        },
        "id": "z1NvcVt5CToQ",
        "outputId": "2358fc13-844d-4c0b-abd1-f39770141832"
      },
      "id": "z1NvcVt5CToQ",
      "execution_count": null,
      "outputs": [
        {
          "output_type": "display_data",
          "data": {
            "text/plain": [
              "<Figure size 576x432 with 1 Axes>"
            ],
            "image/png": "[encoded data removed]"
          },
          "metadata": {
            "needs_background": "light"
          }
        }
      ]
    },
    {
      "cell_type": "markdown",
      "source": [
        "----\n",
        "<br>\n",
        "\n",
        "## 4. F1 스코어"
      ],
      "metadata": {
        "id": "yNVdm7g1DeJL"
      },
      "id": "yNVdm7g1DeJL"
    },
    {
      "cell_type": "markdown",
      "source": [
        "F1 스코어 : 정밀도와 재현율을 결합한 지표<br>\n",
        "정밀도와 재현율이 **어느 한쪽으로 치우치지 않는 수치**를 나타낼 때 상대적으로 **높은 값**을 가짐"
      ],
      "metadata": {
        "id": "R4XmIzW1TsgP"
      },
      "id": "R4XmIzW1TsgP"
    },
    {
      "cell_type": "code",
      "source": [
        "from sklearn.metrics import f1_score\n",
        "\n",
        "f1 = f1_score(y_test, pred)\n",
        "print('F1 스코어:{0:.4f}'.format(f1))"
      ],
      "metadata": {
        "colab": {
          "base_uri": "https://localhost:8080/"
        },
        "id": "lDuqaxSuUUCw",
        "outputId": "dfd53191-5f92-4971-b70b-698b4b73b489"
      },
      "id": "lDuqaxSuUUCw",
      "execution_count": null,
      "outputs": [
        {
          "output_type": "stream",
          "name": "stdout",
          "text": [
            "F1 스코어:0.7805\n"
          ]
        }
      ]
    },
    {
      "cell_type": "code",
      "source": [
        "# 위에서 만든 get_clf_eval 함수에 f1 스코어 계산하는 함수 추가하여 정밀도, 재현율, f1스코어 비교\n",
        "def get_clf_eval(y_test,pred):\n",
        "  confusion = confusion_matrix(y_test,pred)\n",
        "  accuracy = accuracy_score(y_test, pred)\n",
        "  precision = precision_score(y_test, pred)\n",
        "  recall = recall_score(y_test, pred)\n",
        "  f1 = f1_score(y_test, pred)  # f1스코어 계산 추가\n",
        "  print('오차행렬')\n",
        "  print(confusion)\n",
        "\n",
        "  print('정확도:{0:.4f}, 정밀도:{1:.4f}, 재현율:{2:.4f}, F1:{3:.4f}'.format(accuracy,precision,recall,f1))\n",
        "\n",
        "thresholds = [0.4,0.45,0.5,0.55,0.6]\n",
        "pred_proba = lr_clf.predict_proba(X_test)\n",
        "get_eval_by_threshold(y_test, pred_proba[:,1].reshape(-1,1), thresholds)"
      ],
      "metadata": {
        "colab": {
          "base_uri": "https://localhost:8080/"
        },
        "id": "kZUjFjMdUvuy",
        "outputId": "66d894fa-9147-406e-d815-b264bf86e9c0"
      },
      "id": "kZUjFjMdUvuy",
      "execution_count": null,
      "outputs": [
        {
          "output_type": "stream",
          "name": "stdout",
          "text": [
            "임곗값: 0.4\n",
            "오차행렬\n",
            "[[98 20]\n",
            " [10 51]]\n",
            "정확도:0.8324, 정밀도:0.7183, 재현율:0.8361, F1:0.7727\n",
            "임곗값: 0.45\n",
            "오차행렬\n",
            "[[103  15]\n",
            " [ 12  49]]\n",
            "정확도:0.8492, 정밀도:0.7656, 재현율:0.8033, F1:0.7840\n",
            "임곗값: 0.5\n",
            "오차행렬\n",
            "[[104  14]\n",
            " [ 13  48]]\n",
            "정확도:0.8492, 정밀도:0.7742, 재현율:0.7869, F1:0.7805\n",
            "임곗값: 0.55\n",
            "오차행렬\n",
            "[[109   9]\n",
            " [ 15  46]]\n",
            "정확도:0.8659, 정밀도:0.8364, 재현율:0.7541, F1:0.7931\n",
            "임곗값: 0.6\n",
            "오차행렬\n",
            "[[112   6]\n",
            " [ 16  45]]\n",
            "정확도:0.8771, 정밀도:0.8824, 재현율:0.7377, F1:0.8036\n"
          ]
        }
      ]
    },
    {
      "cell_type": "markdown",
      "source": [
        "임곗값이 0.6일 때 가장 좋은 F1값을 나타냄"
      ],
      "metadata": {
        "id": "_1shWDMRVpOQ"
      },
      "id": "_1shWDMRVpOQ"
    },
    {
      "cell_type": "markdown",
      "source": [
        "-----\n",
        "<br>\n",
        "\n",
        "## 5. ROC곡선과 AUC"
      ],
      "metadata": {
        "id": "4CFNEqO8mWQ8"
      },
      "id": "4CFNEqO8mWQ8"
    },
    {
      "cell_type": "markdown",
      "source": [
        "- 이진 분류의 예측 성능 측정에서 중요하게 사용되는 지표\n",
        "- ROC : FPR(False Postive Rate)이 변할 때 TPR(True Positive Rate)이 어떻게 변하는지를 나타내는 곡선, X축 : FPR, Y축 : TPR\n",
        "- TPR(True Positive Rate, 재현율) : TP / (FN + TP)\n",
        "- TNR(True Negative Rate, 특이성) : TN / (FP + TN)\n",
        "- FPR(False Positive Rate) : 1 - 특이성(TNR)"
      ],
      "metadata": {
        "id": "sttID7DSo8Sj"
      },
      "id": "sttID7DSo8Sj"
    },
    {
      "cell_type": "code",
      "source": [
        "# titanic 생존자 예측 모델의 FPR, TPR, 임곗값 구하기\n",
        "\n",
        "from sklearn.metrics import roc_curve\n",
        "\n",
        "# 레이블 값이 1일때의 예측 확률을 추출\n",
        "pred_proba_class1 = lr_clf.predict_proba(X_test)[:,1]\n",
        "\n",
        "fprs, tprs, thresholds = roc_curve(y_test, pred_proba_class1)\n",
        "\n",
        "# 반환된 임곗값 배열에서 샘플로 데이터를 추출하되, 임곗값을 5 Step으로 추출\n",
        "# thresholds[0]은 max(예측확률)+1로 임의 설정됨. 이를 제외하기 위해 np.arange는 1부터 시작\n",
        "thr_index = np.arange(1, thresholds.shape[0],5)\n",
        "print('샘플 추출을 위한 임곗값 배열의 index:', thr_index)\n",
        "print('샘플 index로 추출한 임곗값:', np.round(thresholds[thr_index],2))\n",
        "\n",
        "# 5 step 단위로 추출된 임계값에 따른 FPR, TPR 값\n",
        "print('샘플 임곗값별 FPR: ', np.round(fprs[thr_index],3))\n",
        "print('샘플 임곗값별 TPR: ', np.round(tprs[thr_index],3))"
      ],
      "metadata": {
        "colab": {
          "base_uri": "https://localhost:8080/"
        },
        "id": "d6X3DQoOr5n2",
        "outputId": "7555269a-bb43-483b-8dc6-bb35bbdaf8cf"
      },
      "id": "d6X3DQoOr5n2",
      "execution_count": null,
      "outputs": [
        {
          "output_type": "stream",
          "name": "stdout",
          "text": [
            "샘플 추출을 위한 임곗값 배열의 index: [ 1  6 11 16 21 26 31 36 41 46 51]\n",
            "샘플 index로 추출한 임곗값: [0.97 0.65 0.63 0.56 0.45 0.4  0.35 0.15 0.13 0.11 0.11]\n",
            "샘플 임곗값별 FPR:  [0.    0.017 0.034 0.076 0.127 0.169 0.203 0.466 0.585 0.686 0.797]\n",
            "샘플 임곗값별 TPR:  [0.033 0.639 0.721 0.754 0.803 0.836 0.885 0.902 0.934 0.967 0.984]\n"
          ]
        }
      ]
    },
    {
      "cell_type": "markdown",
      "source": [
        "임곗값이 1에 가까운 값에서 점점 작아질 때 FPR은 점점 커지는 모습을 볼 수 있다. 이때, TPR은 가파르게 상승하는 모습을 보인다."
      ],
      "metadata": {
        "id": "fSxfIQVourpo"
      },
      "id": "fSxfIQVourpo"
    },
    {
      "cell_type": "code",
      "source": [
        "# ROC 곡선으로 시각화(X:FPR, Y:TPR)\n",
        "def roc_curve_plot(y_test, pred_proba_c1):\n",
        "  # 임곗값에 따른 FPR, TPR 값을 반환\n",
        "  fprs, tprs, thresholds = roc_curve(y_test, pred_proba_c1)\n",
        "  \n",
        "  # ROC 곡선을 그래프 곡선으로 그림\n",
        "  plt.plot(fprs, tprs, label='ROC')\n",
        "\n",
        "  # 가운데 대각선 직선을 그림\n",
        "  plt.plot([0,1],[0,1], 'k--', label='Random')\n",
        "\n",
        "  # FPR X축의 Scale을 0.1단위로 변경, X,Y축 명 설정 등\n",
        "  start, end = plt.xlim()\n",
        "  plt.xticks(np.round(np.arange(start,end,0.1),2))\n",
        "  plt.xlim(0,1); plt.ylim(0,1)\n",
        "  plt.xlabel('FPR(1-Sensitivity)'); plt.ylabel('TPR(Recall)')\n",
        "  plt.legend()\n",
        "\n",
        "roc_curve_plot(y_test, pred_proba[:,1])\n"
      ],
      "metadata": {
        "colab": {
          "base_uri": "https://localhost:8080/",
          "height": 283
        },
        "id": "i35fKkRmvCVr",
        "outputId": "e9b1bbbb-3ee5-48c1-82eb-e2616849a9da"
      },
      "id": "i35fKkRmvCVr",
      "execution_count": null,
      "outputs": [
        {
          "output_type": "display_data",
          "data": {
            "text/plain": [
              "<Figure size 432x288 with 1 Axes>"
            ],
            "image/png": "[encoded data removed]"
          },
          "metadata": {
            "needs_background": "light"
          }
        }
      ]
    },
    {
      "cell_type": "markdown",
      "source": [
        "- ROC 곡선 자체는 FPR과 TPR의 변화 값을 보는데 이용\n",
        "- 분류의 성능 지표로 사용되는 것은 ROC 곡선 면적에 기반한 AUC(Area Under Curve) 값으로 결정\n",
        "- AUC 값은 **ROC 곡선 밑의 면적을 구한 것**으로서 일반적으로 1에 가까울수록 좋은 수치\n",
        "- AUC 값이 커지려면 FPR이 작은 상태에서 얼마나 큰 TPR을 얻느냐가 관건\n",
        "- 보통의 분류는 0.5이상의 AUC 값 가짐\n"
      ],
      "metadata": {
        "id": "wMZ1lwqAwHlp"
      },
      "id": "wMZ1lwqAwHlp"
    },
    {
      "cell_type": "code",
      "source": [
        "# AUC(ROC 곡선 밑의 면적, 1에 가까울수록 좋음) 값 구하기\n",
        "from sklearn.metrics import roc_auc_score\n",
        "\n",
        "pred_proba = lr_clf.predict_proba(X_test)[:,1]\n",
        "roc_score = roc_auc_score(y_test,pred_proba)\n",
        "print('ROC AUC 값:{0:.4f}'.format(roc_score))"
      ],
      "metadata": {
        "colab": {
          "base_uri": "https://localhost:8080/"
        },
        "id": "TbxV1wm-xEK1",
        "outputId": "890939bd-4711-409e-f853-492106d1aaa1"
      },
      "id": "TbxV1wm-xEK1",
      "execution_count": null,
      "outputs": [
        {
          "output_type": "stream",
          "name": "stdout",
          "text": [
            "ROC AUC 값:0.9024\n"
          ]
        }
      ]
    },
    {
      "cell_type": "markdown",
      "source": [
        "타이타닉 생존자 예측 로지스틱 회귀 모델의 ROC AUC 값은 약 0.9024로 측정됨"
      ],
      "metadata": {
        "id": "ho9n1BpYxVbS"
      },
      "id": "ho9n1BpYxVbS"
    },
    {
      "cell_type": "code",
      "source": [
        "# get_clf_eval함수에 ROC AUC값을 구하는 로직 추가\n",
        "def get_clf_eval(y_test,pred=None, pred_proba=None):\n",
        "  confusion = confusion_matrix(y_test,pred)\n",
        "  accuracy = accuracy_score(y_test,pred)\n",
        "  precision = precision_score(y_test, pred)\n",
        "  recall = recall_score(y_test, pred)\n",
        "  f1 = f1_score(y_test,pred)\n",
        " \n",
        "  # ROC-AUC 구하는 로직 추가\n",
        "  roc_auc = roc_auc_score(y_test, pred_proba)\n",
        "  \n",
        "  print('오차행렬')\n",
        "  print(confusion)\n",
        "  print(\"정확도:{0:.4f}, 정밀도:{1:.4f}, 재현율:{2:.4f}, F1:{3:.4f}, AUC:{4:.4f}\".format(accuracy,precision,recall,f1,roc_auc))\n",
        "\n",
        "# pred = lr_clf.predict(X_test)\n",
        "pred_proba = lr_clf.predict_proba(X_test)[:,1] # predict_proba : 각 샘플에 대해 어느 클래스에 속할 확률을 0에서 1사이의 값으로 반환해줌\n",
        "get_clf_eval(y_test, pred=pred, pred_proba=pred_proba)"
      ],
      "metadata": {
        "colab": {
          "base_uri": "https://localhost:8080/"
        },
        "id": "nzIUFqxVxuIw",
        "outputId": "5bfd4ddf-2e18-4376-baf7-a0161d651281"
      },
      "id": "nzIUFqxVxuIw",
      "execution_count": null,
      "outputs": [
        {
          "output_type": "stream",
          "name": "stdout",
          "text": [
            "오차행렬\n",
            "[[104  14]\n",
            " [ 13  48]]\n",
            "정확도:0.8492, 정밀도:0.7742, 재현율:0.7869, F1:0.7805, AUC:0.9024\n"
          ]
        }
      ]
    },
    {
      "cell_type": "markdown",
      "source": [
        "----\n",
        "<br>\n",
        "\n",
        "## 6. 피마 인디언 당뇨병 예측"
      ],
      "metadata": {
        "id": "Gb0ND4F5ynJU"
      },
      "id": "Gb0ND4F5ynJU"
    },
    {
      "cell_type": "code",
      "source": [
        "import numpy as np\n",
        "import pandas as pd\n",
        "import matplotlib.pyplot as plt\n",
        "%matplotlib inline\n",
        "\n",
        "from sklearn.model_selection import train_test_split\n",
        "from sklearn.metrics import accuracy_score, precision_score, recall_score, roc_auc_score\n",
        "from sklearn.metrics import f1_score, confusion_matrix, precision_recall_curve, roc_curve\n",
        "from sklearn.preprocessing import StandardScaler\n",
        "from sklearn.linear_model import LogisticRegression\n",
        "\n",
        "diabetes_data = pd.read_csv('/content/drive/MyDrive/Jupyter/diabetes.csv')\n",
        "print(diabetes_data['Outcome'].value_counts())\n",
        "diabetes_data.head(3)"
      ],
      "metadata": {
        "id": "ElrXJ5cfHF21",
        "colab": {
          "base_uri": "https://localhost:8080/",
          "height": 198
        },
        "outputId": "7088291b-4e9d-4719-b7fb-a9cf6b021a78"
      },
      "id": "ElrXJ5cfHF21",
      "execution_count": null,
      "outputs": [
        {
          "output_type": "stream",
          "name": "stdout",
          "text": [
            "0    500\n",
            "1    268\n",
            "Name: Outcome, dtype: int64\n"
          ]
        },
        {
          "output_type": "execute_result",
          "data": {
            "text/plain": [
              "   Pregnancies  Glucose  BloodPressure  SkinThickness  Insulin   BMI  \\\n",
              "0            6      148             72             35        0  33.6   \n",
              "1            1       85             66             29        0  26.6   \n",
              "2            8      183             64              0        0  23.3   \n",
              "\n",
              "   DiabetesPedigreeFunction  Age  Outcome  \n",
              "0                     0.627   50        1  \n",
              "1                     0.351   31        0  \n",
              "2                     0.672   32        1  "
            ],
            "text/html": [
              "\n",
              "  <div id=\"df-f35dc7d7-1302-4abf-af3d-edbacdc28388\">\n",
              "    <div class=\"colab-df-container\">\n",
              "      <div>\n",
              "<style scoped>\n",
              "    .dataframe tbody tr th:only-of-type {\n",
              "        vertical-align: middle;\n",
              "    }\n",
              "\n",
              "    .dataframe tbody tr th {\n",
              "        vertical-align: top;\n",
              "    }\n",
              "\n",
              "    .dataframe thead th {\n",
              "        text-align: right;\n",
              "    }\n",
              "</style>\n",
              "<table border=\"1\" class=\"dataframe\">\n",
              "  <thead>\n",
              "    <tr style=\"text-align: right;\">\n",
              "      <th></th>\n",
              "      <th>Pregnancies</th>\n",
              "      <th>Glucose</th>\n",
              "      <th>BloodPressure</th>\n",
              "      <th>SkinThickness</th>\n",
              "      <th>Insulin</th>\n",
              "      <th>BMI</th>\n",
              "      <th>DiabetesPedigreeFunction</th>\n",
              "      <th>Age</th>\n",
              "      <th>Outcome</th>\n",
              "    </tr>\n",
              "  </thead>\n",
              "  <tbody>\n",
              "    <tr>\n",
              "      <th>0</th>\n",
              "      <td>6</td>\n",
              "      <td>148</td>\n",
              "      <td>72</td>\n",
              "      <td>35</td>\n",
              "      <td>0</td>\n",
              "      <td>33.6</td>\n",
              "      <td>0.627</td>\n",
              "      <td>50</td>\n",
              "      <td>1</td>\n",
              "    </tr>\n",
              "    <tr>\n",
              "      <th>1</th>\n",
              "      <td>1</td>\n",
              "      <td>85</td>\n",
              "      <td>66</td>\n",
              "      <td>29</td>\n",
              "      <td>0</td>\n",
              "      <td>26.6</td>\n",
              "      <td>0.351</td>\n",
              "      <td>31</td>\n",
              "      <td>0</td>\n",
              "    </tr>\n",
              "    <tr>\n",
              "      <th>2</th>\n",
              "      <td>8</td>\n",
              "      <td>183</td>\n",
              "      <td>64</td>\n",
              "      <td>0</td>\n",
              "      <td>0</td>\n",
              "      <td>23.3</td>\n",
              "      <td>0.672</td>\n",
              "      <td>32</td>\n",
              "      <td>1</td>\n",
              "    </tr>\n",
              "  </tbody>\n",
              "</table>\n",
              "</div>\n",
              "      <button class=\"colab-df-convert\" onclick=\"convertToInteractive('df-f35dc7d7-1302-4abf-af3d-edbacdc28388')\"\n",
              "              title=\"Convert this dataframe to an interactive table.\"\n",
              "              style=\"display:none;\">\n",
              "        \n",
              "  <svg xmlns=\"http://www.w3.org/2000/svg\" height=\"24px\"viewBox=\"0 0 24 24\"\n",
              "       width=\"24px\">\n",
              "    <path d=\"M0 0h24v24H0V0z\" fill=\"none\"/>\n",
              "    <path d=\"M18.56 5.44l.94 2.06.94-2.06 2.06-.94-2.06-.94-.94-2.06-.94 2.06-2.06.94zm-11 1L8.5 8.5l.94-2.06 2.06-.94-2.06-.94L8.5 2.5l-.94 2.06-2.06.94zm10 10l.94 2.06.94-2.06 2.06-.94-2.06-.94-.94-2.06-.94 2.06-2.06.94z\"/><path d=\"M17.41 7.96l-1.37-1.37c-.4-.4-.92-.59-1.43-.59-.52 0-1.04.2-1.43.59L10.3 9.45l-7.72 7.72c-.78.78-.78 2.05 0 2.83L4 21.41c.39.39.9.59 1.41.59.51 0 1.02-.2 1.41-.59l7.78-7.78 2.81-2.81c.8-.78.8-2.07 0-2.86zM5.41 20L4 18.59l7.72-7.72 1.47 1.35L5.41 20z\"/>\n",
              "  </svg>\n",
              "      </button>\n",
              "      \n",
              "  <style>\n",
              "    .colab-df-container {\n",
              "      display:flex;\n",
              "      flex-wrap:wrap;\n",
              "      gap: 12px;\n",
              "    }\n",
              "\n",
              "    .colab-df-convert {\n",
              "      background-color: #E8F0FE;\n",
              "      border: none;\n",
              "      border-radius: 50%;\n",
              "      cursor: pointer;\n",
              "      display: none;\n",
              "      fill: #1967D2;\n",
              "      height: 32px;\n",
              "      padding: 0 0 0 0;\n",
              "      width: 32px;\n",
              "    }\n",
              "\n",
              "    .colab-df-convert:hover {\n",
              "      background-color: #E2EBFA;\n",
              "      box-shadow: 0px 1px 2px rgba(60, 64, 67, 0.3), 0px 1px 3px 1px rgba(60, 64, 67, 0.15);\n",
              "      fill: #174EA6;\n",
              "    }\n",
              "\n",
              "    [theme=dark] .colab-df-convert {\n",
              "      background-color: #3B4455;\n",
              "      fill: #D2E3FC;\n",
              "    }\n",
              "\n",
              "    [theme=dark] .colab-df-convert:hover {\n",
              "      background-color: #434B5C;\n",
              "      box-shadow: 0px 1px 3px 1px rgba(0, 0, 0, 0.15);\n",
              "      filter: drop-shadow(0px 1px 2px rgba(0, 0, 0, 0.3));\n",
              "      fill: #FFFFFF;\n",
              "    }\n",
              "  </style>\n",
              "\n",
              "      <script>\n",
              "        const buttonEl =\n",
              "          document.querySelector('#df-f35dc7d7-1302-4abf-af3d-edbacdc28388 button.colab-df-convert');\n",
              "        buttonEl.style.display =\n",
              "          google.colab.kernel.accessAllowed ? 'block' : 'none';\n",
              "\n",
              "        async function convertToInteractive(key) {\n",
              "          const element = document.querySelector('#df-f35dc7d7-1302-4abf-af3d-edbacdc28388');\n",
              "          const dataTable =\n",
              "            await google.colab.kernel.invokeFunction('convertToInteractive',\n",
              "                                                     [key], {});\n",
              "          if (!dataTable) return;\n",
              "\n",
              "          const docLinkHtml = 'Like what you see? Visit the ' +\n",
              "            '<a target=\"_blank\" href=https://colab.research.google.com/notebooks/data_table.ipynb>data table notebook</a>'\n",
              "            + ' to learn more about interactive tables.';\n",
              "          element.innerHTML = '';\n",
              "          dataTable['output_type'] = 'display_data';\n",
              "          await google.colab.output.renderOutput(dataTable, element);\n",
              "          const docLink = document.createElement('div');\n",
              "          docLink.innerHTML = docLinkHtml;\n",
              "          element.appendChild(docLink);\n",
              "        }\n",
              "      </script>\n",
              "    </div>\n",
              "  </div>\n",
              "  "
            ]
          },
          "metadata": {},
          "execution_count": 24
        }
      ]
    },
    {
      "cell_type": "code",
      "source": [
        "# NULL개수와 feature의 type 파악\n",
        "diabetes_data.info()"
      ],
      "metadata": {
        "colab": {
          "base_uri": "https://localhost:8080/"
        },
        "id": "mJ-CG1n6U8vN",
        "outputId": "5befc468-105b-42c0-8a7c-3b16a3114b0d"
      },
      "id": "mJ-CG1n6U8vN",
      "execution_count": null,
      "outputs": [
        {
          "output_type": "stream",
          "name": "stdout",
          "text": [
            "<class 'pandas.core.frame.DataFrame'>\n",
            "RangeIndex: 768 entries, 0 to 767\n",
            "Data columns (total 9 columns):\n",
            " #   Column                    Non-Null Count  Dtype  \n",
            "---  ------                    --------------  -----  \n",
            " 0   Pregnancies               768 non-null    int64  \n",
            " 1   Glucose                   768 non-null    int64  \n",
            " 2   BloodPressure             768 non-null    int64  \n",
            " 3   SkinThickness             768 non-null    int64  \n",
            " 4   Insulin                   768 non-null    int64  \n",
            " 5   BMI                       768 non-null    float64\n",
            " 6   DiabetesPedigreeFunction  768 non-null    float64\n",
            " 7   Age                       768 non-null    int64  \n",
            " 8   Outcome                   768 non-null    int64  \n",
            "dtypes: float64(2), int64(7)\n",
            "memory usage: 54.1 KB\n"
          ]
        }
      ]
    },
    {
      "cell_type": "code",
      "source": [
        "# 피처 데이터 세트 X, 레이블 데이터 세트 y를 추출\n",
        "# 맨 끝이 Outcome 칼럼으로 레이블 값, 칼럼 위치 -1을 이용하여 추출\n",
        "\n",
        "X = diabetes_data.iloc[:,:-1] # 레이블을 제외한 피처 데이터들\n",
        "y = diabetes_data.iloc[:,-1]  # 레이블 값(당뇨병 양성,음성 라벨링)\n",
        "\n",
        "X_train, X_test, y_train, y_test = train_test_split(X,y,test_size = 0.2, random_state=156, stratify=y)\n",
        "\n",
        "# 로지스틱 회귀로 학습, 예측 및 평가 수행\n",
        "lr_clf = LogisticRegression()\n",
        "lr_clf.fit(X_train, y_train)\n",
        "pred = lr_clf.predict(X_test)\n",
        "pred_proba = lr_clf.predict_proba(X_test)[:,1]\n",
        "\n",
        "get_clf_eval(y_test, pred, pred_proba)\n"
      ],
      "metadata": {
        "colab": {
          "base_uri": "https://localhost:8080/"
        },
        "id": "FxeDlEyfWNWq",
        "outputId": "11002655-f583-4bc2-b43d-e3bd4da7d8a4"
      },
      "id": "FxeDlEyfWNWq",
      "execution_count": null,
      "outputs": [
        {
          "output_type": "stream",
          "name": "stdout",
          "text": [
            "오차행렬\n",
            "[[88 12]\n",
            " [23 31]]\n",
            "정확도:0.7727, 정밀도:0.7209, 재현율:0.5741, F1:0.6392, AUC:0.7919\n"
          ]
        },
        {
          "output_type": "stream",
          "name": "stderr",
          "text": [
            "/usr/local/lib/python3.7/dist-packages/sklearn/linear_model/_logistic.py:818: ConvergenceWarning: lbfgs failed to converge (status=1):\n",
            "STOP: TOTAL NO. of ITERATIONS REACHED LIMIT.\n",
            "\n",
            "Increase the number of iterations (max_iter) or scale the data as shown in:\n",
            "    https://scikit-learn.org/stable/modules/preprocessing.html\n",
            "Please also refer to the documentation for alternative solver options:\n",
            "    https://scikit-learn.org/stable/modules/linear_model.html#logistic-regression\n",
            "  extra_warning_msg=_LOGISTIC_SOLVER_CONVERGENCE_MSG,\n"
          ]
        }
      ]
    },
    {
      "cell_type": "code",
      "source": [
        "# 정밀도 재현율 곡선을 통해 임곗값별 정밀도와 재현율 값의 변화 확인\n",
        "pred_proba_c1 = lr_clf.predict_proba(X_test)[:,1]\n",
        "precision_recall_curve_plot(y_test, pred_proba_c1)"
      ],
      "metadata": {
        "colab": {
          "base_uri": "https://localhost:8080/",
          "height": 388
        },
        "id": "sQQ3Z_nOXV2S",
        "outputId": "ed0c0f37-2c73-4e36-ecb7-bbf6dd617cd2"
      },
      "id": "sQQ3Z_nOXV2S",
      "execution_count": null,
      "outputs": [
        {
          "output_type": "display_data",
          "data": {
            "text/plain": [
              "<Figure size 576x432 with 1 Axes>"
            ],
            "image/png": "[encoded data removed]"
          },
          "metadata": {
            "needs_background": "light"
          }
        }
      ]
    },
    {
      "cell_type": "markdown",
      "source": [
        "임곗값이 0.42 정도일 때 균형을 이루지만 두 개의 지표 모두 0.7이 안되는 값으로 낮은 값을 보인다. 따라서 임곗값을 임의로 조작하기 전에 원본 데이터 값을 점검"
      ],
      "metadata": {
        "id": "gms6IisoKNaz"
      },
      "id": "gms6IisoKNaz"
    },
    {
      "cell_type": "code",
      "source": [
        "diabetes_data.describe()"
      ],
      "metadata": {
        "colab": {
          "base_uri": "https://localhost:8080/",
          "height": 300
        },
        "id": "tWzFlgTPK5mb",
        "outputId": "cde92f37-033c-4349-a434-d5a24cbdfa11"
      },
      "id": "tWzFlgTPK5mb",
      "execution_count": null,
      "outputs": [
        {
          "output_type": "execute_result",
          "data": {
            "text/plain": [
              "       Pregnancies     Glucose  BloodPressure  SkinThickness     Insulin  \\\n",
              "count   768.000000  768.000000     768.000000     768.000000  768.000000   \n",
              "mean      3.845052  120.894531      69.105469      20.536458   79.799479   \n",
              "std       3.369578   31.972618      19.355807      15.952218  115.244002   \n",
              "min       0.000000    0.000000       0.000000       0.000000    0.000000   \n",
              "25%       1.000000   99.000000      62.000000       0.000000    0.000000   \n",
              "50%       3.000000  117.000000      72.000000      23.000000   30.500000   \n",
              "75%       6.000000  140.250000      80.000000      32.000000  127.250000   \n",
              "max      17.000000  199.000000     122.000000      99.000000  846.000000   \n",
              "\n",
              "              BMI  DiabetesPedigreeFunction         Age     Outcome  \n",
              "count  768.000000                768.000000  768.000000  768.000000  \n",
              "mean    31.992578                  0.471876   33.240885    0.348958  \n",
              "std      7.884160                  0.331329   11.760232    0.476951  \n",
              "min      0.000000                  0.078000   21.000000    0.000000  \n",
              "25%     27.300000                  0.243750   24.000000    0.000000  \n",
              "50%     32.000000                  0.372500   29.000000    0.000000  \n",
              "75%     36.600000                  0.626250   41.000000    1.000000  \n",
              "max     67.100000                  2.420000   81.000000    1.000000  "
            ],
            "text/html": [
              "\n",
              "  <div id=\"df-564dfdc0-b318-485a-9d7e-db70f902dbad\">\n",
              "    <div class=\"colab-df-container\">\n",
              "      <div>\n",
              "<style scoped>\n",
              "    .dataframe tbody tr th:only-of-type {\n",
              "        vertical-align: middle;\n",
              "    }\n",
              "\n",
              "    .dataframe tbody tr th {\n",
              "        vertical-align: top;\n",
              "    }\n",
              "\n",
              "    .dataframe thead th {\n",
              "        text-align: right;\n",
              "    }\n",
              "</style>\n",
              "<table border=\"1\" class=\"dataframe\">\n",
              "  <thead>\n",
              "    <tr style=\"text-align: right;\">\n",
              "      <th></th>\n",
              "      <th>Pregnancies</th>\n",
              "      <th>Glucose</th>\n",
              "      <th>BloodPressure</th>\n",
              "      <th>SkinThickness</th>\n",
              "      <th>Insulin</th>\n",
              "      <th>BMI</th>\n",
              "      <th>DiabetesPedigreeFunction</th>\n",
              "      <th>Age</th>\n",
              "      <th>Outcome</th>\n",
              "    </tr>\n",
              "  </thead>\n",
              "  <tbody>\n",
              "    <tr>\n",
              "      <th>count</th>\n",
              "      <td>768.000000</td>\n",
              "      <td>768.000000</td>\n",
              "      <td>768.000000</td>\n",
              "      <td>768.000000</td>\n",
              "      <td>768.000000</td>\n",
              "      <td>768.000000</td>\n",
              "      <td>768.000000</td>\n",
              "      <td>768.000000</td>\n",
              "      <td>768.000000</td>\n",
              "    </tr>\n",
              "    <tr>\n",
              "      <th>mean</th>\n",
              "      <td>3.845052</td>\n",
              "      <td>120.894531</td>\n",
              "      <td>69.105469</td>\n",
              "      <td>20.536458</td>\n",
              "      <td>79.799479</td>\n",
              "      <td>31.992578</td>\n",
              "      <td>0.471876</td>\n",
              "      <td>33.240885</td>\n",
              "      <td>0.348958</td>\n",
              "    </tr>\n",
              "    <tr>\n",
              "      <th>std</th>\n",
              "      <td>3.369578</td>\n",
              "      <td>31.972618</td>\n",
              "      <td>19.355807</td>\n",
              "      <td>15.952218</td>\n",
              "      <td>115.244002</td>\n",
              "      <td>7.884160</td>\n",
              "      <td>0.331329</td>\n",
              "      <td>11.760232</td>\n",
              "      <td>0.476951</td>\n",
              "    </tr>\n",
              "    <tr>\n",
              "      <th>min</th>\n",
              "      <td>0.000000</td>\n",
              "      <td>0.000000</td>\n",
              "      <td>0.000000</td>\n",
              "      <td>0.000000</td>\n",
              "      <td>0.000000</td>\n",
              "      <td>0.000000</td>\n",
              "      <td>0.078000</td>\n",
              "      <td>21.000000</td>\n",
              "      <td>0.000000</td>\n",
              "    </tr>\n",
              "    <tr>\n",
              "      <th>25%</th>\n",
              "      <td>1.000000</td>\n",
              "      <td>99.000000</td>\n",
              "      <td>62.000000</td>\n",
              "      <td>0.000000</td>\n",
              "      <td>0.000000</td>\n",
              "      <td>27.300000</td>\n",
              "      <td>0.243750</td>\n",
              "      <td>24.000000</td>\n",
              "      <td>0.000000</td>\n",
              "    </tr>\n",
              "    <tr>\n",
              "      <th>50%</th>\n",
              "      <td>3.000000</td>\n",
              "      <td>117.000000</td>\n",
              "      <td>72.000000</td>\n",
              "      <td>23.000000</td>\n",
              "      <td>30.500000</td>\n",
              "      <td>32.000000</td>\n",
              "      <td>0.372500</td>\n",
              "      <td>29.000000</td>\n",
              "      <td>0.000000</td>\n",
              "    </tr>\n",
              "    <tr>\n",
              "      <th>75%</th>\n",
              "      <td>6.000000</td>\n",
              "      <td>140.250000</td>\n",
              "      <td>80.000000</td>\n",
              "      <td>32.000000</td>\n",
              "      <td>127.250000</td>\n",
              "      <td>36.600000</td>\n",
              "      <td>0.626250</td>\n",
              "      <td>41.000000</td>\n",
              "      <td>1.000000</td>\n",
              "    </tr>\n",
              "    <tr>\n",
              "      <th>max</th>\n",
              "      <td>17.000000</td>\n",
              "      <td>199.000000</td>\n",
              "      <td>122.000000</td>\n",
              "      <td>99.000000</td>\n",
              "      <td>846.000000</td>\n",
              "      <td>67.100000</td>\n",
              "      <td>2.420000</td>\n",
              "      <td>81.000000</td>\n",
              "      <td>1.000000</td>\n",
              "    </tr>\n",
              "  </tbody>\n",
              "</table>\n",
              "</div>\n",
              "      <button class=\"colab-df-convert\" onclick=\"convertToInteractive('df-564dfdc0-b318-485a-9d7e-db70f902dbad')\"\n",
              "              title=\"Convert this dataframe to an interactive table.\"\n",
              "              style=\"display:none;\">\n",
              "        \n",
              "  <svg xmlns=\"http://www.w3.org/2000/svg\" height=\"24px\"viewBox=\"0 0 24 24\"\n",
              "       width=\"24px\">\n",
              "    <path d=\"M0 0h24v24H0V0z\" fill=\"none\"/>\n",
              "    <path d=\"M18.56 5.44l.94 2.06.94-2.06 2.06-.94-2.06-.94-.94-2.06-.94 2.06-2.06.94zm-11 1L8.5 8.5l.94-2.06 2.06-.94-2.06-.94L8.5 2.5l-.94 2.06-2.06.94zm10 10l.94 2.06.94-2.06 2.06-.94-2.06-.94-.94-2.06-.94 2.06-2.06.94z\"/><path d=\"M17.41 7.96l-1.37-1.37c-.4-.4-.92-.59-1.43-.59-.52 0-1.04.2-1.43.59L10.3 9.45l-7.72 7.72c-.78.78-.78 2.05 0 2.83L4 21.41c.39.39.9.59 1.41.59.51 0 1.02-.2 1.41-.59l7.78-7.78 2.81-2.81c.8-.78.8-2.07 0-2.86zM5.41 20L4 18.59l7.72-7.72 1.47 1.35L5.41 20z\"/>\n",
              "  </svg>\n",
              "      </button>\n",
              "      \n",
              "  <style>\n",
              "    .colab-df-container {\n",
              "      display:flex;\n",
              "      flex-wrap:wrap;\n",
              "      gap: 12px;\n",
              "    }\n",
              "\n",
              "    .colab-df-convert {\n",
              "      background-color: #E8F0FE;\n",
              "      border: none;\n",
              "      border-radius: 50%;\n",
              "      cursor: pointer;\n",
              "      display: none;\n",
              "      fill: #1967D2;\n",
              "      height: 32px;\n",
              "      padding: 0 0 0 0;\n",
              "      width: 32px;\n",
              "    }\n",
              "\n",
              "    .colab-df-convert:hover {\n",
              "      background-color: #E2EBFA;\n",
              "      box-shadow: 0px 1px 2px rgba(60, 64, 67, 0.3), 0px 1px 3px 1px rgba(60, 64, 67, 0.15);\n",
              "      fill: #174EA6;\n",
              "    }\n",
              "\n",
              "    [theme=dark] .colab-df-convert {\n",
              "      background-color: #3B4455;\n",
              "      fill: #D2E3FC;\n",
              "    }\n",
              "\n",
              "    [theme=dark] .colab-df-convert:hover {\n",
              "      background-color: #434B5C;\n",
              "      box-shadow: 0px 1px 3px 1px rgba(0, 0, 0, 0.15);\n",
              "      filter: drop-shadow(0px 1px 2px rgba(0, 0, 0, 0.3));\n",
              "      fill: #FFFFFF;\n",
              "    }\n",
              "  </style>\n",
              "\n",
              "      <script>\n",
              "        const buttonEl =\n",
              "          document.querySelector('#df-564dfdc0-b318-485a-9d7e-db70f902dbad button.colab-df-convert');\n",
              "        buttonEl.style.display =\n",
              "          google.colab.kernel.accessAllowed ? 'block' : 'none';\n",
              "\n",
              "        async function convertToInteractive(key) {\n",
              "          const element = document.querySelector('#df-564dfdc0-b318-485a-9d7e-db70f902dbad');\n",
              "          const dataTable =\n",
              "            await google.colab.kernel.invokeFunction('convertToInteractive',\n",
              "                                                     [key], {});\n",
              "          if (!dataTable) return;\n",
              "\n",
              "          const docLinkHtml = 'Like what you see? Visit the ' +\n",
              "            '<a target=\"_blank\" href=https://colab.research.google.com/notebooks/data_table.ipynb>data table notebook</a>'\n",
              "            + ' to learn more about interactive tables.';\n",
              "          element.innerHTML = '';\n",
              "          dataTable['output_type'] = 'display_data';\n",
              "          await google.colab.output.renderOutput(dataTable, element);\n",
              "          const docLink = document.createElement('div');\n",
              "          docLink.innerHTML = docLinkHtml;\n",
              "          element.appendChild(docLink);\n",
              "        }\n",
              "      </script>\n",
              "    </div>\n",
              "  </div>\n",
              "  "
            ]
          },
          "metadata": {},
          "execution_count": 28
        }
      ]
    },
    {
      "cell_type": "markdown",
      "source": [
        "min값이 0인 피처들이 굉장히 많이 보임. 하지만 Glucose 같은 피처는 포도당 수치인데 min값이 0인 것은 말이 되지 않는다.<br>\n",
        "히스토그램을 통해 0값이 어느 정도 존재하는지 확인"
      ],
      "metadata": {
        "id": "oi32lj6-K-8e"
      },
      "id": "oi32lj6-K-8e"
    },
    {
      "cell_type": "code",
      "source": [
        "plt.hist(diabetes_data['Glucose'],bins=10)"
      ],
      "metadata": {
        "colab": {
          "base_uri": "https://localhost:8080/",
          "height": 338
        },
        "id": "HGEOo_lxLqTw",
        "outputId": "f457344b-c3dc-4c6c-b892-796666a2bf60"
      },
      "id": "HGEOo_lxLqTw",
      "execution_count": null,
      "outputs": [
        {
          "output_type": "execute_result",
          "data": {
            "text/plain": [
              "(array([  5.,   0.,   4.,  32., 156., 211., 163.,  95.,  56.,  46.]),\n",
              " array([  0. ,  19.9,  39.8,  59.7,  79.6,  99.5, 119.4, 139.3, 159.2,\n",
              "        179.1, 199. ]),\n",
              " <a list of 10 Patch objects>)"
            ]
          },
          "metadata": {},
          "execution_count": 30
        },
        {
          "output_type": "display_data",
          "data": {
            "text/plain": [
              "<Figure size 432x288 with 1 Axes>"
            ],
            "image/png": "[encoded data removed]"
          },
          "metadata": {
            "needs_background": "light"
          }
        }
      ]
    },
    {
      "cell_type": "markdown",
      "source": [
        "'Glucose' 피처에서 0값이 일정 수준 존재하는 것을 알 수 있음"
      ],
      "metadata": {
        "id": "cNjAQa6WLw9H"
      },
      "id": "cNjAQa6WLw9H"
    },
    {
      "cell_type": "markdown",
      "source": [
        "min값이 0인 피처에 대해 0값의 건수 및 전체 데이터 건수 대비 몇 퍼센트의 비율로 존재하는지 확인"
      ],
      "metadata": {
        "id": "EUbhMPmyL3jL"
      },
      "id": "EUbhMPmyL3jL"
    },
    {
      "cell_type": "code",
      "source": [
        "# 0값을 검사할 피처 명 리스트\n",
        "zero_features = ['Glucose','BloodPressure','SkinThickness','Insulin','BMI']\n",
        "\n",
        "# 전체 데이터 건수\n",
        "total_count = diabetes_data['Glucose'].count()\n",
        "\n",
        "# 피처별로 반복하면서 데이터 값이 0인 데이터 건수 추출, 퍼센트 계산\n",
        "for feature in zero_features:\n",
        "  zero_count = diabetes_data[diabetes_data[feature] == 0][feature].count()\n",
        "  print('{0} 0 건수는 {1}, 퍼센트는 {2:.2f}%'.format(feature,zero_count, zero_count/total_count*100))"
      ],
      "metadata": {
        "colab": {
          "base_uri": "https://localhost:8080/"
        },
        "id": "N2U4l1AYMy-h",
        "outputId": "d53f9afe-fbee-4042-a63e-c8a7883f9784"
      },
      "id": "N2U4l1AYMy-h",
      "execution_count": null,
      "outputs": [
        {
          "output_type": "stream",
          "name": "stdout",
          "text": [
            "Glucose 0 건수는 5, 퍼센트는 0.65%\n",
            "BloodPressure 0 건수는 35, 퍼센트는 4.56%\n",
            "SkinThickness 0 건수는 227, 퍼센트는 29.56%\n",
            "Insulin 0 건수는 374, 퍼센트는 48.70%\n",
            "BMI 0 건수는 11, 퍼센트는 1.43%\n"
          ]
        }
      ]
    },
    {
      "cell_type": "markdown",
      "source": [
        "SkinThickness와 Insulin의 0의 값이 굉장히 많음. 이때 데이터의 건수가 작으므로 삭제할 경우 학습을 효과적으로 수행할 수 없어 위 피처의 0값을 평균값으로 대체"
      ],
      "metadata": {
        "id": "W2iNmzbZODHm"
      },
      "id": "W2iNmzbZODHm"
    },
    {
      "cell_type": "code",
      "source": [
        "# zero_features 리스트 내부에 저장된 개별 피처들에 대해 0값을 평균 값으로 대체\n",
        "mean_zero_features = diabetes_data[zero_features].mean()\n",
        "print(mean_zero_features)\n",
        "diabetes_data[zero_features] = diabetes_data[zero_features].replace(0,mean_zero_features)"
      ],
      "metadata": {
        "colab": {
          "base_uri": "https://localhost:8080/"
        },
        "id": "ALBk0MBRO-Qq",
        "outputId": "7c5e5464-7d9f-4b7f-c242-2e85b1b56051"
      },
      "id": "ALBk0MBRO-Qq",
      "execution_count": null,
      "outputs": [
        {
          "output_type": "stream",
          "name": "stdout",
          "text": [
            "Glucose          121.681605\n",
            "BloodPressure     72.254807\n",
            "SkinThickness     26.606479\n",
            "Insulin          118.660163\n",
            "BMI               32.450805\n",
            "dtype: float64\n"
          ]
        }
      ]
    },
    {
      "cell_type": "markdown",
      "source": [
        "0값을 평균값으로 대체한 데이터 세트에 피처 스케일링을 적용해 변환<br>\n",
        "로지스틱 회귀의 경우 일반적으로 숫자 데이터에 스케일링을 적용하는 것이 좋음"
      ],
      "metadata": {
        "id": "FNhXsbPJQXke"
      },
      "id": "FNhXsbPJQXke"
    },
    {
      "cell_type": "code",
      "source": [
        "X = diabetes_data.iloc[:,:-1]\n",
        "y = diabetes_data.iloc[:,-1]\n",
        "\n",
        "# StandardScaler 클래스 이용하여 피처 데이터 세트에 표준화 작업\n",
        "scaler = StandardScaler()\n",
        "X_scaled = scaler.fit_transform(X)\n",
        "\n",
        "X_train, X_test, y_train, y_test = train_test_split(X_scaled,y,test_size=0.2, random_state=156, stratify=y)\n",
        "\n",
        "# 로지스틱 회귀로 학습, 예측 및 평가 수행\n",
        "lr_clf = LogisticRegression()\n",
        "lr_clf.fit(X_train,y_train)\n",
        "pred = lr_clf.predict(X_test)\n",
        "pred_proba = lr_clf.predict_proba(X_test)[:,1]\n",
        "\n",
        "get_clf_eval(y_test, pred, pred_proba)"
      ],
      "metadata": {
        "colab": {
          "base_uri": "https://localhost:8080/"
        },
        "id": "89N5fMwLQ1T1",
        "outputId": "d0d0eef2-f416-406b-d5bc-eff5d8950836"
      },
      "id": "89N5fMwLQ1T1",
      "execution_count": null,
      "outputs": [
        {
          "output_type": "stream",
          "name": "stdout",
          "text": [
            "오차행렬\n",
            "[[90 10]\n",
            " [21 33]]\n",
            "정확도:0.7987, 정밀도:0.7674, 재현율:0.6111, F1:0.6804, AUC:0.8433\n"
          ]
        }
      ]
    },
    {
      "cell_type": "markdown",
      "source": [
        "데이터 변환과 스케일링을 통해 성능 수치가 일정 수준 개선되었지만 재현율은 아직도 개선이 필요해 보임.<br>\n",
        "임곗값을 변화시키며 재현율 값의 수치를 개선시켜보겠음"
      ],
      "metadata": {
        "id": "Qla-iYbqSW5m"
      },
      "id": "Qla-iYbqSW5m"
    },
    {
      "cell_type": "code",
      "source": [
        "thresholds = [0.3,0.33,0.36,0.39,0.42,0.45,0.48,0.50]\n",
        "pred_proba = lr_clf.predict_proba(X_test)\n",
        "\n",
        "#get_eval_by_threshold(y_test,pred_proba[:,1].reshape(-1,1),thresholds)\n",
        "# 왜 에러뜨지.."
      ],
      "metadata": {
        "colab": {
          "base_uri": "https://localhost:8080/",
          "height": 453
        },
        "id": "TmPH3olRTed3",
        "outputId": "e54a4b79-a7f3-4645-d396-abdc81691d48"
      },
      "id": "TmPH3olRTed3",
      "execution_count": null,
      "outputs": [
        {
          "output_type": "stream",
          "name": "stdout",
          "text": [
            "임곗값: 0.3\n"
          ]
        },
        {
          "output_type": "stream",
          "name": "stderr",
          "text": [
            "/usr/local/lib/python3.7/dist-packages/sklearn/metrics/_ranking.py:546: FutureWarning: Arrays of bytes/strings is being converted to decimal numbers if dtype='numeric'. This behavior is deprecated in 0.24 and will be removed in 1.1 (renaming of 0.26). Please convert your data to numeric values explicitly instead.\n",
            "  y_score = check_array(y_score, ensure_2d=False)\n"
          ]
        },
        {
          "output_type": "error",
          "ename": "ValueError",
          "evalue": "ignored",
          "traceback": [
            "\u001b[0;31m---------------------------------------------------------------------------\u001b[0m",
            "\u001b[0;31mValueError\u001b[0m                                Traceback (most recent call last)",
            "\u001b[0;32m<ipython-input-59-15ddb5697820>\u001b[0m in \u001b[0;36m<module>\u001b[0;34m()\u001b[0m\n\u001b[1;32m      2\u001b[0m \u001b[0mpred_proba\u001b[0m \u001b[0;34m=\u001b[0m \u001b[0mlr_clf\u001b[0m\u001b[0;34m.\u001b[0m\u001b[0mpredict_proba\u001b[0m\u001b[0;34m(\u001b[0m\u001b[0mX_test\u001b[0m\u001b[0;34m)\u001b[0m\u001b[0;34m\u001b[0m\u001b[0;34m\u001b[0m\u001b[0m\n\u001b[1;32m      3\u001b[0m \u001b[0;34m\u001b[0m\u001b[0m\n\u001b[0;32m----> 4\u001b[0;31m \u001b[0mget_eval_by_threshold\u001b[0m\u001b[0;34m(\u001b[0m\u001b[0my_test\u001b[0m\u001b[0;34m,\u001b[0m \u001b[0mpred_proba\u001b[0m\u001b[0;34m[\u001b[0m\u001b[0;34m:\u001b[0m\u001b[0;34m,\u001b[0m\u001b[0;36m1\u001b[0m\u001b[0;34m]\u001b[0m\u001b[0;34m.\u001b[0m\u001b[0mreshape\u001b[0m\u001b[0;34m(\u001b[0m\u001b[0;34m-\u001b[0m\u001b[0;36m1\u001b[0m\u001b[0;34m,\u001b[0m\u001b[0;36m1\u001b[0m\u001b[0;34m)\u001b[0m\u001b[0;34m,\u001b[0m \u001b[0mthresholds\u001b[0m\u001b[0;34m)\u001b[0m\u001b[0;34m\u001b[0m\u001b[0;34m\u001b[0m\u001b[0m\n\u001b[0m\u001b[1;32m      5\u001b[0m \u001b[0;31m#get_eval_by_threshold(y_test,pred_proba[:,1].reshape(-1,1),thresholds)\u001b[0m\u001b[0;34m\u001b[0m\u001b[0;34m\u001b[0m\u001b[0;34m\u001b[0m\u001b[0m\n",
            "\u001b[0;32m<ipython-input-15-92741eec0102>\u001b[0m in \u001b[0;36mget_eval_by_threshold\u001b[0;34m(y_test, pred_proba_c1, thresholds)\u001b[0m\n\u001b[1;32m      8\u001b[0m     \u001b[0mcustom_predict\u001b[0m \u001b[0;34m=\u001b[0m \u001b[0mbinarizer\u001b[0m\u001b[0;34m.\u001b[0m\u001b[0mtransform\u001b[0m\u001b[0;34m(\u001b[0m\u001b[0mpred_proba_c1\u001b[0m\u001b[0;34m)\u001b[0m\u001b[0;34m\u001b[0m\u001b[0;34m\u001b[0m\u001b[0m\n\u001b[1;32m      9\u001b[0m     \u001b[0mprint\u001b[0m\u001b[0;34m(\u001b[0m\u001b[0;34m'임곗값:'\u001b[0m\u001b[0;34m,\u001b[0m \u001b[0mcustom_threshold\u001b[0m\u001b[0;34m)\u001b[0m\u001b[0;34m\u001b[0m\u001b[0;34m\u001b[0m\u001b[0m\n\u001b[0;32m---> 10\u001b[0;31m     \u001b[0mget_clf_eval\u001b[0m\u001b[0;34m(\u001b[0m\u001b[0my_test\u001b[0m\u001b[0;34m,\u001b[0m \u001b[0mcustom_predict\u001b[0m\u001b[0;34m)\u001b[0m\u001b[0;34m\u001b[0m\u001b[0;34m\u001b[0m\u001b[0m\n\u001b[0m\u001b[1;32m     11\u001b[0m \u001b[0;34m\u001b[0m\u001b[0m\n\u001b[1;32m     12\u001b[0m \u001b[0mget_eval_by_threshold\u001b[0m\u001b[0;34m(\u001b[0m\u001b[0my_test\u001b[0m\u001b[0;34m,\u001b[0m \u001b[0mpred_proba\u001b[0m\u001b[0;34m[\u001b[0m\u001b[0;34m:\u001b[0m\u001b[0;34m,\u001b[0m\u001b[0;36m1\u001b[0m\u001b[0;34m]\u001b[0m\u001b[0;34m.\u001b[0m\u001b[0mreshape\u001b[0m\u001b[0;34m(\u001b[0m\u001b[0;34m-\u001b[0m\u001b[0;36m1\u001b[0m\u001b[0;34m,\u001b[0m\u001b[0;36m1\u001b[0m\u001b[0;34m)\u001b[0m\u001b[0;34m,\u001b[0m \u001b[0mthresholds\u001b[0m\u001b[0;34m)\u001b[0m\u001b[0;34m\u001b[0m\u001b[0;34m\u001b[0m\u001b[0m\n",
            "\u001b[0;32m<ipython-input-23-27864daa1cac>\u001b[0m in \u001b[0;36mget_clf_eval\u001b[0;34m(y_test, pred, pred_proba)\u001b[0m\n\u001b[1;32m      8\u001b[0m \u001b[0;34m\u001b[0m\u001b[0m\n\u001b[1;32m      9\u001b[0m   \u001b[0;31m# ROC-AUC 구하는 로직 추가\u001b[0m\u001b[0;34m\u001b[0m\u001b[0;34m\u001b[0m\u001b[0;34m\u001b[0m\u001b[0m\n\u001b[0;32m---> 10\u001b[0;31m   \u001b[0mroc_auc\u001b[0m \u001b[0;34m=\u001b[0m \u001b[0mroc_auc_score\u001b[0m\u001b[0;34m(\u001b[0m\u001b[0my_test\u001b[0m\u001b[0;34m,\u001b[0m \u001b[0mpred_proba\u001b[0m\u001b[0;34m)\u001b[0m\u001b[0;34m\u001b[0m\u001b[0;34m\u001b[0m\u001b[0m\n\u001b[0m\u001b[1;32m     11\u001b[0m \u001b[0;34m\u001b[0m\u001b[0m\n\u001b[1;32m     12\u001b[0m   \u001b[0mprint\u001b[0m\u001b[0;34m(\u001b[0m\u001b[0;34m'오차행렬'\u001b[0m\u001b[0;34m)\u001b[0m\u001b[0;34m\u001b[0m\u001b[0;34m\u001b[0m\u001b[0m\n",
            "\u001b[0;32m/usr/local/lib/python3.7/dist-packages/sklearn/metrics/_ranking.py\u001b[0m in \u001b[0;36mroc_auc_score\u001b[0;34m(y_true, y_score, average, sample_weight, max_fpr, multi_class, labels)\u001b[0m\n\u001b[1;32m    544\u001b[0m     \u001b[0my_type\u001b[0m \u001b[0;34m=\u001b[0m \u001b[0mtype_of_target\u001b[0m\u001b[0;34m(\u001b[0m\u001b[0my_true\u001b[0m\u001b[0;34m)\u001b[0m\u001b[0;34m\u001b[0m\u001b[0;34m\u001b[0m\u001b[0m\n\u001b[1;32m    545\u001b[0m     \u001b[0my_true\u001b[0m \u001b[0;34m=\u001b[0m \u001b[0mcheck_array\u001b[0m\u001b[0;34m(\u001b[0m\u001b[0my_true\u001b[0m\u001b[0;34m,\u001b[0m \u001b[0mensure_2d\u001b[0m\u001b[0;34m=\u001b[0m\u001b[0;32mFalse\u001b[0m\u001b[0;34m,\u001b[0m \u001b[0mdtype\u001b[0m\u001b[0;34m=\u001b[0m\u001b[0;32mNone\u001b[0m\u001b[0;34m)\u001b[0m\u001b[0;34m\u001b[0m\u001b[0;34m\u001b[0m\u001b[0m\n\u001b[0;32m--> 546\u001b[0;31m     \u001b[0my_score\u001b[0m \u001b[0;34m=\u001b[0m \u001b[0mcheck_array\u001b[0m\u001b[0;34m(\u001b[0m\u001b[0my_score\u001b[0m\u001b[0;34m,\u001b[0m \u001b[0mensure_2d\u001b[0m\u001b[0;34m=\u001b[0m\u001b[0;32mFalse\u001b[0m\u001b[0;34m)\u001b[0m\u001b[0;34m\u001b[0m\u001b[0;34m\u001b[0m\u001b[0m\n\u001b[0m\u001b[1;32m    547\u001b[0m \u001b[0;34m\u001b[0m\u001b[0m\n\u001b[1;32m    548\u001b[0m     if y_type == \"multiclass\" or (\n",
            "\u001b[0;32m/usr/local/lib/python3.7/dist-packages/sklearn/utils/validation.py\u001b[0m in \u001b[0;36mcheck_array\u001b[0;34m(array, accept_sparse, accept_large_sparse, dtype, order, copy, force_all_finite, ensure_2d, allow_nd, ensure_min_samples, ensure_min_features, estimator)\u001b[0m\n\u001b[1;32m    798\u001b[0m \u001b[0;34m\u001b[0m\u001b[0m\n\u001b[1;32m    799\u001b[0m         \u001b[0;32mif\u001b[0m \u001b[0mforce_all_finite\u001b[0m\u001b[0;34m:\u001b[0m\u001b[0;34m\u001b[0m\u001b[0;34m\u001b[0m\u001b[0m\n\u001b[0;32m--> 800\u001b[0;31m             \u001b[0m_assert_all_finite\u001b[0m\u001b[0;34m(\u001b[0m\u001b[0marray\u001b[0m\u001b[0;34m,\u001b[0m \u001b[0mallow_nan\u001b[0m\u001b[0;34m=\u001b[0m\u001b[0mforce_all_finite\u001b[0m \u001b[0;34m==\u001b[0m \u001b[0;34m\"allow-nan\"\u001b[0m\u001b[0;34m)\u001b[0m\u001b[0;34m\u001b[0m\u001b[0;34m\u001b[0m\u001b[0m\n\u001b[0m\u001b[1;32m    801\u001b[0m \u001b[0;34m\u001b[0m\u001b[0m\n\u001b[1;32m    802\u001b[0m     \u001b[0;32mif\u001b[0m \u001b[0mensure_min_samples\u001b[0m \u001b[0;34m>\u001b[0m \u001b[0;36m0\u001b[0m\u001b[0;34m:\u001b[0m\u001b[0;34m\u001b[0m\u001b[0;34m\u001b[0m\u001b[0m\n",
            "\u001b[0;32m/usr/local/lib/python3.7/dist-packages/sklearn/utils/validation.py\u001b[0m in \u001b[0;36m_assert_all_finite\u001b[0;34m(X, allow_nan, msg_dtype)\u001b[0m\n\u001b[1;32m    114\u001b[0m             raise ValueError(\n\u001b[1;32m    115\u001b[0m                 msg_err.format(\n\u001b[0;32m--> 116\u001b[0;31m                     \u001b[0mtype_err\u001b[0m\u001b[0;34m,\u001b[0m \u001b[0mmsg_dtype\u001b[0m \u001b[0;32mif\u001b[0m \u001b[0mmsg_dtype\u001b[0m \u001b[0;32mis\u001b[0m \u001b[0;32mnot\u001b[0m \u001b[0;32mNone\u001b[0m \u001b[0;32melse\u001b[0m \u001b[0mX\u001b[0m\u001b[0;34m.\u001b[0m\u001b[0mdtype\u001b[0m\u001b[0;34m\u001b[0m\u001b[0;34m\u001b[0m\u001b[0m\n\u001b[0m\u001b[1;32m    117\u001b[0m                 )\n\u001b[1;32m    118\u001b[0m             )\n",
            "\u001b[0;31mValueError\u001b[0m: Input contains NaN, infinity or a value too large for dtype('float64')."
          ]
        }
      ]
    },
    {
      "cell_type": "code",
      "source": [
        "# 임곗값을 0.48로 설정한 Binarizer 생성\n",
        "binarizer = Binarizer(threshold=0.48)\n",
        "\n",
        "# 위에서 구한 lr_clf의 predict_proba() 예측확률 array에서 1에 해당하는 칼럼값을 Binarizer 변환\n",
        "pred_th_048 = binarizer.fit_transform(pred_proba[:,1].reshape(-1,1))\n",
        "\n",
        "get_clf_eval(y_test,pred_th_048, pred_proba[:,1])"
      ],
      "metadata": {
        "colab": {
          "base_uri": "https://localhost:8080/"
        },
        "id": "nfiaA-7oTxx4",
        "outputId": "eeab502f-1824-47ee-a5b7-f530669511e1"
      },
      "id": "nfiaA-7oTxx4",
      "execution_count": null,
      "outputs": [
        {
          "output_type": "stream",
          "name": "stdout",
          "text": [
            "오차행렬\n",
            "[[88 12]\n",
            " [19 35]]\n",
            "정확도:0.7987, 정밀도:0.7447, 재현율:0.6481, F1:0.6931, AUC:0.8433\n"
          ]
        }
      ]
    },
    {
      "cell_type": "code",
      "source": [],
      "metadata": {
        "id": "EblwFVP3X2mI"
      },
      "id": "EblwFVP3X2mI",
      "execution_count": null,
      "outputs": []
    }
  ],
  "metadata": {
    "kernelspec": {
      "display_name": "Python 3 (ipykernel)",
      "language": "python",
      "name": "python3"
    },
    "language_info": {
      "codemirror_mode": {
        "name": "ipython",
        "version": 3
      },
      "file_extension": ".py",
      "mimetype": "text/x-python",
      "name": "python",
      "nbconvert_exporter": "python",
      "pygments_lexer": "ipython3",
      "version": "3.9.12"
    },
    "colab": {
      "provenance": [],
      "include_colab_link": true
    }
  },
  "nbformat": 4,
  "nbformat_minor": 5
}
